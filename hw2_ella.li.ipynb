{
 "cells": [
  {
   "cell_type": "markdown",
   "id": "c9868453-44b5-4599-8568-a0a5d41975af",
   "metadata": {},
   "source": [
    "#### ellali"
   ]
  },
  {
   "cell_type": "code",
   "execution_count": 1,
   "id": "d8953c1a-d4d8-48a3-9059-913cc49bdd99",
   "metadata": {},
   "outputs": [],
   "source": [
    "import pandas as pd\n",
    "from tqdm import tqdm"
   ]
  },
  {
   "cell_type": "code",
   "execution_count": 2,
   "id": "361abc24-e601-4e3b-8f2c-d4a4d8e8e23b",
   "metadata": {},
   "outputs": [],
   "source": [
    "import warnings\n",
    "warnings.filterwarnings(\"ignore\")"
   ]
  },
  {
   "cell_type": "code",
   "execution_count": 3,
   "id": "a8a27310-c235-4557-8d28-594eb9842980",
   "metadata": {},
   "outputs": [],
   "source": [
    "# read data"
   ]
  },
  {
   "cell_type": "code",
   "execution_count": 4,
   "id": "0c448114-0e38-4e3e-b16a-5712cd048af9",
   "metadata": {},
   "outputs": [],
   "source": [
    "train_label = pd.read_csv('WN23_data/WN23_PA_training_labels.txt', sep=',')"
   ]
  },
  {
   "cell_type": "code",
   "execution_count": 5,
   "id": "c21cbcb6-d9bb-49d6-9d5c-69604d9d1526",
   "metadata": {},
   "outputs": [
    {
     "data": {
      "text/html": [
       "<div>\n",
       "<style scoped>\n",
       "    .dataframe tbody tr th:only-of-type {\n",
       "        vertical-align: middle;\n",
       "    }\n",
       "\n",
       "    .dataframe tbody tr th {\n",
       "        vertical-align: top;\n",
       "    }\n",
       "\n",
       "    .dataframe thead th {\n",
       "        text-align: right;\n",
       "    }\n",
       "</style>\n",
       "<table border=\"1\" class=\"dataframe\">\n",
       "  <thead>\n",
       "    <tr style=\"text-align: right;\">\n",
       "      <th></th>\n",
       "      <th>TweetID</th>\n",
       "      <th>Label</th>\n",
       "    </tr>\n",
       "  </thead>\n",
       "  <tbody>\n",
       "    <tr>\n",
       "      <th>0</th>\n",
       "      <td>1001</td>\n",
       "      <td>0</td>\n",
       "    </tr>\n",
       "    <tr>\n",
       "      <th>1</th>\n",
       "      <td>1002</td>\n",
       "      <td>1</td>\n",
       "    </tr>\n",
       "    <tr>\n",
       "      <th>2</th>\n",
       "      <td>1003</td>\n",
       "      <td>0</td>\n",
       "    </tr>\n",
       "    <tr>\n",
       "      <th>3</th>\n",
       "      <td>1004</td>\n",
       "      <td>0</td>\n",
       "    </tr>\n",
       "    <tr>\n",
       "      <th>4</th>\n",
       "      <td>1005</td>\n",
       "      <td>0</td>\n",
       "    </tr>\n",
       "    <tr>\n",
       "      <th>...</th>\n",
       "      <td>...</td>\n",
       "      <td>...</td>\n",
       "    </tr>\n",
       "    <tr>\n",
       "      <th>3995</th>\n",
       "      <td>4996</td>\n",
       "      <td>1</td>\n",
       "    </tr>\n",
       "    <tr>\n",
       "      <th>3996</th>\n",
       "      <td>4997</td>\n",
       "      <td>1</td>\n",
       "    </tr>\n",
       "    <tr>\n",
       "      <th>3997</th>\n",
       "      <td>4998</td>\n",
       "      <td>1</td>\n",
       "    </tr>\n",
       "    <tr>\n",
       "      <th>3998</th>\n",
       "      <td>4999</td>\n",
       "      <td>0</td>\n",
       "    </tr>\n",
       "    <tr>\n",
       "      <th>3999</th>\n",
       "      <td>5000</td>\n",
       "      <td>0</td>\n",
       "    </tr>\n",
       "  </tbody>\n",
       "</table>\n",
       "<p>4000 rows × 2 columns</p>\n",
       "</div>"
      ],
      "text/plain": [
       "      TweetID  Label\n",
       "0        1001      0\n",
       "1        1002      1\n",
       "2        1003      0\n",
       "3        1004      0\n",
       "4        1005      0\n",
       "...       ...    ...\n",
       "3995     4996      1\n",
       "3996     4997      1\n",
       "3997     4998      1\n",
       "3998     4999      0\n",
       "3999     5000      0\n",
       "\n",
       "[4000 rows x 2 columns]"
      ]
     },
     "execution_count": 5,
     "metadata": {},
     "output_type": "execute_result"
    }
   ],
   "source": [
    "train_label"
   ]
  },
  {
   "cell_type": "code",
   "execution_count": 6,
   "id": "8f3c8353-7fdb-4e5a-be58-1d8cc99d9c66",
   "metadata": {},
   "outputs": [
    {
     "data": {
      "text/html": [
       "<div>\n",
       "<style scoped>\n",
       "    .dataframe tbody tr th:only-of-type {\n",
       "        vertical-align: middle;\n",
       "    }\n",
       "\n",
       "    .dataframe tbody tr th {\n",
       "        vertical-align: top;\n",
       "    }\n",
       "\n",
       "    .dataframe thead th {\n",
       "        text-align: right;\n",
       "    }\n",
       "</style>\n",
       "<table border=\"1\" class=\"dataframe\">\n",
       "  <thead>\n",
       "    <tr style=\"text-align: right;\">\n",
       "      <th></th>\n",
       "      <th>TweetID</th>\n",
       "      <th>TimeOfDay</th>\n",
       "      <th>Tweet</th>\n",
       "    </tr>\n",
       "  </thead>\n",
       "  <tbody>\n",
       "    <tr>\n",
       "      <th>0</th>\n",
       "      <td>1001</td>\n",
       "      <td>17</td>\n",
       "      <td>The Bulldogs have been selected to finish 4th ...</td>\n",
       "    </tr>\n",
       "    <tr>\n",
       "      <th>1</th>\n",
       "      <td>1002</td>\n",
       "      <td>22</td>\n",
       "      <td>Played disc golf. Got a tattoo. Heading to Det...</td>\n",
       "    </tr>\n",
       "    <tr>\n",
       "      <th>2</th>\n",
       "      <td>1003</td>\n",
       "      <td>16</td>\n",
       "      <td>Sunday big football game I'm gunna gather all ...</td>\n",
       "    </tr>\n",
       "    <tr>\n",
       "      <th>3</th>\n",
       "      <td>1004</td>\n",
       "      <td>20</td>\n",
       "      <td>Despite my resolution to be nicer to Scooter t...</td>\n",
       "    </tr>\n",
       "    <tr>\n",
       "      <th>4</th>\n",
       "      <td>1005</td>\n",
       "      <td>18</td>\n",
       "      <td>Reassigned by Michigan Runner to shoot Goodlif...</td>\n",
       "    </tr>\n",
       "    <tr>\n",
       "      <th>...</th>\n",
       "      <td>...</td>\n",
       "      <td>...</td>\n",
       "      <td>...</td>\n",
       "    </tr>\n",
       "    <tr>\n",
       "      <th>3995</th>\n",
       "      <td>4996</td>\n",
       "      <td>23</td>\n",
       "      <td>completed his food and exercise diary for 5/01...</td>\n",
       "    </tr>\n",
       "    <tr>\n",
       "      <th>3996</th>\n",
       "      <td>4997</td>\n",
       "      <td>22</td>\n",
       "      <td>It's a great feeling when all of your pants ar...</td>\n",
       "    </tr>\n",
       "    <tr>\n",
       "      <th>3997</th>\n",
       "      <td>4998</td>\n",
       "      <td>22</td>\n",
       "      <td>Pretty freaking excited for fishing season rig...</td>\n",
       "    </tr>\n",
       "    <tr>\n",
       "      <th>3998</th>\n",
       "      <td>4999</td>\n",
       "      <td>23</td>\n",
       "      <td>Ok, now that's just funny. Õ¬Õ__ Social coach...</td>\n",
       "    </tr>\n",
       "    <tr>\n",
       "      <th>3999</th>\n",
       "      <td>5000</td>\n",
       "      <td>2</td>\n",
       "      <td>Hour and a half wait at slows = fail. Two spot...</td>\n",
       "    </tr>\n",
       "  </tbody>\n",
       "</table>\n",
       "<p>4000 rows × 3 columns</p>\n",
       "</div>"
      ],
      "text/plain": [
       "      TweetID  TimeOfDay                                              Tweet\n",
       "0        1001         17  The Bulldogs have been selected to finish 4th ...\n",
       "1        1002         22  Played disc golf. Got a tattoo. Heading to Det...\n",
       "2        1003         16  Sunday big football game I'm gunna gather all ...\n",
       "3        1004         20  Despite my resolution to be nicer to Scooter t...\n",
       "4        1005         18  Reassigned by Michigan Runner to shoot Goodlif...\n",
       "...       ...        ...                                                ...\n",
       "3995     4996         23  completed his food and exercise diary for 5/01...\n",
       "3996     4997         22  It's a great feeling when all of your pants ar...\n",
       "3997     4998         22  Pretty freaking excited for fishing season rig...\n",
       "3998     4999         23  Ok, now that's just funny. Õ¬Õ__ Social coach...\n",
       "3999     5000          2  Hour and a half wait at slows = fail. Two spot...\n",
       "\n",
       "[4000 rows x 3 columns]"
      ]
     },
     "execution_count": 6,
     "metadata": {},
     "output_type": "execute_result"
    }
   ],
   "source": [
    "train_tweets = pd.read_csv('WN23_data/WN23_PA_training_tweets.txt', sep=',', encoding = 'ISO-8859-1')\n",
    "train_tweets"
   ]
  },
  {
   "cell_type": "code",
   "execution_count": 7,
   "id": "1bb9b917-7e9a-48f8-a79f-052da8fda68e",
   "metadata": {},
   "outputs": [],
   "source": [
    "# join together"
   ]
  },
  {
   "cell_type": "code",
   "execution_count": 8,
   "id": "54aa5518-a778-408d-a6bf-3dcfca651aae",
   "metadata": {},
   "outputs": [
    {
     "data": {
      "text/html": [
       "<div>\n",
       "<style scoped>\n",
       "    .dataframe tbody tr th:only-of-type {\n",
       "        vertical-align: middle;\n",
       "    }\n",
       "\n",
       "    .dataframe tbody tr th {\n",
       "        vertical-align: top;\n",
       "    }\n",
       "\n",
       "    .dataframe thead th {\n",
       "        text-align: right;\n",
       "    }\n",
       "</style>\n",
       "<table border=\"1\" class=\"dataframe\">\n",
       "  <thead>\n",
       "    <tr style=\"text-align: right;\">\n",
       "      <th></th>\n",
       "      <th>TweetID</th>\n",
       "      <th>TimeOfDay</th>\n",
       "      <th>Tweet</th>\n",
       "      <th>Label</th>\n",
       "    </tr>\n",
       "  </thead>\n",
       "  <tbody>\n",
       "    <tr>\n",
       "      <th>0</th>\n",
       "      <td>1001</td>\n",
       "      <td>17</td>\n",
       "      <td>The Bulldogs have been selected to finish 4th ...</td>\n",
       "      <td>0</td>\n",
       "    </tr>\n",
       "    <tr>\n",
       "      <th>1</th>\n",
       "      <td>1002</td>\n",
       "      <td>22</td>\n",
       "      <td>Played disc golf. Got a tattoo. Heading to Det...</td>\n",
       "      <td>1</td>\n",
       "    </tr>\n",
       "    <tr>\n",
       "      <th>2</th>\n",
       "      <td>1003</td>\n",
       "      <td>16</td>\n",
       "      <td>Sunday big football game I'm gunna gather all ...</td>\n",
       "      <td>0</td>\n",
       "    </tr>\n",
       "    <tr>\n",
       "      <th>3</th>\n",
       "      <td>1004</td>\n",
       "      <td>20</td>\n",
       "      <td>Despite my resolution to be nicer to Scooter t...</td>\n",
       "      <td>0</td>\n",
       "    </tr>\n",
       "    <tr>\n",
       "      <th>4</th>\n",
       "      <td>1005</td>\n",
       "      <td>18</td>\n",
       "      <td>Reassigned by Michigan Runner to shoot Goodlif...</td>\n",
       "      <td>0</td>\n",
       "    </tr>\n",
       "    <tr>\n",
       "      <th>...</th>\n",
       "      <td>...</td>\n",
       "      <td>...</td>\n",
       "      <td>...</td>\n",
       "      <td>...</td>\n",
       "    </tr>\n",
       "    <tr>\n",
       "      <th>3995</th>\n",
       "      <td>4996</td>\n",
       "      <td>23</td>\n",
       "      <td>completed his food and exercise diary for 5/01...</td>\n",
       "      <td>1</td>\n",
       "    </tr>\n",
       "    <tr>\n",
       "      <th>3996</th>\n",
       "      <td>4997</td>\n",
       "      <td>22</td>\n",
       "      <td>It's a great feeling when all of your pants ar...</td>\n",
       "      <td>1</td>\n",
       "    </tr>\n",
       "    <tr>\n",
       "      <th>3997</th>\n",
       "      <td>4998</td>\n",
       "      <td>22</td>\n",
       "      <td>Pretty freaking excited for fishing season rig...</td>\n",
       "      <td>1</td>\n",
       "    </tr>\n",
       "    <tr>\n",
       "      <th>3998</th>\n",
       "      <td>4999</td>\n",
       "      <td>23</td>\n",
       "      <td>Ok, now that's just funny. Õ¬Õ__ Social coach...</td>\n",
       "      <td>0</td>\n",
       "    </tr>\n",
       "    <tr>\n",
       "      <th>3999</th>\n",
       "      <td>5000</td>\n",
       "      <td>2</td>\n",
       "      <td>Hour and a half wait at slows = fail. Two spot...</td>\n",
       "      <td>0</td>\n",
       "    </tr>\n",
       "  </tbody>\n",
       "</table>\n",
       "<p>4000 rows × 4 columns</p>\n",
       "</div>"
      ],
      "text/plain": [
       "      TweetID  TimeOfDay                                              Tweet  \\\n",
       "0        1001         17  The Bulldogs have been selected to finish 4th ...   \n",
       "1        1002         22  Played disc golf. Got a tattoo. Heading to Det...   \n",
       "2        1003         16  Sunday big football game I'm gunna gather all ...   \n",
       "3        1004         20  Despite my resolution to be nicer to Scooter t...   \n",
       "4        1005         18  Reassigned by Michigan Runner to shoot Goodlif...   \n",
       "...       ...        ...                                                ...   \n",
       "3995     4996         23  completed his food and exercise diary for 5/01...   \n",
       "3996     4997         22  It's a great feeling when all of your pants ar...   \n",
       "3997     4998         22  Pretty freaking excited for fishing season rig...   \n",
       "3998     4999         23  Ok, now that's just funny. Õ¬Õ__ Social coach...   \n",
       "3999     5000          2  Hour and a half wait at slows = fail. Two spot...   \n",
       "\n",
       "      Label  \n",
       "0         0  \n",
       "1         1  \n",
       "2         0  \n",
       "3         0  \n",
       "4         0  \n",
       "...     ...  \n",
       "3995      1  \n",
       "3996      1  \n",
       "3997      1  \n",
       "3998      0  \n",
       "3999      0  \n",
       "\n",
       "[4000 rows x 4 columns]"
      ]
     },
     "execution_count": 8,
     "metadata": {},
     "output_type": "execute_result"
    }
   ],
   "source": [
    "train_data = pd.merge(train_tweets, train_label, on=\"TweetID\", how=\"left\")\n",
    "train_data"
   ]
  },
  {
   "cell_type": "code",
   "execution_count": 9,
   "id": "26724259-e6e1-4a0a-924c-26e93315d31b",
   "metadata": {},
   "outputs": [
    {
     "data": {
      "text/html": [
       "<div>\n",
       "<style scoped>\n",
       "    .dataframe tbody tr th:only-of-type {\n",
       "        vertical-align: middle;\n",
       "    }\n",
       "\n",
       "    .dataframe tbody tr th {\n",
       "        vertical-align: top;\n",
       "    }\n",
       "\n",
       "    .dataframe thead th {\n",
       "        text-align: right;\n",
       "    }\n",
       "</style>\n",
       "<table border=\"1\" class=\"dataframe\">\n",
       "  <thead>\n",
       "    <tr style=\"text-align: right;\">\n",
       "      <th></th>\n",
       "      <th>TweetID</th>\n",
       "      <th>Tweet</th>\n",
       "      <th>Label</th>\n",
       "    </tr>\n",
       "  </thead>\n",
       "  <tbody>\n",
       "    <tr>\n",
       "      <th>0</th>\n",
       "      <td>1001</td>\n",
       "      <td>The Bulldogs have been selected to finish 4th ...</td>\n",
       "      <td>0</td>\n",
       "    </tr>\n",
       "    <tr>\n",
       "      <th>1</th>\n",
       "      <td>1002</td>\n",
       "      <td>Played disc golf. Got a tattoo. Heading to Det...</td>\n",
       "      <td>1</td>\n",
       "    </tr>\n",
       "    <tr>\n",
       "      <th>2</th>\n",
       "      <td>1003</td>\n",
       "      <td>Sunday big football game I'm gunna gather all ...</td>\n",
       "      <td>0</td>\n",
       "    </tr>\n",
       "    <tr>\n",
       "      <th>3</th>\n",
       "      <td>1004</td>\n",
       "      <td>Despite my resolution to be nicer to Scooter t...</td>\n",
       "      <td>0</td>\n",
       "    </tr>\n",
       "    <tr>\n",
       "      <th>4</th>\n",
       "      <td>1005</td>\n",
       "      <td>Reassigned by Michigan Runner to shoot Goodlif...</td>\n",
       "      <td>0</td>\n",
       "    </tr>\n",
       "    <tr>\n",
       "      <th>...</th>\n",
       "      <td>...</td>\n",
       "      <td>...</td>\n",
       "      <td>...</td>\n",
       "    </tr>\n",
       "    <tr>\n",
       "      <th>3995</th>\n",
       "      <td>4996</td>\n",
       "      <td>completed his food and exercise diary for 5/01...</td>\n",
       "      <td>1</td>\n",
       "    </tr>\n",
       "    <tr>\n",
       "      <th>3996</th>\n",
       "      <td>4997</td>\n",
       "      <td>It's a great feeling when all of your pants ar...</td>\n",
       "      <td>1</td>\n",
       "    </tr>\n",
       "    <tr>\n",
       "      <th>3997</th>\n",
       "      <td>4998</td>\n",
       "      <td>Pretty freaking excited for fishing season rig...</td>\n",
       "      <td>1</td>\n",
       "    </tr>\n",
       "    <tr>\n",
       "      <th>3998</th>\n",
       "      <td>4999</td>\n",
       "      <td>Ok, now that's just funny. Õ¬Õ__ Social coach...</td>\n",
       "      <td>0</td>\n",
       "    </tr>\n",
       "    <tr>\n",
       "      <th>3999</th>\n",
       "      <td>5000</td>\n",
       "      <td>Hour and a half wait at slows = fail. Two spot...</td>\n",
       "      <td>0</td>\n",
       "    </tr>\n",
       "  </tbody>\n",
       "</table>\n",
       "<p>4000 rows × 3 columns</p>\n",
       "</div>"
      ],
      "text/plain": [
       "      TweetID                                              Tweet  Label\n",
       "0        1001  The Bulldogs have been selected to finish 4th ...      0\n",
       "1        1002  Played disc golf. Got a tattoo. Heading to Det...      1\n",
       "2        1003  Sunday big football game I'm gunna gather all ...      0\n",
       "3        1004  Despite my resolution to be nicer to Scooter t...      0\n",
       "4        1005  Reassigned by Michigan Runner to shoot Goodlif...      0\n",
       "...       ...                                                ...    ...\n",
       "3995     4996  completed his food and exercise diary for 5/01...      1\n",
       "3996     4997  It's a great feeling when all of your pants ar...      1\n",
       "3997     4998  Pretty freaking excited for fishing season rig...      1\n",
       "3998     4999  Ok, now that's just funny. Õ¬Õ__ Social coach...      0\n",
       "3999     5000  Hour and a half wait at slows = fail. Two spot...      0\n",
       "\n",
       "[4000 rows x 3 columns]"
      ]
     },
     "execution_count": 9,
     "metadata": {},
     "output_type": "execute_result"
    }
   ],
   "source": [
    "train_data = train_data.drop(\"TimeOfDay\", axis=1)\n",
    "train_data"
   ]
  },
  {
   "cell_type": "code",
   "execution_count": 10,
   "id": "f52553d0-4ea3-4267-bf61-496fb2683345",
   "metadata": {},
   "outputs": [],
   "source": [
    "# split 8/2\n",
    "\n",
    "from sklearn.model_selection import train_test_split\n",
    "\n",
    "X_train, X_valid, y_train, y_valid = train_test_split(train_data['Tweet'], train_data['Label'], test_size=0.2, random_state=42)"
   ]
  },
  {
   "cell_type": "code",
   "execution_count": 11,
   "id": "636ee033-1cef-433e-af16-0abff1561083",
   "metadata": {},
   "outputs": [
    {
     "data": {
      "text/plain": [
       "3994    \"@FamousNegro: When the whole squad turnt __\\n...\n",
       "423     First you get a swimming pool full of Starbuck...\n",
       "2991    I'm 25 what y'all want me to keep running arou...\n",
       "1221    #NowPlaying \"Midnight on the Run\" by BoomBox f...\n",
       "506     Excited for my first day as the KHMS dance coa...\n",
       "                              ...                        \n",
       "1130    Of course one of my fav movies and Sarah &amp;...\n",
       "1294    @stjude  Getting prepped for the Advokate 1 mi...\n",
       "860                            I need to go back to dance\n",
       "3507    I had 3 volleyball games yesterday all in a ro...\n",
       "3174    We missed Saturday, time to make up some for f...\n",
       "Name: Tweet, Length: 3200, dtype: object"
      ]
     },
     "execution_count": 11,
     "metadata": {},
     "output_type": "execute_result"
    }
   ],
   "source": [
    "X_train"
   ]
  },
  {
   "cell_type": "code",
   "execution_count": 12,
   "id": "73490648-2393-48b9-9cb4-0f4444d03095",
   "metadata": {},
   "outputs": [],
   "source": [
    "# clean\n",
    "\n",
    "import nltk\n",
    "from nltk import word_tokenize    \n",
    "from nltk.stem.porter import PorterStemmer\n",
    "from nltk.stem import WordNetLemmatizer\n",
    "from nltk.corpus import stopwords\n",
    "import re\n",
    "\n",
    "\n",
    "stop_words = set(stopwords.words('english'))"
   ]
  },
  {
   "cell_type": "code",
   "execution_count": 13,
   "id": "1d3724a0-32ec-4529-ae0e-08329ff80372",
   "metadata": {},
   "outputs": [],
   "source": [
    "def clean_data(data):\n",
    "    \n",
    "    data = re.sub(\"@[A-Za-z0-9_]+\",\"\", data)\n",
    "    data = re.sub(r\"(?:\\@|https?\\://)\\S+\", '', data)\n",
    "    data = re.sub(r'[^\\w\\s]', '', data)\n",
    "    data = word_tokenize(data.lower())\n",
    "    words = [word for word in data if word.isalpha() and word not in stop_words] # Remove stop words and non-alphabetic characters\n",
    "    stemmer = PorterStemmer()\n",
    "    words = [stemmer.stem(word) for word in words]\n",
    "    wordnet_lemmatizer = WordNetLemmatizer()\n",
    "    words = [wordnet_lemmatizer.lemmatize(word) for word in words]\n",
    "    \n",
    "    cleaned_sentence = \" \".join(words)\n",
    "    \n",
    "    return cleaned_sentence"
   ]
  },
  {
   "cell_type": "code",
   "execution_count": 14,
   "id": "f61fcdc3-6afb-4fe1-9878-4c24b584b44b",
   "metadata": {},
   "outputs": [
    {
     "data": {
      "text/plain": [
       "3994              whole squad turnt walk brandon basement\n",
       "423             first get swim pool full starbuck diiiiiv\n",
       "2991          im yall want keep run around like im someth\n",
       "1221      nowplay midnight run boombox vision backbeat äª\n",
       "506     excit first day khm danc coach gon na pretti cute\n",
       "                              ...                        \n",
       "1130    cours one fav movi sarah amp mike first danc h...\n",
       "1294    get prep advok run week good luck michigan run...\n",
       "860                                     need go back danc\n",
       "3507    volleybal game yesterday row im sore cant even...\n",
       "3174    miss saturday time make fit fun zumba bokwa di...\n",
       "Name: Tweet, Length: 3200, dtype: object"
      ]
     },
     "execution_count": 14,
     "metadata": {},
     "output_type": "execute_result"
    }
   ],
   "source": [
    "X_train = X_train.apply(clean_data)\n",
    "X_train"
   ]
  },
  {
   "cell_type": "code",
   "execution_count": 15,
   "id": "9b72c25e-417f-4535-b851-1fe5e3975ede",
   "metadata": {},
   "outputs": [
    {
     "data": {
      "text/plain": [
       "555         bit as tri walk ici drive way go along winter\n",
       "3491       rain rain stay away want abl see kickbal today\n",
       "527     yoga south lawn detroit institut art detroit m...\n",
       "3925    packard plant polish origin archiv digitaltrav...\n",
       "2989                 complet mi run runkeep check runkeep\n",
       "                              ...                        \n",
       "1922    marriott surf club part timeshar resort realli...\n",
       "865     think know kpop minwookevilvalenstrif super ju...\n",
       "3943                                 mention cook egg lol\n",
       "1642    ron howard alway comfort voic carri episod arr...\n",
       "2483    two week real nfl season start cant wait guess...\n",
       "Name: Tweet, Length: 800, dtype: object"
      ]
     },
     "execution_count": 15,
     "metadata": {},
     "output_type": "execute_result"
    }
   ],
   "source": [
    "X_valid = X_valid.apply(clean_data)\n",
    "X_valid"
   ]
  },
  {
   "cell_type": "code",
   "execution_count": null,
   "id": "6865ae6f-af00-494c-9a80-2451267a2fcd",
   "metadata": {},
   "outputs": [],
   "source": []
  },
  {
   "cell_type": "code",
   "execution_count": 16,
   "id": "0f2f26de-30b8-445f-bcc0-61c700967b0e",
   "metadata": {},
   "outputs": [],
   "source": [
    "# feature extractor"
   ]
  },
  {
   "cell_type": "code",
   "execution_count": 17,
   "id": "fc022548-1739-4e6a-967d-f47fe1f3bfd2",
   "metadata": {},
   "outputs": [],
   "source": [
    "from sklearn.feature_extraction.text import TfidfVectorizer"
   ]
  },
  {
   "cell_type": "code",
   "execution_count": 18,
   "id": "613de3bd-52d9-4bfe-a497-5b48c6aae9de",
   "metadata": {},
   "outputs": [],
   "source": [
    "tfidf_vec = TfidfVectorizer(stop_words='english')\n",
    "X_train = tfidf_vec.fit_transform(X_train)\n",
    "X_valid = tfidf_vec.transform(X_valid)"
   ]
  },
  {
   "cell_type": "code",
   "execution_count": 19,
   "id": "85698125-5bf4-4ae2-872d-f9658004263c",
   "metadata": {},
   "outputs": [
    {
     "name": "stdout",
     "output_type": "stream",
     "text": [
      "shape of x_train features: (3200, 5998)\n",
      "shape of x_validation features: (800, 5998)\n",
      "word-index mapping dictionary: 5998\n"
     ]
    }
   ],
   "source": [
    "print('shape of x_train features:', X_train.shape)\n",
    "print('shape of x_validation features:', X_valid.shape)\n",
    "print('word-index mapping dictionary:', len(tfidf_vec.vocabulary_))"
   ]
  },
  {
   "cell_type": "code",
   "execution_count": null,
   "id": "a23293ad-7c08-44b6-953e-8076692de1fb",
   "metadata": {},
   "outputs": [],
   "source": []
  },
  {
   "cell_type": "code",
   "execution_count": null,
   "id": "13fa02ae-0d7d-4368-9561-2b74cff865a7",
   "metadata": {},
   "outputs": [],
   "source": []
  },
  {
   "cell_type": "code",
   "execution_count": 20,
   "id": "a8d2c3ba-f014-4b37-b363-0e3f88c1d9e8",
   "metadata": {},
   "outputs": [],
   "source": [
    "# model - classifier\n",
    "\n",
    "from sklearn.metrics import classification_report\n",
    "from sklearn import svm\n",
    "from sklearn.neural_network import MLPClassifier\n",
    "from sklearn.tree import DecisionTreeClassifier"
   ]
  },
  {
   "cell_type": "code",
   "execution_count": 44,
   "id": "1134f9ad-95dd-47e9-817b-53495e0f5a05",
   "metadata": {},
   "outputs": [
    {
     "name": "stdout",
     "output_type": "stream",
     "text": [
      "              precision    recall  f1-score   support\n",
      "\n",
      "           0       0.75      0.87      0.80       521\n",
      "           1       0.65      0.45      0.53       279\n",
      "\n",
      "    accuracy                           0.72       800\n",
      "   macro avg       0.70      0.66      0.67       800\n",
      "weighted avg       0.71      0.72      0.71       800\n",
      "\n"
     ]
    }
   ],
   "source": [
    "###### svm\n",
    "\n",
    "model_svm = svm.SVC(C=1, kernel='linear') \n",
    "model_svm.fit(X_train, y_train)\n",
    "y_pred = model_svm.predict(X_valid)\n",
    "\n",
    "report = classification_report(y_valid, y_pred)\n",
    "print(report)"
   ]
  },
  {
   "cell_type": "code",
   "execution_count": 22,
   "id": "6b032437-0bb2-455c-afb4-a1d4a5b8b6a8",
   "metadata": {},
   "outputs": [
    {
     "name": "stdout",
     "output_type": "stream",
     "text": [
      "              precision    recall  f1-score   support\n",
      "\n",
      "           0       0.67      0.98      0.80       521\n",
      "           1       0.73      0.11      0.20       279\n",
      "\n",
      "    accuracy                           0.68       800\n",
      "   macro avg       0.70      0.55      0.50       800\n",
      "weighted avg       0.69      0.68      0.59       800\n",
      "\n"
     ]
    }
   ],
   "source": [
    "from sklearn.naive_bayes import MultinomialNB\n",
    "\n",
    "model_nb = MultinomialNB()\n",
    "\n",
    "model_nb.fit(X_train, y_train)\n",
    "\n",
    "y_pred = model_nb.predict(X_valid)\n",
    "\n",
    "report = classification_report(y_valid, y_pred)\n",
    "print(report)"
   ]
  },
  {
   "cell_type": "code",
   "execution_count": 23,
   "id": "3a117e45-3eab-4aeb-b0a0-3aeb273082e9",
   "metadata": {},
   "outputs": [
    {
     "name": "stdout",
     "output_type": "stream",
     "text": [
      "Best hyperparameters:  {'C': 1, 'kernel': 'linear'}\n",
      "Best score:  0.76\n"
     ]
    }
   ],
   "source": [
    "####### svm hyper\n",
    "\n",
    "from sklearn.model_selection import GridSearchCV\n",
    "from sklearn.svm import SVC\n",
    "\n",
    "param_grid = {'C': [0.1, 1, 10], 'kernel': ['linear', 'rbf']}\n",
    "\n",
    "model_svm = SVC()\n",
    "\n",
    "grid_search = GridSearchCV(model_svm, param_grid, cv=5)\n",
    "\n",
    "grid_search.fit(X_train, y_train)\n",
    "\n",
    "print(\"Best hyperparameters: \", grid_search.best_params_)\n",
    "print(\"Best score: \", grid_search.best_score_)"
   ]
  },
  {
   "cell_type": "code",
   "execution_count": 24,
   "id": "d542a1f8-6d6e-4f3c-b426-0cda487b39b8",
   "metadata": {},
   "outputs": [
    {
     "name": "stdout",
     "output_type": "stream",
     "text": [
      "              precision    recall  f1-score   support\n",
      "\n",
      "           0       0.72      0.94      0.81       521\n",
      "           1       0.72      0.31      0.44       279\n",
      "\n",
      "    accuracy                           0.72       800\n",
      "   macro avg       0.72      0.62      0.62       800\n",
      "weighted avg       0.72      0.72      0.68       800\n",
      "\n"
     ]
    }
   ],
   "source": [
    "## logi\n",
    "\n",
    "from sklearn.linear_model import LogisticRegression\n",
    "from sklearn.metrics import classification_report\n",
    "\n",
    "model_lr = LogisticRegression()\n",
    "\n",
    "model_lr.fit(X_train, y_train)\n",
    "\n",
    "y_pred = model_lr.predict(X_valid)\n",
    "\n",
    "report = classification_report(y_valid, y_pred)\n",
    "print(report)"
   ]
  },
  {
   "cell_type": "code",
   "execution_count": 25,
   "id": "8eb0c7a3-9b78-4a7c-8503-87b3832ad166",
   "metadata": {},
   "outputs": [],
   "source": [
    "\n",
    "# param_grid = {\n",
    "#     'C': [0.1, 1, 10],\n",
    "#     'penalty': ['l1', 'l2'],\n",
    "#     'solver': ['liblinear', 'saga'],\n",
    "#     'max_iter': [100, 200, 500]\n",
    "# }\n",
    "\n",
    "\n",
    "# model_lr = LogisticRegression()\n",
    "\n",
    "# grid_search = GridSearchCV(model_lr, param_grid, cv=5)\n",
    "\n",
    "# grid_search.fit(X_train, y_train)\n",
    "\n",
    "# print(\"Best hyperparameters: \", grid_search.best_params_)\n",
    "# print(\"Best score: \", grid_search.best_score_)\n",
    "\n",
    "# best_model = grid_search.best_estimator_\n",
    "# y_pred = best_model.predict(X_valid)\n",
    "\n",
    "# report = classification_report(y_valid, y_pred)\n",
    "# print(report)"
   ]
  },
  {
   "cell_type": "code",
   "execution_count": 26,
   "id": "d0c5df0e-6f91-452c-b4c3-6be802929f02",
   "metadata": {},
   "outputs": [],
   "source": [
    "# # svc\n",
    "\n",
    "# from sklearn import svm\n",
    "# # Define the parameter grid to search over\n",
    "# param_grid = {'C': [0.1, 1, 10], 'kernel': ['linear', 'rbf']}\n",
    "\n",
    "# # Create an SVC classifier\n",
    "# model_svc = svm.SVC()\n",
    "\n",
    "# # Create a grid search object with 5-fold cross-validation\n",
    "# grid_search = GridSearchCV(model_svc, param_grid, cv=5)\n",
    "\n",
    "# # Fit the grid search object to the training data\n",
    "# grid_search.fit(X_train, y_train)\n",
    "\n",
    "# # Print the best hyperparameters and the best score\n",
    "# print(\"Best hyperparameters: \", grid_search.best_params_)\n",
    "# print(\"Best score: \", grid_search.best_score_)\n",
    "\n",
    "# # Make predictions on the validation set using the best model\n",
    "# best_model = grid_search.best_estimator_\n",
    "# y_pred = best_model.predict(X_valid)\n",
    "\n",
    "# # Compute the classification report for the best model\n",
    "# report = classification_report(y_valid, y_pred)\n",
    "# print(report)"
   ]
  },
  {
   "cell_type": "code",
   "execution_count": 27,
   "id": "204ed8db-29fc-4ae4-b3aa-d115ef0eb602",
   "metadata": {},
   "outputs": [],
   "source": [
    "# # mlp\n",
    "\n",
    "# from sklearn.neural_network import MLPClassifier\n",
    "\n",
    "# # Define the parameter grid to search over\n",
    "# param_grid = {\n",
    "#     'hidden_layer_sizes': [(10,), (50,), (100,)],\n",
    "#     'activation': ['relu', 'tanh', 'logistic'],\n",
    "#     'alpha': [0.1, 1, 10]\n",
    "# }\n",
    "\n",
    "# # Create an MLP classifier\n",
    "# model_mlp = MLPClassifier()\n",
    "\n",
    "# # Create a grid search object with 5-fold cross-validation\n",
    "# grid_search = GridSearchCV(model_mlp, param_grid, cv=5)\n",
    "\n",
    "# # Fit the grid search object to the training data\n",
    "# grid_search.fit(X_train, y_train)\n",
    "\n",
    "# # Print the best hyperparameters and the best score\n",
    "# print(\"Best hyperparameters: \", grid_search.best_params_)\n",
    "# print(\"Best score: \", grid_search.best_score_)\n",
    "\n",
    "# # Make predictions on the validation set using the best model\n",
    "# best_model = grid_search.best_estimator_\n",
    "# y_pred = best_model.predict(X_valid)\n",
    "\n",
    "# # Compute the classification report for the best model\n",
    "# report = classification_report(y_valid, y_pred)\n",
    "# print(report)"
   ]
  },
  {
   "cell_type": "code",
   "execution_count": 28,
   "id": "42153c48-b584-4d87-8f44-3465258c8903",
   "metadata": {},
   "outputs": [],
   "source": [
    "# # dt\n",
    "\n",
    "# from sklearn.tree import DecisionTreeClassifier\n",
    "\n",
    "# # Define the parameter grid to search over\n",
    "# param_grid = {'max_depth': [5, 10, 20, None], 'min_samples_split': [2, 5, 10]}\n",
    "\n",
    "# # Create a Decision Tree classifier\n",
    "# model_dt = DecisionTreeClassifier()\n",
    "\n",
    "# # Create a grid search object with 5-fold cross-validation\n",
    "# grid_search = GridSearchCV(model_dt, param_grid, cv=5)\n",
    "\n",
    "# # Fit the grid search object to the training data\n",
    "# grid_search.fit(X_train, y_train)\n",
    "\n",
    "# # Print the best hyperparameters and the best score\n",
    "# print(\"Best hyperparameters: \", grid_search.best_params_)\n",
    "# print(\"Best score: \", grid_search.best_score_)\n",
    "\n",
    "# # Make predictions on the validation set using the best model\n",
    "# best_model = grid_search.best_estimator_\n",
    "# y_pred = best_model.predict(X_valid)\n",
    "\n",
    "# # Compute the classification report for the best model\n",
    "# report = classification_report(y_valid, y_pred)\n",
    "# print(report)"
   ]
  },
  {
   "cell_type": "code",
   "execution_count": 29,
   "id": "cc38a460-841f-45dd-a448-7e669470c9e7",
   "metadata": {},
   "outputs": [],
   "source": [
    "# # rf\n",
    "\n",
    "# from sklearn.ensemble import RandomForestClassifier\n",
    "\n",
    "# param_grid = {'n_estimators': [50, 100, 200], 'max_depth': [5, 10, 20, None]}\n",
    "\n",
    "# model_rf = RandomForestClassifier()\n",
    "\n",
    "# grid_search = GridSearchCV(model_rf, param_grid, cv=5)\n",
    "\n",
    "# grid_search.fit(X_train, y_train)\n",
    "\n",
    "# print(\"Best hyperparameters: \", grid_search.best_params_)\n",
    "# print(\"Best score: \", grid_search.best_score_)\n",
    "\n",
    "# best_model = grid_search.best_estimator_\n",
    "# y_pred = best_model.predict(X_valid)\n",
    "\n",
    "# report = classification_report(y_valid, y_pred)\n",
    "# print(report)"
   ]
  },
  {
   "cell_type": "code",
   "execution_count": null,
   "id": "2c82acdb-0807-4ea5-94ef-501f88e29c39",
   "metadata": {},
   "outputs": [],
   "source": []
  },
  {
   "cell_type": "code",
   "execution_count": 30,
   "id": "21d0bb97-f43c-451c-a769-2fa6bc3e1c48",
   "metadata": {},
   "outputs": [],
   "source": [
    "#==============================================================================================="
   ]
  },
  {
   "cell_type": "code",
   "execution_count": null,
   "id": "f7993518-6a66-4d6d-be52-e1547a5bcbb6",
   "metadata": {},
   "outputs": [],
   "source": []
  },
  {
   "cell_type": "code",
   "execution_count": 22,
   "id": "ec8abeb7-8291-4f8e-ac49-98fc3d61837c",
   "metadata": {},
   "outputs": [
    {
     "name": "stdout",
     "output_type": "stream",
     "text": [
      "              precision    recall  f1-score   support\n",
      "\n",
      "           0       0.73      0.91      0.81       521\n",
      "           1       0.69      0.38      0.49       279\n",
      "\n",
      "    accuracy                           0.73       800\n",
      "   macro avg       0.71      0.65      0.65       800\n",
      "weighted avg       0.72      0.72      0.70       800\n",
      "\n"
     ]
    }
   ],
   "source": [
    "###### mlp\n",
    "\n",
    "model_mlp = MLPClassifier(alpha=1, max_iter=500)\n",
    "model_mlp.fit(X_train, y_train)\n",
    "y_pred = model_mlp.predict(X_valid)\n",
    "\n",
    "report = classification_report(y_valid, y_pred)\n",
    "print(report)"
   ]
  },
  {
   "cell_type": "code",
   "execution_count": 31,
   "id": "f339af0b-9810-4c5f-801c-6303e5da464a",
   "metadata": {},
   "outputs": [
    {
     "name": "stdout",
     "output_type": "stream",
     "text": [
      "              precision    recall  f1-score   support\n",
      "\n",
      "           0       0.77      0.78      0.78       521\n",
      "           1       0.59      0.57      0.58       279\n",
      "\n",
      "    accuracy                           0.71       800\n",
      "   macro avg       0.68      0.68      0.68       800\n",
      "weighted avg       0.71      0.71      0.71       800\n",
      "\n"
     ]
    }
   ],
   "source": [
    "###### DT\n",
    "\n",
    "model_tree = DecisionTreeClassifier()\n",
    "model_tree.fit(X_train, y_train)\n",
    "y_pred = model_tree.predict(X_valid)\n",
    "\n",
    "report = classification_report(y_valid, y_pred)\n",
    "print(report)"
   ]
  },
  {
   "cell_type": "code",
   "execution_count": 32,
   "id": "00c86690-df75-4f66-9af7-0c4dd5f484aa",
   "metadata": {},
   "outputs": [],
   "source": [
    "####### adaboost"
   ]
  },
  {
   "cell_type": "code",
   "execution_count": 33,
   "id": "c64e2e5b-3531-420b-8a9c-b0f71030b258",
   "metadata": {},
   "outputs": [
    {
     "name": "stdout",
     "output_type": "stream",
     "text": [
      "              precision    recall  f1-score   support\n",
      "\n",
      "           0       0.74      0.87      0.80       521\n",
      "           1       0.63      0.43      0.51       279\n",
      "\n",
      "    accuracy                           0.71       800\n",
      "   macro avg       0.69      0.65      0.65       800\n",
      "weighted avg       0.70      0.71      0.70       800\n",
      "\n"
     ]
    }
   ],
   "source": [
    "from sklearn.tree import DecisionTreeClassifier\n",
    "from sklearn.ensemble import AdaBoostClassifier\n",
    "from sklearn.metrics import classification_report\n",
    "\n",
    "tree = DecisionTreeClassifier()\n",
    "\n",
    "boost = AdaBoostClassifier(base_estimator=tree)\n",
    "\n",
    "boost.fit(X_train, y_train)\n",
    "\n",
    "y_pred = boost.predict(X_valid)\n",
    "\n",
    "report = classification_report(y_valid, y_pred)\n",
    "print(report)"
   ]
  },
  {
   "cell_type": "code",
   "execution_count": 34,
   "id": "b1fe5d0f-3a0c-4340-a48c-c65863879125",
   "metadata": {},
   "outputs": [],
   "source": [
    "# !pip install imblearn\n"
   ]
  },
  {
   "cell_type": "code",
   "execution_count": 35,
   "id": "384d0719-8dbc-41d9-97d0-8f5cdfc83956",
   "metadata": {},
   "outputs": [
    {
     "name": "stdout",
     "output_type": "stream",
     "text": [
      "              precision    recall  f1-score   support\n",
      "\n",
      "           0       0.77      0.75      0.76       521\n",
      "           1       0.55      0.57      0.56       279\n",
      "\n",
      "    accuracy                           0.69       800\n",
      "   macro avg       0.66      0.66      0.66       800\n",
      "weighted avg       0.69      0.69      0.69       800\n",
      "\n"
     ]
    }
   ],
   "source": [
    "######## SMOTE\n",
    "\n",
    "from imblearn.over_sampling import SMOTE\n",
    "\n",
    "smote = SMOTE(random_state=42)\n",
    "X_train_resampled, y_train_resampled = smote.fit_resample(X_train, y_train)\n",
    "clf = DecisionTreeClassifier()\n",
    "clf.fit(X_train_resampled, y_train_resampled)\n",
    "y_pred = clf.predict(X_valid)\n",
    "\n",
    "report = classification_report(y_valid, y_pred)\n",
    "print(report)"
   ]
  },
  {
   "cell_type": "code",
   "execution_count": null,
   "id": "272fa4b2-e743-4f05-9e78-07257d130865",
   "metadata": {},
   "outputs": [],
   "source": []
  },
  {
   "cell_type": "code",
   "execution_count": null,
   "id": "19e65dde-2b8a-4df1-a95c-482ca7ac35fa",
   "metadata": {},
   "outputs": [],
   "source": []
  },
  {
   "cell_type": "code",
   "execution_count": null,
   "id": "699fa0fc-5b15-4cd4-8faf-67d99ac85b86",
   "metadata": {},
   "outputs": [],
   "source": []
  },
  {
   "cell_type": "code",
   "execution_count": null,
   "id": "c67996d7-1f0d-4b8d-b990-ecb1e360d93d",
   "metadata": {},
   "outputs": [],
   "source": []
  },
  {
   "cell_type": "code",
   "execution_count": 36,
   "id": "a2eb67e0-c5bd-4624-8543-0485189efcf1",
   "metadata": {},
   "outputs": [],
   "source": [
    "# test set"
   ]
  },
  {
   "cell_type": "code",
   "execution_count": 41,
   "id": "bbd053db-bd5d-4851-9272-5adc031e3361",
   "metadata": {},
   "outputs": [
    {
     "data": {
      "text/html": [
       "<div>\n",
       "<style scoped>\n",
       "    .dataframe tbody tr th:only-of-type {\n",
       "        vertical-align: middle;\n",
       "    }\n",
       "\n",
       "    .dataframe tbody tr th {\n",
       "        vertical-align: top;\n",
       "    }\n",
       "\n",
       "    .dataframe thead th {\n",
       "        text-align: right;\n",
       "    }\n",
       "</style>\n",
       "<table border=\"1\" class=\"dataframe\">\n",
       "  <thead>\n",
       "    <tr style=\"text-align: right;\">\n",
       "      <th></th>\n",
       "      <th>TweetID</th>\n",
       "      <th>TimeOfDay</th>\n",
       "      <th>Tweet</th>\n",
       "    </tr>\n",
       "  </thead>\n",
       "  <tbody>\n",
       "    <tr>\n",
       "      <th>0</th>\n",
       "      <td>5001</td>\n",
       "      <td>19</td>\n",
       "      <td>MI Playmakers - Green 46, FABE 24, 5th Grade -...</td>\n",
       "    </tr>\n",
       "    <tr>\n",
       "      <th>1</th>\n",
       "      <td>5002</td>\n",
       "      <td>22</td>\n",
       "      <td>I biked 2.46 mi with @mapmyride. Check out my ...</td>\n",
       "    </tr>\n",
       "    <tr>\n",
       "      <th>2</th>\n",
       "      <td>5003</td>\n",
       "      <td>20</td>\n",
       "      <td>@Jacob_Nash yes I do, it's just I said hi Best...</td>\n",
       "    </tr>\n",
       "    <tr>\n",
       "      <th>3</th>\n",
       "      <td>5004</td>\n",
       "      <td>20</td>\n",
       "      <td>Countless hours of house hunting has taught me...</td>\n",
       "    </tr>\n",
       "    <tr>\n",
       "      <th>4</th>\n",
       "      <td>5005</td>\n",
       "      <td>23</td>\n",
       "      <td>1 year ago today, Nik Wallenda walked across t...</td>\n",
       "    </tr>\n",
       "    <tr>\n",
       "      <th>...</th>\n",
       "      <td>...</td>\n",
       "      <td>...</td>\n",
       "      <td>...</td>\n",
       "    </tr>\n",
       "    <tr>\n",
       "      <th>995</th>\n",
       "      <td>5996</td>\n",
       "      <td>22</td>\n",
       "      <td>When you wonder why people are staring and you...</td>\n",
       "    </tr>\n",
       "    <tr>\n",
       "      <th>996</th>\n",
       "      <td>5997</td>\n",
       "      <td>7</td>\n",
       "      <td>Brutal killing of a samba queen exposes ...</td>\n",
       "    </tr>\n",
       "    <tr>\n",
       "      <th>997</th>\n",
       "      <td>5998</td>\n",
       "      <td>1</td>\n",
       "      <td>You're so cavalier, because you're lost before...</td>\n",
       "    </tr>\n",
       "    <tr>\n",
       "      <th>998</th>\n",
       "      <td>5999</td>\n",
       "      <td>2</td>\n",
       "      <td>House hunting is on hold for a little bit ¨ü__</td>\n",
       "    </tr>\n",
       "    <tr>\n",
       "      <th>999</th>\n",
       "      <td>6000</td>\n",
       "      <td>14</td>\n",
       "      <td>Never put on cologne right after getting a bea...</td>\n",
       "    </tr>\n",
       "  </tbody>\n",
       "</table>\n",
       "<p>1000 rows × 3 columns</p>\n",
       "</div>"
      ],
      "text/plain": [
       "     TweetID  TimeOfDay                                              Tweet\n",
       "0       5001         19  MI Playmakers - Green 46, FABE 24, 5th Grade -...\n",
       "1       5002         22  I biked 2.46 mi with @mapmyride. Check out my ...\n",
       "2       5003         20  @Jacob_Nash yes I do, it's just I said hi Best...\n",
       "3       5004         20  Countless hours of house hunting has taught me...\n",
       "4       5005         23  1 year ago today, Nik Wallenda walked across t...\n",
       "..       ...        ...                                                ...\n",
       "995     5996         22  When you wonder why people are staring and you...\n",
       "996     5997          7  Brutal killing of a samba queen exposes ...\n",
       "997     5998          1  You're so cavalier, because you're lost before...\n",
       "998     5999          2   House hunting is on hold for a little bit ¨ü__\n",
       "999     6000         14  Never put on cologne right after getting a bea...\n",
       "\n",
       "[1000 rows x 3 columns]"
      ]
     },
     "execution_count": 41,
     "metadata": {},
     "output_type": "execute_result"
    }
   ],
   "source": [
    "test_data = pd.read_csv('WN23_data/WN23_PA_test_tweets.txt', sep=',', encoding='iso-8859-1')\n",
    "tweet_id = test_data['TweetID']\n",
    "test_data"
   ]
  },
  {
   "cell_type": "code",
   "execution_count": 42,
   "id": "fcf4eebc-224d-4af1-b61b-68f47b20b4b3",
   "metadata": {},
   "outputs": [],
   "source": [
    "# clean and feature extract\n",
    "\n",
    "test_tweets = test_data['Tweet']\n",
    "test_tweets = test_tweets.apply(clean_data)\n",
    "test_tweets = tfidf_vec.transform(test_tweets)\n"
   ]
  },
  {
   "cell_type": "code",
   "execution_count": 45,
   "id": "076cdc08-939d-464d-9f5c-00481f2c331f",
   "metadata": {},
   "outputs": [],
   "source": [
    "# get prediction \n",
    "\n",
    "prediction = model_svm.predict(test_tweets)"
   ]
  },
  {
   "cell_type": "code",
   "execution_count": 46,
   "id": "ca40f48f-394b-4dc7-8786-a8846826a807",
   "metadata": {},
   "outputs": [
    {
     "data": {
      "text/plain": [
       "0      5001\n",
       "1      5002\n",
       "2      5003\n",
       "3      5004\n",
       "4      5005\n",
       "       ... \n",
       "995    5996\n",
       "996    5997\n",
       "997    5998\n",
       "998    5999\n",
       "999    6000\n",
       "Name: TweetID, Length: 1000, dtype: int64"
      ]
     },
     "execution_count": 46,
     "metadata": {},
     "output_type": "execute_result"
    }
   ],
   "source": [
    "tweet_id"
   ]
  },
  {
   "cell_type": "code",
   "execution_count": 47,
   "id": "1f4ebbc4-2cab-4f72-852b-e4293e766e94",
   "metadata": {},
   "outputs": [
    {
     "data": {
      "text/html": [
       "<div>\n",
       "<style scoped>\n",
       "    .dataframe tbody tr th:only-of-type {\n",
       "        vertical-align: middle;\n",
       "    }\n",
       "\n",
       "    .dataframe tbody tr th {\n",
       "        vertical-align: top;\n",
       "    }\n",
       "\n",
       "    .dataframe thead th {\n",
       "        text-align: right;\n",
       "    }\n",
       "</style>\n",
       "<table border=\"1\" class=\"dataframe\">\n",
       "  <thead>\n",
       "    <tr style=\"text-align: right;\">\n",
       "      <th></th>\n",
       "      <th>TweetID</th>\n",
       "      <th>Label</th>\n",
       "    </tr>\n",
       "  </thead>\n",
       "  <tbody>\n",
       "    <tr>\n",
       "      <th>0</th>\n",
       "      <td>5001</td>\n",
       "      <td>1</td>\n",
       "    </tr>\n",
       "    <tr>\n",
       "      <th>1</th>\n",
       "      <td>5002</td>\n",
       "      <td>1</td>\n",
       "    </tr>\n",
       "    <tr>\n",
       "      <th>2</th>\n",
       "      <td>5003</td>\n",
       "      <td>0</td>\n",
       "    </tr>\n",
       "    <tr>\n",
       "      <th>3</th>\n",
       "      <td>5004</td>\n",
       "      <td>0</td>\n",
       "    </tr>\n",
       "    <tr>\n",
       "      <th>4</th>\n",
       "      <td>5005</td>\n",
       "      <td>0</td>\n",
       "    </tr>\n",
       "    <tr>\n",
       "      <th>...</th>\n",
       "      <td>...</td>\n",
       "      <td>...</td>\n",
       "    </tr>\n",
       "    <tr>\n",
       "      <th>995</th>\n",
       "      <td>5996</td>\n",
       "      <td>0</td>\n",
       "    </tr>\n",
       "    <tr>\n",
       "      <th>996</th>\n",
       "      <td>5997</td>\n",
       "      <td>0</td>\n",
       "    </tr>\n",
       "    <tr>\n",
       "      <th>997</th>\n",
       "      <td>5998</td>\n",
       "      <td>0</td>\n",
       "    </tr>\n",
       "    <tr>\n",
       "      <th>998</th>\n",
       "      <td>5999</td>\n",
       "      <td>0</td>\n",
       "    </tr>\n",
       "    <tr>\n",
       "      <th>999</th>\n",
       "      <td>6000</td>\n",
       "      <td>0</td>\n",
       "    </tr>\n",
       "  </tbody>\n",
       "</table>\n",
       "<p>1000 rows × 2 columns</p>\n",
       "</div>"
      ],
      "text/plain": [
       "     TweetID  Label\n",
       "0       5001      1\n",
       "1       5002      1\n",
       "2       5003      0\n",
       "3       5004      0\n",
       "4       5005      0\n",
       "..       ...    ...\n",
       "995     5996      0\n",
       "996     5997      0\n",
       "997     5998      0\n",
       "998     5999      0\n",
       "999     6000      0\n",
       "\n",
       "[1000 rows x 2 columns]"
      ]
     },
     "execution_count": 47,
     "metadata": {},
     "output_type": "execute_result"
    }
   ],
   "source": [
    "result = pd.DataFrame({'TweetID': tweet_id, 'Label': prediction})\n",
    "result"
   ]
  },
  {
   "cell_type": "code",
   "execution_count": 48,
   "id": "1f402836-df0a-4f52-a32e-85eb62ae711c",
   "metadata": {},
   "outputs": [],
   "source": [
    "result.to_csv('result_svm_newwwww.csv', index=False)"
   ]
  },
  {
   "cell_type": "code",
   "execution_count": null,
   "id": "0351c3f6-d5bf-446c-92ee-eee07d11b3b0",
   "metadata": {},
   "outputs": [],
   "source": []
  }
 ],
 "metadata": {
  "kernelspec": {
   "display_name": "Python 3 (ipykernel)",
   "language": "python",
   "name": "python3"
  },
  "language_info": {
   "codemirror_mode": {
    "name": "ipython",
    "version": 3
   },
   "file_extension": ".py",
   "mimetype": "text/x-python",
   "name": "python",
   "nbconvert_exporter": "python",
   "pygments_lexer": "ipython3",
   "version": "3.9.12"
  }
 },
 "nbformat": 4,
 "nbformat_minor": 5
}
