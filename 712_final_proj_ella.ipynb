{
 "cells": [
  {
   "cell_type": "code",
   "execution_count": 1,
   "id": "aa0391cd-3d98-4c66-8198-7d16934a73ba",
   "metadata": {},
   "outputs": [],
   "source": [
    "# import packages and settings\n",
    "\n",
    "import pandas as pd\n",
    "import numpy as np\n",
    "from tqdm import tqdm\n",
    "from imblearn.over_sampling import RandomOverSampler\n",
    "\n",
    "\n",
    "import matplotlib.pyplot as plt\n",
    "import seaborn as sns\n",
    "\n",
    "from sklearn.feature_extraction.text import TfidfVectorizer\n",
    "from sklearn.manifold import TSNE\n",
    "\n",
    "import nltk\n",
    "from nltk import word_tokenize    \n",
    "from nltk.stem.porter import PorterStemmer\n",
    "from nltk.stem import WordNetLemmatizer\n",
    "from nltk.corpus import stopwords\n",
    "import re\n",
    "\n",
    "\n",
    "import warnings\n",
    "warnings.filterwarnings(\"ignore\")"
   ]
  },
  {
   "cell_type": "code",
   "execution_count": null,
   "id": "05a849c6-03c4-490a-9649-648437cb977a",
   "metadata": {},
   "outputs": [],
   "source": []
  },
  {
   "cell_type": "code",
   "execution_count": 2,
   "id": "09e7069e-1265-40b5-ba05-5e0af49b0dc9",
   "metadata": {},
   "outputs": [],
   "source": [
    "# read data"
   ]
  },
  {
   "cell_type": "code",
   "execution_count": 3,
   "id": "5266d80f-8713-4bd8-ab70-c412c86d5c6a",
   "metadata": {},
   "outputs": [],
   "source": [
    "train_data = pd.read_csv('TaskA-TrainingSet.csv')"
   ]
  },
  {
   "cell_type": "code",
   "execution_count": 4,
   "id": "d40b8d16-99a9-4cbd-9bb4-1dd076a7ecfb",
   "metadata": {},
   "outputs": [],
   "source": [
    "valid_data = pd.read_csv('TaskA-ValidationSet.csv')"
   ]
  },
  {
   "cell_type": "code",
   "execution_count": 5,
   "id": "19a34d09-eb9c-41b0-9052-2cc9e35201d8",
   "metadata": {},
   "outputs": [
    {
     "data": {
      "text/html": [
       "<div>\n",
       "<style scoped>\n",
       "    .dataframe tbody tr th:only-of-type {\n",
       "        vertical-align: middle;\n",
       "    }\n",
       "\n",
       "    .dataframe tbody tr th {\n",
       "        vertical-align: top;\n",
       "    }\n",
       "\n",
       "    .dataframe thead th {\n",
       "        text-align: right;\n",
       "    }\n",
       "</style>\n",
       "<table border=\"1\" class=\"dataframe\">\n",
       "  <thead>\n",
       "    <tr style=\"text-align: right;\">\n",
       "      <th></th>\n",
       "      <th>ID</th>\n",
       "      <th>section_header</th>\n",
       "      <th>dialogue</th>\n",
       "    </tr>\n",
       "  </thead>\n",
       "  <tbody>\n",
       "    <tr>\n",
       "      <th>0</th>\n",
       "      <td>0</td>\n",
       "      <td>GENHX</td>\n",
       "      <td>Doctor: When did your pain begin? \\r\\nPatient:...</td>\n",
       "    </tr>\n",
       "    <tr>\n",
       "      <th>1</th>\n",
       "      <td>1</td>\n",
       "      <td>ROS</td>\n",
       "      <td>Doctor: Hey, bud. What brings you in today? \\r...</td>\n",
       "    </tr>\n",
       "    <tr>\n",
       "      <th>2</th>\n",
       "      <td>2</td>\n",
       "      <td>PASTMEDICALHX</td>\n",
       "      <td>Doctor: Has anything changed in your medical h...</td>\n",
       "    </tr>\n",
       "    <tr>\n",
       "      <th>3</th>\n",
       "      <td>3</td>\n",
       "      <td>MEDICATIONS</td>\n",
       "      <td>Doctor: How've you been treating your acne? \\r...</td>\n",
       "    </tr>\n",
       "    <tr>\n",
       "      <th>4</th>\n",
       "      <td>4</td>\n",
       "      <td>CC</td>\n",
       "      <td>Doctor: Have you been experiencing any mental ...</td>\n",
       "    </tr>\n",
       "    <tr>\n",
       "      <th>...</th>\n",
       "      <td>...</td>\n",
       "      <td>...</td>\n",
       "      <td>...</td>\n",
       "    </tr>\n",
       "    <tr>\n",
       "      <th>95</th>\n",
       "      <td>95</td>\n",
       "      <td>PROCEDURES</td>\n",
       "      <td>Doctor: How are you feeling?  \\r\\nPatient: I a...</td>\n",
       "    </tr>\n",
       "    <tr>\n",
       "      <th>96</th>\n",
       "      <td>96</td>\n",
       "      <td>ROS</td>\n",
       "      <td>Doctor: How has our little man being doing?\\r\\...</td>\n",
       "    </tr>\n",
       "    <tr>\n",
       "      <th>97</th>\n",
       "      <td>97</td>\n",
       "      <td>IMAGING</td>\n",
       "      <td>Doctor: Well, I have your E K G report, shows ...</td>\n",
       "    </tr>\n",
       "    <tr>\n",
       "      <th>98</th>\n",
       "      <td>98</td>\n",
       "      <td>IMMUNIZATIONS</td>\n",
       "      <td>Doctor: Good news! No need for any shots today...</td>\n",
       "    </tr>\n",
       "    <tr>\n",
       "      <th>99</th>\n",
       "      <td>99</td>\n",
       "      <td>ASSESSMENT</td>\n",
       "      <td>Doctor: I'm glad to hear that your Afib is und...</td>\n",
       "    </tr>\n",
       "  </tbody>\n",
       "</table>\n",
       "<p>100 rows × 3 columns</p>\n",
       "</div>"
      ],
      "text/plain": [
       "    ID section_header                                           dialogue\n",
       "0    0          GENHX  Doctor: When did your pain begin? \\r\\nPatient:...\n",
       "1    1            ROS  Doctor: Hey, bud. What brings you in today? \\r...\n",
       "2    2  PASTMEDICALHX  Doctor: Has anything changed in your medical h...\n",
       "3    3    MEDICATIONS  Doctor: How've you been treating your acne? \\r...\n",
       "4    4             CC  Doctor: Have you been experiencing any mental ...\n",
       "..  ..            ...                                                ...\n",
       "95  95     PROCEDURES  Doctor: How are you feeling?  \\r\\nPatient: I a...\n",
       "96  96            ROS  Doctor: How has our little man being doing?\\r\\...\n",
       "97  97        IMAGING  Doctor: Well, I have your E K G report, shows ...\n",
       "98  98  IMMUNIZATIONS  Doctor: Good news! No need for any shots today...\n",
       "99  99     ASSESSMENT  Doctor: I'm glad to hear that your Afib is und...\n",
       "\n",
       "[100 rows x 3 columns]"
      ]
     },
     "execution_count": 5,
     "metadata": {},
     "output_type": "execute_result"
    }
   ],
   "source": [
    "valid_data"
   ]
  },
  {
   "cell_type": "code",
   "execution_count": 6,
   "id": "991753b4-9041-4d82-9862-aa0f64321020",
   "metadata": {},
   "outputs": [
    {
     "data": {
      "text/html": [
       "<div>\n",
       "<style scoped>\n",
       "    .dataframe tbody tr th:only-of-type {\n",
       "        vertical-align: middle;\n",
       "    }\n",
       "\n",
       "    .dataframe tbody tr th {\n",
       "        vertical-align: top;\n",
       "    }\n",
       "\n",
       "    .dataframe thead th {\n",
       "        text-align: right;\n",
       "    }\n",
       "</style>\n",
       "<table border=\"1\" class=\"dataframe\">\n",
       "  <thead>\n",
       "    <tr style=\"text-align: right;\">\n",
       "      <th></th>\n",
       "      <th>ID</th>\n",
       "      <th>section_header</th>\n",
       "      <th>dialogue</th>\n",
       "    </tr>\n",
       "  </thead>\n",
       "  <tbody>\n",
       "    <tr>\n",
       "      <th>0</th>\n",
       "      <td>0</td>\n",
       "      <td>GENHX</td>\n",
       "      <td>Doctor: What brings you back into the clinic t...</td>\n",
       "    </tr>\n",
       "    <tr>\n",
       "      <th>1</th>\n",
       "      <td>1</td>\n",
       "      <td>GENHX</td>\n",
       "      <td>Doctor: How're you feeling today?  \\r\\nPatient...</td>\n",
       "    </tr>\n",
       "    <tr>\n",
       "      <th>2</th>\n",
       "      <td>2</td>\n",
       "      <td>GENHX</td>\n",
       "      <td>Doctor: Hello, miss. What is the reason for yo...</td>\n",
       "    </tr>\n",
       "    <tr>\n",
       "      <th>3</th>\n",
       "      <td>3</td>\n",
       "      <td>MEDICATIONS</td>\n",
       "      <td>Doctor: Are you taking any over the counter me...</td>\n",
       "    </tr>\n",
       "    <tr>\n",
       "      <th>4</th>\n",
       "      <td>4</td>\n",
       "      <td>CC</td>\n",
       "      <td>Doctor: Hi, how are you? \\r\\nPatient: I burned...</td>\n",
       "    </tr>\n",
       "    <tr>\n",
       "      <th>...</th>\n",
       "      <td>...</td>\n",
       "      <td>...</td>\n",
       "      <td>...</td>\n",
       "    </tr>\n",
       "    <tr>\n",
       "      <th>1196</th>\n",
       "      <td>1196</td>\n",
       "      <td>PASTSURGICAL</td>\n",
       "      <td>Doctor: Good morning, sir. \\r\\nPatient: Good m...</td>\n",
       "    </tr>\n",
       "    <tr>\n",
       "      <th>1197</th>\n",
       "      <td>1197</td>\n",
       "      <td>MEDICATIONS</td>\n",
       "      <td>Doctor: Okay, so let's go over your medication...</td>\n",
       "    </tr>\n",
       "    <tr>\n",
       "      <th>1198</th>\n",
       "      <td>1198</td>\n",
       "      <td>GENHX</td>\n",
       "      <td>Doctor: How are you doing today, sir? \\r\\nPati...</td>\n",
       "    </tr>\n",
       "    <tr>\n",
       "      <th>1199</th>\n",
       "      <td>1199</td>\n",
       "      <td>FAM/SOCHX</td>\n",
       "      <td>Doctor: Hi, how's it going? \\r\\nPatient: Not t...</td>\n",
       "    </tr>\n",
       "    <tr>\n",
       "      <th>1200</th>\n",
       "      <td>1200</td>\n",
       "      <td>FAM/SOCHX</td>\n",
       "      <td>Doctor: Looks like the nurse came in and asked...</td>\n",
       "    </tr>\n",
       "  </tbody>\n",
       "</table>\n",
       "<p>1201 rows × 3 columns</p>\n",
       "</div>"
      ],
      "text/plain": [
       "        ID section_header                                           dialogue\n",
       "0        0          GENHX  Doctor: What brings you back into the clinic t...\n",
       "1        1          GENHX  Doctor: How're you feeling today?  \\r\\nPatient...\n",
       "2        2          GENHX  Doctor: Hello, miss. What is the reason for yo...\n",
       "3        3    MEDICATIONS  Doctor: Are you taking any over the counter me...\n",
       "4        4             CC  Doctor: Hi, how are you? \\r\\nPatient: I burned...\n",
       "...    ...            ...                                                ...\n",
       "1196  1196   PASTSURGICAL  Doctor: Good morning, sir. \\r\\nPatient: Good m...\n",
       "1197  1197    MEDICATIONS  Doctor: Okay, so let's go over your medication...\n",
       "1198  1198          GENHX  Doctor: How are you doing today, sir? \\r\\nPati...\n",
       "1199  1199      FAM/SOCHX  Doctor: Hi, how's it going? \\r\\nPatient: Not t...\n",
       "1200  1200      FAM/SOCHX  Doctor: Looks like the nurse came in and asked...\n",
       "\n",
       "[1201 rows x 3 columns]"
      ]
     },
     "execution_count": 6,
     "metadata": {},
     "output_type": "execute_result"
    }
   ],
   "source": [
    "train_data"
   ]
  },
  {
   "cell_type": "markdown",
   "id": "35bd2c8d-4303-472a-ac69-6f99ee8c222b",
   "metadata": {},
   "source": [
    "Potential meanings for the classes:    \n",
    "* ALLERGY: Information about a patient's known allergies.\n",
    "* ASSESSMENT: A summary of a clinician's evaluation of a patient's condition.\n",
    "* CC: Chief Complaint, the primary reason for a patient's visit to a healthcare provider.\n",
    "* DIAGNOSIS: The identification of a disease or condition based on the patient's signs, symptoms, and test results.\n",
    "* DISPOSITION: The patient's status or plan after an encounter, such as discharge, admission, or transfer.\n",
    "* EDCOURSE: Emergency Department Course, a description of the patient's course of treatment in the emergency department.\n",
    "* EXAM: Physical examination findings or information about any examinations performed on the patient.\n",
    "* FAM/SOCHX: Family and Social History, information about a patient's family medical history and social background.\n",
    "* GENHX: General History, a summary of the patient's overall medical history.\n",
    "* GYNHX: Gynecological History, a summary of a female patient's reproductive and gynecological medical history.\n",
    "* IMAGING: Information about any imaging tests performed, such as X-rays, CT scans, or MRIs.\n",
    "* IMMUNIZATIONS: Information about a patient's vaccination history.\n",
    "* LABS: Information about laboratory tests and their results.\n",
    "* MEDICATIONS: Information about a patient's current and past medications.\n",
    "* OTHER_HISTORY: Any additional history information that doesn't fit into the other categories.\n",
    "* PASTMEDICALHX: Past Medical History, a record of a patient's previous health conditions and treatments.\n",
    "* PASTSURGICAL: Past Surgical History, a record of a patient's previous surgeries.\n",
    "* PLAN: The proposed course of action or treatment plan for a patient's condition.\n",
    "* PROCEDURES: Information about any medical procedures performed or planned for the patient.\n",
    "* ROS: Review of Systems, a systematic evaluation of a patient's major body systems."
   ]
  },
  {
   "cell_type": "code",
   "execution_count": 7,
   "id": "b7109f8b-5271-4ea6-b78f-d63e291821c4",
   "metadata": {},
   "outputs": [
    {
     "data": {
      "image/png": "[encoded data removed]",
      "text/plain": [
       "<Figure size 1200x800 with 1 Axes>"
      ]
     },
     "metadata": {},
     "output_type": "display_data"
    }
   ],
   "source": [
    "# EDA\n",
    "\n",
    "# Plot the number of data points for each section header\n",
    "plt.figure(figsize=(12, 8))\n",
    "sns.countplot(data=train_data, y='section_header', order=train_data['section_header'].value_counts().index, palette='coolwarm')\n",
    "plt.xlabel('Number of Data Points')\n",
    "plt.ylabel('Section Headers')\n",
    "plt.title('Number of Data Points per Section Header')\n",
    "plt.show()\n"
   ]
  },
  {
   "cell_type": "code",
   "execution_count": 8,
   "id": "e0c7a0c6-499c-4815-ae6f-3ea0c0eb7685",
   "metadata": {},
   "outputs": [
    {
     "data": {
      "image/png": "[encoded data removed]",
      "text/plain": [
       "<Figure size 1200x800 with 1 Axes>"
      ]
     },
     "metadata": {},
     "output_type": "display_data"
    }
   ],
   "source": [
    "plt.figure(figsize=(12, 8))\n",
    "plot = sns.countplot(data=train_data, y='section_header', order=train_data['section_header'].value_counts().index, palette='coolwarm')\n",
    "\n",
    "# Adding counts on plot\n",
    "for p in plot.patches:\n",
    "    width = p.get_width()\n",
    "    plt.text(width,  \n",
    "            p.get_y() + p.get_height() / 2, \n",
    "            '{:1.0f}'.format(width), \n",
    "            ha = 'left', \n",
    "            va = 'center')\n",
    "\n",
    "plt.xlabel('Number of Data Points')\n",
    "plt.ylabel('Section Headers')\n",
    "plt.title('Number of Data Points per Section Header')\n",
    "plt.tight_layout()\n",
    "plt.show()\n"
   ]
  },
  {
   "cell_type": "code",
   "execution_count": 34,
   "id": "4d5f6af9-16e7-4d2d-98b1-62be432a304a",
   "metadata": {},
   "outputs": [
    {
     "data": {
      "image/png": "[encoded data removed]",
      "text/plain": [
       "<Figure size 1200x600 with 1 Axes>"
      ]
     },
     "metadata": {},
     "output_type": "display_data"
    }
   ],
   "source": [
    "# Extract the dialogues and labels from the training data\n",
    "dialogues = train_data['dialogue'].tolist()\n",
    "labels = train_data['section_header'].tolist()\n",
    "\n",
    "# Transform the text data into numerical vectors\n",
    "tfidf_vectorizer = TfidfVectorizer(stop_words='english')\n",
    "dialogue_vectors = tfidf_vectorizer.fit_transform(dialogues)\n",
    "\n",
    "# Apply t-SNE \n",
    "tsne = TSNE(n_components=2, random_state=42)\n",
    "dialogue_tsne = tsne.fit_transform(dialogue_vectors.toarray())\n",
    "\n",
    "# Plot \n",
    "plt.figure(figsize=(12, 6))\n",
    "sns.scatterplot(x=dialogue_tsne[:, 0], y=dialogue_tsne[:, 1], hue=labels, palette='coolwarm')\n",
    "\n",
    "plt.xlabel('t-SNE Dimension 1')\n",
    "plt.ylabel('t-SNE Dimension 2')\n",
    "plt.title('t-SNE Visualization of Dialogue Data')\n",
    "plt.legend(bbox_to_anchor=(1.05, 1), loc='upper left', borderaxespad=0)\n",
    "plt.show()\n"
   ]
  },
  {
   "cell_type": "code",
   "execution_count": 7,
   "id": "ce502437-ffe0-45cf-b1db-d16f501973a8",
   "metadata": {},
   "outputs": [],
   "source": [
    "# count classes"
   ]
  },
  {
   "cell_type": "code",
   "execution_count": 8,
   "id": "a7c6a5fc-361f-4182-909b-ac10db73fd01",
   "metadata": {},
   "outputs": [
    {
     "data": {
      "text/plain": [
       "array(['ALLERGY', 'ASSESSMENT', 'CC', 'DIAGNOSIS', 'DISPOSITION',\n",
       "       'EDCOURSE', 'EXAM', 'FAM/SOCHX', 'GENHX', 'GYNHX', 'IMAGING',\n",
       "       'IMMUNIZATIONS', 'LABS', 'MEDICATIONS', 'OTHER_HISTORY',\n",
       "       'PASTMEDICALHX', 'PASTSURGICAL', 'PLAN', 'PROCEDURES', 'ROS'],\n",
       "      dtype=object)"
      ]
     },
     "execution_count": 8,
     "metadata": {},
     "output_type": "execute_result"
    }
   ],
   "source": [
    "np.unique(train_data['section_header'])"
   ]
  },
  {
   "cell_type": "code",
   "execution_count": 9,
   "id": "3debf3f0-b550-4c51-a65f-24cc87d147d2",
   "metadata": {},
   "outputs": [
    {
     "data": {
      "text/plain": [
       "20"
      ]
     },
     "execution_count": 9,
     "metadata": {},
     "output_type": "execute_result"
    }
   ],
   "source": [
    "len(np.unique(train_data['section_header']))"
   ]
  },
  {
   "cell_type": "code",
   "execution_count": 10,
   "id": "8f51570c-c4f9-48d2-aa17-664bb8d7f94c",
   "metadata": {},
   "outputs": [
    {
     "data": {
      "text/plain": [
       "20"
      ]
     },
     "execution_count": 10,
     "metadata": {},
     "output_type": "execute_result"
    }
   ],
   "source": [
    "len(np.unique(valid_data['section_header']))"
   ]
  },
  {
   "cell_type": "code",
   "execution_count": 11,
   "id": "d787fe11-dadf-438f-a422-a2899e75430b",
   "metadata": {},
   "outputs": [],
   "source": [
    "# assign train/ valid\n",
    "\n",
    "X_train = train_data['dialogue']\n",
    "y_train = train_data['section_header']\n",
    "\n",
    "X_valid = valid_data['dialogue']\n",
    "y_valid = valid_data['section_header']"
   ]
  },
  {
   "cell_type": "code",
   "execution_count": 12,
   "id": "602428ce-912c-411b-97d6-746f04062284",
   "metadata": {},
   "outputs": [],
   "source": [
    "# clean/ preprocess"
   ]
  },
  {
   "cell_type": "code",
   "execution_count": 13,
   "id": "7fb60d00-6300-49c6-947a-26cfe8fda4a8",
   "metadata": {},
   "outputs": [
    {
     "name": "stderr",
     "output_type": "stream",
     "text": [
      "[nltk_data] Downloading package stopwords to\n",
      "[nltk_data]     C:\\Users\\Jiaqi\\AppData\\Roaming\\nltk_data...\n",
      "[nltk_data]   Package stopwords is already up-to-date!\n",
      "[nltk_data] Downloading package punkt to\n",
      "[nltk_data]     C:\\Users\\Jiaqi\\AppData\\Roaming\\nltk_data...\n",
      "[nltk_data]   Package punkt is already up-to-date!\n",
      "[nltk_data] Downloading package wordnet to\n",
      "[nltk_data]     C:\\Users\\Jiaqi\\AppData\\Roaming\\nltk_data...\n",
      "[nltk_data]   Package wordnet is already up-to-date!\n"
     ]
    },
    {
     "data": {
      "text/plain": [
       "True"
      ]
     },
     "execution_count": 13,
     "metadata": {},
     "output_type": "execute_result"
    }
   ],
   "source": [
    "stop_words = set(stopwords.words('english'))\n",
    "\n",
    "nltk.download(\"stopwords\")\n",
    "nltk.download(\"punkt\")\n",
    "nltk.download(\"wordnet\")"
   ]
  },
  {
   "cell_type": "code",
   "execution_count": 14,
   "id": "e169468c-f58b-4e2d-be76-5953a0a66c95",
   "metadata": {},
   "outputs": [],
   "source": [
    "def clean_data(text):\n",
    "    \n",
    "    # remove \"Doctor:\" and \"Patient:\" labels and timestamps\n",
    "    text = re.sub(r\"(Doctor|Patient|Guest_family):|\\d{1,2}[:.]\\d{1,2}\\s?(AM|PM|am|pm)?\", \"\", text)\n",
    "    \n",
    "    # Lowercase the text\n",
    "    text = text.lower()\n",
    "\n",
    "    # Remove special characters and digits\n",
    "    text = re.sub(r\"[^a-zA-Z\\s]+\", \"\", text)\n",
    "\n",
    "    # Tokenize the text\n",
    "    words = nltk.word_tokenize(text)\n",
    "\n",
    "    # Remove stop words\n",
    "    stop_words = set(stopwords.words(\"english\"))\n",
    "    words = [word for word in words if word not in stop_words]\n",
    "\n",
    "    # Lemmatize the words\n",
    "    lemmatizer = WordNetLemmatizer()\n",
    "    words = [lemmatizer.lemmatize(word) for word in words]\n",
    "\n",
    "    # Join words back into a single string\n",
    "    text = \" \".join(words)\n",
    "\n",
    "    return text\n"
   ]
  },
  {
   "cell_type": "code",
   "execution_count": 15,
   "id": "3dbfeb1e-5032-47c0-892d-be040eb10dca",
   "metadata": {},
   "outputs": [
    {
     "data": {
      "text/plain": [
       "0       brings back clinic today miss came refill bloo...\n",
       "1       howre feeling today terrible im worst headache...\n",
       "2       hello miss reason visit today think wart back ...\n",
       "3       taking counter medicine one prescribed alterna...\n",
       "4          hi burned hand oh sorry wow yeah right arm yes\n",
       "                              ...                        \n",
       "1196    good morning sir good morning doctor begin eve...\n",
       "1197    okay let go medication id like take help muscl...\n",
       "1198    today sir honestly im pretty sick today ive go...\n",
       "1199    hi hows going bad cant complain look like weat...\n",
       "1200    look like nurse came asked everything ah every...\n",
       "Name: dialogue, Length: 1201, dtype: object"
      ]
     },
     "execution_count": 15,
     "metadata": {},
     "output_type": "execute_result"
    }
   ],
   "source": [
    "# preprocess the train data\n",
    "\n",
    "X_train = X_train.apply(clean_data)\n",
    "X_train"
   ]
  },
  {
   "cell_type": "code",
   "execution_count": 16,
   "id": "c172e89e-af32-49a2-80b4-c3dc26a3a0a2",
   "metadata": {},
   "outputs": [
    {
     "data": {
      "text/plain": [
       "0     pain begin ive low back pain eight year injury...\n",
       "1     hey bud brings today rash upper arm torso star...\n",
       "2     anything changed medical history since last vi...\n",
       "3     howve treating acne dermatologist started accu...\n",
       "4     experiencing mental difficulty confusion hallu...\n",
       "                            ...                        \n",
       "95    feeling well placed permanent pacemaker remove...\n",
       "96    little man today well yesterday threw night na...\n",
       "97    well e k g report show sinus tachycardia word ...\n",
       "98    good news need shot today date immunization go...\n",
       "99    im glad hear afib control id like start taking...\n",
       "Name: dialogue, Length: 100, dtype: object"
      ]
     },
     "execution_count": 16,
     "metadata": {},
     "output_type": "execute_result"
    }
   ],
   "source": [
    "X_valid = X_valid.apply(clean_data)\n",
    "X_valid"
   ]
  },
  {
   "cell_type": "code",
   "execution_count": null,
   "id": "a6ceb529-bb4a-4a47-ac69-d051d104e383",
   "metadata": {},
   "outputs": [],
   "source": []
  },
  {
   "cell_type": "code",
   "execution_count": 17,
   "id": "0589833f-e65a-4cdc-afca-af67eda2d501",
   "metadata": {},
   "outputs": [],
   "source": [
    "# feature extractor "
   ]
  },
  {
   "cell_type": "code",
   "execution_count": 18,
   "id": "03bb5f2b-9234-4186-ad2a-16cbad931574",
   "metadata": {},
   "outputs": [],
   "source": [
    "# tfidf_vec = TfidfVectorizer(stop_words='english')\n",
    "tfidf_vec = TfidfVectorizer(stop_words='english',\n",
    "                            ngram_range=(1, 2),\n",
    "                            max_df=0.9,\n",
    "                            # min_df=2,\n",
    "                            #max_features=300\n",
    "                           )\n",
    "\n",
    "X_train = tfidf_vec.fit_transform(X_train)\n",
    "X_valid = tfidf_vec.transform(X_valid)"
   ]
  },
  {
   "cell_type": "code",
   "execution_count": 19,
   "id": "44ade92c-69ff-4f1b-900f-b317249c8fda",
   "metadata": {},
   "outputs": [
    {
     "name": "stdout",
     "output_type": "stream",
     "text": [
      "shape of x_train features: (1201, 35290)\n",
      "shape of x_validation features: (100, 35290)\n",
      "word-index mapping dictionary: 35290\n"
     ]
    }
   ],
   "source": [
    "print('shape of x_train features:', X_train.shape)\n",
    "print('shape of x_validation features:', X_valid.shape)\n",
    "print('word-index mapping dictionary:', len(tfidf_vec.vocabulary_))"
   ]
  },
  {
   "cell_type": "code",
   "execution_count": null,
   "id": "bb21f653-3314-4906-85f6-f86f95f7cc74",
   "metadata": {},
   "outputs": [],
   "source": []
  },
  {
   "cell_type": "code",
   "execution_count": 20,
   "id": "c3aad303-c7b1-45e1-9fcf-a97ebecfd6b4",
   "metadata": {},
   "outputs": [],
   "source": [
    "## oversampler"
   ]
  },
  {
   "cell_type": "code",
   "execution_count": 21,
   "id": "effed0f4-94f7-4a66-bb64-a6f67b1d40b7",
   "metadata": {},
   "outputs": [],
   "source": [
    "# Apply oversampling (on training data\n",
    "\n",
    "ros = RandomOverSampler(random_state=42)\n",
    "X_train, y_train = ros.fit_resample(X_train, y_train)"
   ]
  },
  {
   "cell_type": "code",
   "execution_count": null,
   "id": "1d8e3482-22a2-4fa0-8a0e-6eed920821ff",
   "metadata": {},
   "outputs": [],
   "source": []
  },
  {
   "cell_type": "code",
   "execution_count": 22,
   "id": "54440e4b-05f7-4577-82ba-7e505126853b",
   "metadata": {},
   "outputs": [],
   "source": [
    "############ model - classifier\n",
    "\n",
    "from sklearn.metrics import classification_report\n",
    "from sklearn import svm\n",
    "from sklearn.neural_network import MLPClassifier\n",
    "from sklearn.tree import DecisionTreeClassifier"
   ]
  },
  {
   "cell_type": "code",
   "execution_count": null,
   "id": "2ae89b37-78ed-4f17-ba25-cf4b6a0d0044",
   "metadata": {},
   "outputs": [],
   "source": []
  },
  {
   "cell_type": "code",
   "execution_count": null,
   "id": "7d928e6e-353f-4b95-8287-3f6bc1019ace",
   "metadata": {},
   "outputs": [],
   "source": []
  },
  {
   "cell_type": "code",
   "execution_count": 50,
   "id": "a1c47a54-b6eb-4a59-af97-01093736733e",
   "metadata": {},
   "outputs": [
    {
     "name": "stdout",
     "output_type": "stream",
     "text": [
      "               precision    recall  f1-score   support\n",
      "\n",
      "      ALLERGY       1.00      0.25      0.40         4\n",
      "   ASSESSMENT       0.00      0.00      0.00         4\n",
      "           CC       0.00      0.00      0.00         4\n",
      "    DIAGNOSIS       0.00      0.00      0.00         1\n",
      "  DISPOSITION       0.00      0.00      0.00         2\n",
      "     EDCOURSE       0.00      0.00      0.00         3\n",
      "         EXAM       0.00      0.00      0.00         1\n",
      "    FAM/SOCHX       0.56      1.00      0.72        22\n",
      "        GENHX       0.32      0.95      0.47        20\n",
      "        GYNHX       0.00      0.00      0.00         1\n",
      "      IMAGING       0.00      0.00      0.00         1\n",
      "IMMUNIZATIONS       0.00      0.00      0.00         1\n",
      "         LABS       0.00      0.00      0.00         1\n",
      "  MEDICATIONS       0.00      0.00      0.00         7\n",
      "OTHER_HISTORY       0.00      0.00      0.00         1\n",
      "PASTMEDICALHX       0.00      0.00      0.00         4\n",
      " PASTSURGICAL       0.00      0.00      0.00         8\n",
      "         PLAN       0.00      0.00      0.00         3\n",
      "   PROCEDURES       0.00      0.00      0.00         1\n",
      "          ROS       0.00      0.00      0.00        11\n",
      "\n",
      "     accuracy                           0.42       100\n",
      "    macro avg       0.09      0.11      0.08       100\n",
      " weighted avg       0.23      0.42      0.27       100\n",
      "\n"
     ]
    }
   ],
   "source": [
    "# MultinomialNB\n",
    "\n",
    "from sklearn.naive_bayes import MultinomialNB\n",
    "\n",
    "model_nb = MultinomialNB()\n",
    "\n",
    "model_nb.fit(X_train, y_train)\n",
    "\n",
    "y_pred = model_nb.predict(X_valid)\n",
    "\n",
    "report = classification_report(y_valid, y_pred)\n",
    "print(report)"
   ]
  },
  {
   "cell_type": "code",
   "execution_count": 51,
   "id": "45b8eb4b-8dd1-4254-8597-9686c221d9d4",
   "metadata": {},
   "outputs": [
    {
     "name": "stdout",
     "output_type": "stream",
     "text": [
      "Best parameters found by grid search:\n",
      "{'alpha': 0.1, 'fit_prior': False}\n",
      "Best score:  0.6960650069156293\n",
      "               precision    recall  f1-score   support\n",
      "\n",
      "      ALLERGY       1.00      0.25      0.40         4\n",
      "   ASSESSMENT       0.00      0.00      0.00         4\n",
      "           CC       0.00      0.00      0.00         4\n",
      "    DIAGNOSIS       0.00      0.00      0.00         1\n",
      "  DISPOSITION       1.00      0.50      0.67         2\n",
      "     EDCOURSE       0.00      0.00      0.00         3\n",
      "         EXAM       0.00      0.00      0.00         1\n",
      "    FAM/SOCHX       0.76      1.00      0.86        22\n",
      "        GENHX       0.40      0.95      0.57        20\n",
      "        GYNHX       0.00      0.00      0.00         1\n",
      "      IMAGING       0.00      0.00      0.00         1\n",
      "IMMUNIZATIONS       1.00      1.00      1.00         1\n",
      "         LABS       0.00      0.00      0.00         1\n",
      "  MEDICATIONS       0.75      0.43      0.55         7\n",
      "OTHER_HISTORY       0.00      0.00      0.00         1\n",
      "PASTMEDICALHX       0.38      0.75      0.50         4\n",
      " PASTSURGICAL       0.83      0.62      0.71         8\n",
      "         PLAN       0.00      0.00      0.00         3\n",
      "   PROCEDURES       0.00      0.00      0.00         1\n",
      "          ROS       0.50      0.09      0.15        11\n",
      "\n",
      "     accuracy                           0.56       100\n",
      "    macro avg       0.33      0.28      0.27       100\n",
      " weighted avg       0.51      0.56      0.47       100\n",
      "\n"
     ]
    }
   ],
   "source": [
    "### MultinomialNB hyper\n",
    "\n",
    "from sklearn.naive_bayes import MultinomialNB\n",
    "from sklearn.metrics import classification_report\n",
    "from sklearn.model_selection import GridSearchCV\n",
    "\n",
    "param_grid = {\n",
    "    'alpha': [0.001, 0.01, 0.1, 1, 10, 100],\n",
    "    'fit_prior': [True, False],\n",
    "}\n",
    "\n",
    "\n",
    "model_nb = MultinomialNB()\n",
    "\n",
    "# Create the GridSearchCV object\n",
    "grid_search = GridSearchCV(model_nb, param_grid, cv=5, scoring='accuracy', n_jobs=-1)\n",
    "\n",
    "# Fit GridSearchCV to the training data\n",
    "grid_search.fit(X_train, y_train)\n",
    "\n",
    "# Get the best parameters and estimator\n",
    "best_params = grid_search.best_params_\n",
    "best_estimator = grid_search.best_estimator_\n",
    "\n",
    "print(\"Best parameters found by grid search:\")\n",
    "print(best_params)\n",
    "print(\"Best score: \", grid_search.best_score_)\n",
    "\n",
    "# Use the best estimator to make predictions\n",
    "y_pred = best_estimator.predict(X_valid)\n",
    "\n",
    "# Evaluate the performance with a classification report\n",
    "report = classification_report(y_valid, y_pred)\n",
    "print(report)\n"
   ]
  },
  {
   "cell_type": "code",
   "execution_count": 23,
   "id": "c2b9cb00-879b-4a93-9434-69768a671348",
   "metadata": {},
   "outputs": [
    {
     "name": "stdout",
     "output_type": "stream",
     "text": [
      "               precision    recall  f1-score   support\n",
      "\n",
      "      ALLERGY       1.00      0.25      0.40         4\n",
      "   ASSESSMENT       0.00      0.00      0.00         4\n",
      "           CC       0.25      0.25      0.25         4\n",
      "    DIAGNOSIS       1.00      1.00      1.00         1\n",
      "  DISPOSITION       1.00      1.00      1.00         2\n",
      "     EDCOURSE       0.00      0.00      0.00         3\n",
      "         EXAM       0.33      1.00      0.50         1\n",
      "    FAM/SOCHX       0.88      1.00      0.94        22\n",
      "        GENHX       0.58      0.90      0.71        20\n",
      "        GYNHX       0.00      0.00      0.00         1\n",
      "      IMAGING       0.00      0.00      0.00         1\n",
      "IMMUNIZATIONS       1.00      1.00      1.00         1\n",
      "         LABS       0.00      0.00      0.00         1\n",
      "  MEDICATIONS       0.62      0.71      0.67         7\n",
      "OTHER_HISTORY       0.00      0.00      0.00         1\n",
      "PASTMEDICALHX       0.80      1.00      0.89         4\n",
      " PASTSURGICAL       0.89      1.00      0.94         8\n",
      "         PLAN       0.00      0.00      0.00         3\n",
      "   PROCEDURES       0.00      0.00      0.00         1\n",
      "          ROS       0.88      0.64      0.74        11\n",
      "\n",
      "     accuracy                           0.71       100\n",
      "    macro avg       0.46      0.49      0.45       100\n",
      " weighted avg       0.65      0.71      0.66       100\n",
      "\n"
     ]
    }
   ],
   "source": [
    "## LogisticRegression\n",
    "\n",
    "from sklearn.linear_model import LogisticRegression\n",
    "from sklearn.metrics import classification_report\n",
    "\n",
    "model_lr = LogisticRegression()\n",
    "\n",
    "model_lr.fit(X_train, y_train)\n",
    "\n",
    "y_pred = model_lr.predict(X_valid)\n",
    "\n",
    "report = classification_report(y_valid, y_pred)\n",
    "print(report)"
   ]
  },
  {
   "cell_type": "code",
   "execution_count": 25,
   "id": "bd5e5981-d849-453d-915e-8a93ea33e180",
   "metadata": {},
   "outputs": [
    {
     "name": "stdout",
     "output_type": "stream",
     "text": [
      "Best hyperparameters:  {'C': 10, 'max_iter': 100, 'penalty': 'l2', 'solver': 'saga'}\n",
      "Best score:  0.9935897435897436\n",
      "               precision    recall  f1-score   support\n",
      "\n",
      "      ALLERGY       1.00      0.25      0.40         4\n",
      "   ASSESSMENT       0.00      0.00      0.00         4\n",
      "           CC       0.33      0.25      0.29         4\n",
      "    DIAGNOSIS       1.00      1.00      1.00         1\n",
      "  DISPOSITION       1.00      1.00      1.00         2\n",
      "     EDCOURSE       0.00      0.00      0.00         3\n",
      "         EXAM       0.33      1.00      0.50         1\n",
      "    FAM/SOCHX       0.85      1.00      0.92        22\n",
      "        GENHX       0.51      0.95      0.67        20\n",
      "        GYNHX       0.00      0.00      0.00         1\n",
      "      IMAGING       0.00      0.00      0.00         1\n",
      "IMMUNIZATIONS       1.00      1.00      1.00         1\n",
      "         LABS       0.00      0.00      0.00         1\n",
      "  MEDICATIONS       0.71      0.71      0.71         7\n",
      "OTHER_HISTORY       0.00      0.00      0.00         1\n",
      "PASTMEDICALHX       0.75      0.75      0.75         4\n",
      " PASTSURGICAL       0.89      1.00      0.94         8\n",
      "         PLAN       0.00      0.00      0.00         3\n",
      "   PROCEDURES       0.00      0.00      0.00         1\n",
      "          ROS       0.75      0.27      0.40        11\n",
      "\n",
      "     accuracy                           0.67       100\n",
      "    macro avg       0.46      0.46      0.43       100\n",
      " weighted avg       0.62      0.67      0.61       100\n",
      "\n"
     ]
    }
   ],
   "source": [
    "# hyper LogisticRegression\n",
    "from sklearn.metrics import classification_report\n",
    "from sklearn.model_selection import GridSearchCV\n",
    "\n",
    "param_grid = {\n",
    "    'C': [0.1, 1, 10],\n",
    "    'penalty': ['l1', 'l2'],\n",
    "    'solver': ['liblinear', 'saga'],\n",
    "    'max_iter': [100, 200, 500]\n",
    "}\n",
    "\n",
    "\n",
    "model_lr = LogisticRegression()\n",
    "\n",
    "grid_search = GridSearchCV(model_lr, param_grid, cv=5)\n",
    "\n",
    "grid_search.fit(X_train, y_train)\n",
    "\n",
    "print(\"Best hyperparameters: \", grid_search.best_params_)\n",
    "print(\"Best score: \", grid_search.best_score_)\n",
    "\n",
    "best_model = grid_search.best_estimator_\n",
    "y_pred = best_model.predict(X_valid)\n",
    "\n",
    "report = classification_report(y_valid, y_pred)\n",
    "print(report)"
   ]
  },
  {
   "cell_type": "code",
   "execution_count": 54,
   "id": "9bc56b93-c912-4301-a27a-9dd05b19e3be",
   "metadata": {},
   "outputs": [
    {
     "name": "stdout",
     "output_type": "stream",
     "text": [
      "               precision    recall  f1-score   support\n",
      "\n",
      "      ALLERGY       1.00      0.25      0.40         4\n",
      "   ASSESSMENT       0.00      0.00      0.00         4\n",
      "           CC       0.00      0.00      0.00         4\n",
      "    DIAGNOSIS       0.00      0.00      0.00         1\n",
      "  DISPOSITION       0.00      0.00      0.00         2\n",
      "     EDCOURSE       0.00      0.00      0.00         3\n",
      "         EXAM       0.00      0.00      0.00         1\n",
      "    FAM/SOCHX       0.71      1.00      0.83        22\n",
      "        GENHX       0.36      0.95      0.52        20\n",
      "        GYNHX       0.00      0.00      0.00         1\n",
      "      IMAGING       0.00      0.00      0.00         1\n",
      "IMMUNIZATIONS       0.00      0.00      0.00         1\n",
      "         LABS       0.00      0.00      0.00         1\n",
      "  MEDICATIONS       1.00      0.43      0.60         7\n",
      "OTHER_HISTORY       0.00      0.00      0.00         1\n",
      "PASTMEDICALHX       0.60      0.75      0.67         4\n",
      " PASTSURGICAL       1.00      0.75      0.86         8\n",
      "         PLAN       0.00      0.00      0.00         3\n",
      "   PROCEDURES       0.00      0.00      0.00         1\n",
      "          ROS       0.00      0.00      0.00        11\n",
      "\n",
      "     accuracy                           0.54       100\n",
      "    macro avg       0.23      0.21      0.19       100\n",
      " weighted avg       0.44      0.54      0.44       100\n",
      "\n"
     ]
    }
   ],
   "source": [
    "from sklearn import svm\n",
    "from sklearn.metrics import classification_report\n",
    "\n",
    "# Create an SVC classifier with default parameters\n",
    "model_svc = svm.SVC()\n",
    "\n",
    "# Train the model\n",
    "model_svc.fit(X_train, y_train)\n",
    "\n",
    "# Make predictions on the validation set\n",
    "y_pred = model_svc.predict(X_valid)\n",
    "\n",
    "# Compute the classification report\n",
    "report = classification_report(y_valid, y_pred)\n",
    "print(report)\n"
   ]
  },
  {
   "cell_type": "code",
   "execution_count": 55,
   "id": "8c58346a-725f-443d-aa96-e339abd8e26c",
   "metadata": {},
   "outputs": [
    {
     "name": "stdout",
     "output_type": "stream",
     "text": [
      "Best hyperparameters:  {'C': 10, 'kernel': 'linear'}\n",
      "Best score:  0.691082295988935\n",
      "               precision    recall  f1-score   support\n",
      "\n",
      "      ALLERGY       1.00      0.25      0.40         4\n",
      "   ASSESSMENT       0.00      0.00      0.00         4\n",
      "           CC       0.33      0.25      0.29         4\n",
      "    DIAGNOSIS       0.00      0.00      0.00         1\n",
      "  DISPOSITION       1.00      0.50      0.67         2\n",
      "     EDCOURSE       0.00      0.00      0.00         3\n",
      "         EXAM       0.50      1.00      0.67         1\n",
      "    FAM/SOCHX       0.79      1.00      0.88        22\n",
      "        GENHX       0.49      0.95      0.64        20\n",
      "        GYNHX       0.00      0.00      0.00         1\n",
      "      IMAGING       0.00      0.00      0.00         1\n",
      "IMMUNIZATIONS       1.00      1.00      1.00         1\n",
      "         LABS       0.00      0.00      0.00         1\n",
      "  MEDICATIONS       0.67      0.57      0.62         7\n",
      "OTHER_HISTORY       0.00      0.00      0.00         1\n",
      "PASTMEDICALHX       0.50      0.75      0.60         4\n",
      " PASTSURGICAL       1.00      1.00      1.00         8\n",
      "         PLAN       0.00      0.00      0.00         3\n",
      "   PROCEDURES       0.00      0.00      0.00         1\n",
      "          ROS       0.80      0.36      0.50        11\n",
      "\n",
      "     accuracy                           0.65       100\n",
      "    macro avg       0.40      0.38      0.36       100\n",
      " weighted avg       0.59      0.65      0.58       100\n",
      "\n"
     ]
    }
   ],
   "source": [
    "# svc hyper\n",
    "\n",
    "from sklearn import svm\n",
    "# Define the parameter grid to search over\n",
    "param_grid = {'C': [0.1, 1, 10], 'kernel': ['linear', 'rbf']}\n",
    "\n",
    "# Create an SVC classifier\n",
    "model_svc = svm.SVC()\n",
    "\n",
    "grid_search = GridSearchCV(model_svc, param_grid, cv=5)\n",
    "\n",
    "# Fit the grid search object to the training data\n",
    "grid_search.fit(X_train, y_train)\n",
    "\n",
    "# Print the best hyperparameters and the best score\n",
    "print(\"Best hyperparameters: \", grid_search.best_params_)\n",
    "print(\"Best score: \", grid_search.best_score_)\n",
    "\n",
    "# Make predictions on the validation set using the best model\n",
    "best_model = grid_search.best_estimator_\n",
    "y_pred = best_model.predict(X_valid)\n",
    "\n",
    "# Compute the classification report for the best model\n",
    "report = classification_report(y_valid, y_pred)\n",
    "print(report)"
   ]
  },
  {
   "cell_type": "code",
   "execution_count": 27,
   "id": "3bbb2f4f-7ab7-4ea5-a684-6c76e6633695",
   "metadata": {},
   "outputs": [
    {
     "name": "stdout",
     "output_type": "stream",
     "text": [
      "Best hyperparameters:  {'activation': 'relu', 'alpha': 0.1, 'hidden_layer_sizes': (100,)}\n",
      "Best score:  0.7168948824343016\n",
      "               precision    recall  f1-score   support\n",
      "\n",
      "      ALLERGY       0.00      0.00      0.00         4\n",
      "   ASSESSMENT       0.00      0.00      0.00         4\n",
      "           CC       0.00      0.00      0.00         4\n",
      "    DIAGNOSIS       0.00      0.00      0.00         1\n",
      "  DISPOSITION       0.00      0.00      0.00         2\n",
      "     EDCOURSE       0.00      0.00      0.00         3\n",
      "         EXAM       0.00      0.00      0.00         1\n",
      "    FAM/SOCHX       0.61      1.00      0.76        22\n",
      "        GENHX       0.30      0.95      0.45        20\n",
      "        GYNHX       0.00      0.00      0.00         1\n",
      "      IMAGING       0.00      0.00      0.00         1\n",
      "IMMUNIZATIONS       0.00      0.00      0.00         1\n",
      "         LABS       0.00      0.00      0.00         1\n",
      "  MEDICATIONS       0.00      0.00      0.00         7\n",
      "OTHER_HISTORY       0.00      0.00      0.00         1\n",
      "PASTMEDICALHX       0.00      0.00      0.00         4\n",
      " PASTSURGICAL       0.00      0.00      0.00         8\n",
      "         PLAN       0.00      0.00      0.00         3\n",
      "   PROCEDURES       0.00      0.00      0.00         1\n",
      "          ROS       0.00      0.00      0.00        11\n",
      "\n",
      "     accuracy                           0.41       100\n",
      "    macro avg       0.05      0.10      0.06       100\n",
      " weighted avg       0.19      0.41      0.26       100\n",
      "\n"
     ]
    }
   ],
   "source": [
    "# mlp\n",
    "\n",
    "from sklearn.neural_network import MLPClassifier\n",
    "\n",
    "# Define the parameter grid to search over\n",
    "param_grid = {\n",
    "    'hidden_layer_sizes': [(10,), (50,), (100,)],\n",
    "    'activation': ['relu', 'tanh', 'logistic'],\n",
    "    'alpha': [0.1, 1, 10]\n",
    "}\n",
    "\n",
    "# Create an MLP classifier\n",
    "model_mlp = MLPClassifier()\n",
    "\n",
    "# Create a grid search object with 5-fold cross-validation\n",
    "grid_search = GridSearchCV(model_mlp, param_grid, cv=5)\n",
    "\n",
    "# Fit the grid search object to the training data\n",
    "grid_search.fit(X_train, y_train)\n",
    "\n",
    "# Print the best hyperparameters and the best score\n",
    "print(\"Best hyperparameters: \", grid_search.best_params_)\n",
    "print(\"Best score: \", grid_search.best_score_)\n",
    "\n",
    "# Make predictions on the validation set using the best model\n",
    "best_model = grid_search.best_estimator_\n",
    "y_pred = best_model.predict(X_valid)\n",
    "\n",
    "# Compute the classification report for the best model\n",
    "report = classification_report(y_valid, y_pred)\n",
    "print(report)"
   ]
  },
  {
   "cell_type": "code",
   "execution_count": 24,
   "id": "377dcc68-355f-4a7f-8861-f31dd5b3e7e0",
   "metadata": {},
   "outputs": [],
   "source": [
    "from sklearn.naive_bayes import MultinomialNB\n",
    "from sklearn.metrics import classification_report\n",
    "from sklearn.model_selection import GridSearchCV"
   ]
  },
  {
   "cell_type": "code",
   "execution_count": 25,
   "id": "2c3297dd-d02c-48e5-a36a-c4ecfc8927a0",
   "metadata": {},
   "outputs": [
    {
     "name": "stdout",
     "output_type": "stream",
     "text": [
      "Best hyperparameters:  {'max_depth': 20, 'min_samples_split': 2}\n",
      "Best score:  0.6202835408022129\n",
      "               precision    recall  f1-score   support\n",
      "\n",
      "      ALLERGY       1.00      0.25      0.40         4\n",
      "   ASSESSMENT       0.00      0.00      0.00         4\n",
      "           CC       0.17      0.25      0.20         4\n",
      "    DIAGNOSIS       0.00      0.00      0.00         1\n",
      "  DISPOSITION       0.00      0.00      0.00         2\n",
      "     EDCOURSE       0.00      0.00      0.00         3\n",
      "         EXAM       0.00      0.00      0.00         1\n",
      "    FAM/SOCHX       0.77      0.91      0.83        22\n",
      "        GENHX       0.60      0.45      0.51        20\n",
      "        GYNHX       0.00      0.00      0.00         1\n",
      "      IMAGING       0.00      0.00      0.00         1\n",
      "IMMUNIZATIONS       0.00      0.00      0.00         1\n",
      "         LABS       0.00      0.00      0.00         1\n",
      "  MEDICATIONS       0.57      0.57      0.57         7\n",
      "OTHER_HISTORY       0.00      0.00      0.00         1\n",
      "PASTMEDICALHX       0.25      0.75      0.38         4\n",
      " PASTSURGICAL       0.86      0.75      0.80         8\n",
      "         PLAN       0.00      0.00      0.00         3\n",
      "   PROCEDURES       0.00      0.00      0.00         1\n",
      "          ROS       0.33      0.73      0.46        11\n",
      "\n",
      "     accuracy                           0.52       100\n",
      "    macro avg       0.23      0.23      0.21       100\n",
      " weighted avg       0.49      0.52      0.48       100\n",
      "\n"
     ]
    }
   ],
   "source": [
    "# dt\n",
    "\n",
    "from sklearn.tree import DecisionTreeClassifier\n",
    "\n",
    "# Define the parameter grid to search over\n",
    "param_grid = {'max_depth': [5, 10, 20, None], 'min_samples_split': [2, 5, 10]}\n",
    "\n",
    "# Create a Decision Tree classifier\n",
    "model_dt = DecisionTreeClassifier()\n",
    "\n",
    "# Create a grid search object with 5-fold cross-validation\n",
    "grid_search = GridSearchCV(model_dt, param_grid, cv=5)\n",
    "\n",
    "# Fit the grid search object to the training data\n",
    "grid_search.fit(X_train, y_train)\n",
    "\n",
    "# Print the best hyperparameters and the best score\n",
    "print(\"Best hyperparameters: \", grid_search.best_params_)\n",
    "print(\"Best score: \", grid_search.best_score_)\n",
    "\n",
    "# Make predictions on the validation set using the best model\n",
    "best_model = grid_search.best_estimator_\n",
    "y_pred = best_model.predict(X_valid)\n",
    "\n",
    "# Compute the classification report for the best model\n",
    "report = classification_report(y_valid, y_pred)\n",
    "print(report)"
   ]
  },
  {
   "cell_type": "code",
   "execution_count": 26,
   "id": "257ef286-cd85-4d6e-b655-867b7101a8d8",
   "metadata": {},
   "outputs": [
    {
     "name": "stdout",
     "output_type": "stream",
     "text": [
      "Best hyperparameters:  {'max_depth': None, 'n_estimators': 200}\n",
      "Best score:  0.7060719225449515\n",
      "               precision    recall  f1-score   support\n",
      "\n",
      "      ALLERGY       0.50      0.25      0.33         4\n",
      "   ASSESSMENT       0.00      0.00      0.00         4\n",
      "           CC       0.67      0.50      0.57         4\n",
      "    DIAGNOSIS       0.00      0.00      0.00         1\n",
      "  DISPOSITION       0.00      0.00      0.00         2\n",
      "     EDCOURSE       0.00      0.00      0.00         3\n",
      "         EXAM       1.00      1.00      1.00         1\n",
      "    FAM/SOCHX       0.65      1.00      0.79        22\n",
      "        GENHX       0.57      0.80      0.67        20\n",
      "        GYNHX       0.00      0.00      0.00         1\n",
      "      IMAGING       0.00      0.00      0.00         1\n",
      "IMMUNIZATIONS       1.00      1.00      1.00         1\n",
      "         LABS       0.00      0.00      0.00         1\n",
      "  MEDICATIONS       0.67      0.86      0.75         7\n",
      "OTHER_HISTORY       0.00      0.00      0.00         1\n",
      "PASTMEDICALHX       0.60      0.75      0.67         4\n",
      " PASTSURGICAL       0.73      1.00      0.84         8\n",
      "         PLAN       0.00      0.00      0.00         3\n",
      "   PROCEDURES       0.00      0.00      0.00         1\n",
      "          ROS       0.67      0.36      0.47        11\n",
      "\n",
      "     accuracy                           0.64       100\n",
      "    macro avg       0.35      0.38      0.35       100\n",
      " weighted avg       0.53      0.64      0.56       100\n",
      "\n"
     ]
    }
   ],
   "source": [
    "# rf\n",
    "\n",
    "from sklearn.ensemble import RandomForestClassifier\n",
    "\n",
    "param_grid = {'n_estimators': [50, 100, 200], 'max_depth': [5, 10, 20, None]}\n",
    "\n",
    "model_rf = RandomForestClassifier()\n",
    "\n",
    "grid_search = GridSearchCV(model_rf, param_grid, cv=5)\n",
    "\n",
    "grid_search.fit(X_train, y_train)\n",
    "\n",
    "print(\"Best hyperparameters: \", grid_search.best_params_)\n",
    "print(\"Best score: \", grid_search.best_score_)\n",
    "\n",
    "best_model = grid_search.best_estimator_\n",
    "y_pred = best_model.predict(X_valid)\n",
    "\n",
    "report = classification_report(y_valid, y_pred)\n",
    "print(report)"
   ]
  },
  {
   "cell_type": "code",
   "execution_count": null,
   "id": "9a90fe1d-1bad-4ea2-abec-74a63fd6b4b3",
   "metadata": {},
   "outputs": [],
   "source": [
    "# adaboost\n",
    "\n",
    "from sklearn.tree import DecisionTreeClassifier\n",
    "from sklearn.ensemble import AdaBoostClassifier\n",
    "from sklearn.metrics import classification_report\n",
    "\n",
    "tree = DecisionTreeClassifier()\n",
    "\n",
    "boost = AdaBoostClassifier(base_estimator=tree)\n",
    "\n",
    "boost.fit(X_train, y_train)\n",
    "\n",
    "y_pred = boost.predict(X_valid)\n",
    "\n",
    "report = classification_report(y_valid, y_pred)\n",
    "print(report)"
   ]
  },
  {
   "cell_type": "code",
   "execution_count": null,
   "id": "677b8260-37c9-48f6-92ae-b2e4bfc84e54",
   "metadata": {},
   "outputs": [],
   "source": [
    "# adaboost hyper\n",
    "\n",
    "from sklearn.tree import DecisionTreeClassifier\n",
    "from sklearn.ensemble import AdaBoostClassifier\n",
    "from sklearn.metrics import classification_report\n",
    "from sklearn.model_selection import GridSearchCV\n",
    "\n",
    "\n",
    "param_grid = {\n",
    "    'base_estimator__max_depth': [1, 2, 3],\n",
    "    'base_estimator__min_samples_split': [2, 3, 4],\n",
    "    'base_estimator__min_samples_leaf': [1, 2, 3],\n",
    "    'n_estimators': [10, 50, 100],\n",
    "    'learning_rate': [0.01, 0.1, 1],\n",
    "}\n",
    "\n",
    "tree = DecisionTreeClassifier()\n",
    "boost = AdaBoostClassifier(base_estimator=tree)\n",
    "\n",
    "# Create the GridSearchCV object\n",
    "grid_search = GridSearchCV(boost, param_grid, cv=5, scoring='accuracy', n_jobs=-1)\n",
    "\n",
    "# Fit GridSearchCV to the training data\n",
    "grid_search.fit(X_train, y_train)\n",
    "\n",
    "# Get the best parameters and estimator\n",
    "best_params = grid_search.best_params_\n",
    "best_estimator = grid_search.best_estimator_\n",
    "\n",
    "print(\"Best parameters found by grid search:\")\n",
    "print(best_params)\n",
    "print(\"Best score: \", grid_search.best_score_)\n",
    "\n",
    "# Use the best estimator to make predictions\n",
    "y_pred = best_estimator.predict(X_valid)\n",
    "\n",
    "# Evaluate the performance with a classification report\n",
    "report = classification_report(y_valid, y_pred)\n",
    "print(report)\n"
   ]
  },
  {
   "cell_type": "code",
   "execution_count": null,
   "id": "da1a4a49-bf07-44b4-9af6-2ebd1c7ad450",
   "metadata": {},
   "outputs": [],
   "source": []
  },
  {
   "cell_type": "code",
   "execution_count": null,
   "id": "e1fa7dc4-2cb1-496a-bdaf-d1913b40a994",
   "metadata": {},
   "outputs": [],
   "source": []
  },
  {
   "cell_type": "code",
   "execution_count": null,
   "id": "fc68aae1-9d0f-4414-a593-f185b16efbea",
   "metadata": {},
   "outputs": [],
   "source": []
  },
  {
   "cell_type": "code",
   "execution_count": null,
   "id": "e939c8ef-dc1c-4681-bbc9-c5e679d5146b",
   "metadata": {},
   "outputs": [],
   "source": []
  },
  {
   "cell_type": "code",
   "execution_count": null,
   "id": "8e7d4dac-3111-43fd-aad0-9662acd1a48b",
   "metadata": {},
   "outputs": [],
   "source": []
  },
  {
   "cell_type": "code",
   "execution_count": null,
   "id": "6ec1bf00-789f-4167-b13b-de34e6ea8da7",
   "metadata": {},
   "outputs": [],
   "source": []
  },
  {
   "cell_type": "code",
   "execution_count": null,
   "id": "9a48b1c9-5c7a-4701-8d04-c2f659eacf7c",
   "metadata": {},
   "outputs": [],
   "source": []
  },
  {
   "cell_type": "code",
   "execution_count": 24,
   "id": "35c6e6fe-0496-4153-8934-b9e191c1e491",
   "metadata": {},
   "outputs": [],
   "source": [
    "#################################################################################\n",
    "#################################################################################\n",
    "#################################################################################\n",
    "\n",
    "# Clinical BERT\n"
   ]
  },
  {
   "cell_type": "code",
   "execution_count": 25,
   "id": "bcf29a9f-a784-4ed5-a790-32d1b412047f",
   "metadata": {},
   "outputs": [],
   "source": [
    "import torch\n",
    "import numpy as np\n",
    "from transformers import AutoTokenizer, AutoModelForSequenceClassification, Trainer, TrainingArguments\n",
    "from sklearn.metrics import accuracy_score, precision_recall_fscore_support\n"
   ]
  },
  {
   "cell_type": "code",
   "execution_count": 26,
   "id": "df2d35cd-2282-456c-84e0-7148b876335c",
   "metadata": {},
   "outputs": [],
   "source": [
    "# for BERT, we do not need normal feature extractors e.g., TfidfVectorizer"
   ]
  },
  {
   "cell_type": "code",
   "execution_count": 27,
   "id": "70c6baee-8905-49a0-86d9-f8090e123824",
   "metadata": {},
   "outputs": [],
   "source": [
    "# read data again\n",
    "\n",
    "train_data = pd.read_csv('TaskA-TrainingSet.csv')\n",
    "\n",
    "valid_data = pd.read_csv('TaskA-ValidationSet.csv')"
   ]
  },
  {
   "cell_type": "code",
   "execution_count": 28,
   "id": "163993a2-5ae2-4689-a658-2e31f724fca4",
   "metadata": {},
   "outputs": [],
   "source": [
    "# assign train/ valid\n",
    "\n",
    "X_train = train_data['dialogue']\n",
    "y_train = train_data['section_header']\n",
    "\n",
    "X_valid = valid_data['dialogue']\n",
    "y_valid = valid_data['section_header']"
   ]
  },
  {
   "cell_type": "code",
   "execution_count": 29,
   "id": "d48d78cc-e5a3-4fcf-b33f-19d93de37fac",
   "metadata": {},
   "outputs": [
    {
     "data": {
      "text/plain": [
       "1201"
      ]
     },
     "execution_count": 29,
     "metadata": {},
     "output_type": "execute_result"
    }
   ],
   "source": [
    "# shape\n",
    "\n",
    "len(X_train)"
   ]
  },
  {
   "cell_type": "code",
   "execution_count": 30,
   "id": "68f08c21-d82f-46d2-9182-96d059c4bad3",
   "metadata": {},
   "outputs": [
    {
     "data": {
      "text/plain": [
       "100"
      ]
     },
     "execution_count": 30,
     "metadata": {},
     "output_type": "execute_result"
    }
   ],
   "source": [
    "len(X_valid)"
   ]
  },
  {
   "cell_type": "code",
   "execution_count": 31,
   "id": "77d583f5-ffb3-4690-95a2-12df8e8298b5",
   "metadata": {},
   "outputs": [
    {
     "data": {
      "text/plain": [
       "0       brings back clinic today miss came refill bloo...\n",
       "1       howre feeling today terrible im worst headache...\n",
       "2       hello miss reason visit today think wart back ...\n",
       "3       taking counter medicine one prescribed alterna...\n",
       "4          hi burned hand oh sorry wow yeah right arm yes\n",
       "                              ...                        \n",
       "1196    good morning sir good morning doctor begin eve...\n",
       "1197    okay let go medication id like take help muscl...\n",
       "1198    today sir honestly im pretty sick today ive go...\n",
       "1199    hi hows going bad cant complain look like weat...\n",
       "1200    look like nurse came asked everything ah every...\n",
       "Name: dialogue, Length: 1201, dtype: object"
      ]
     },
     "execution_count": 31,
     "metadata": {},
     "output_type": "execute_result"
    }
   ],
   "source": [
    "# preprocess\n",
    "\n",
    "X_train = X_train.apply(clean_data)\n",
    "X_train"
   ]
  },
  {
   "cell_type": "code",
   "execution_count": 32,
   "id": "61a431f7-6b58-4db6-be23-8fb8c441e44e",
   "metadata": {},
   "outputs": [
    {
     "data": {
      "text/plain": [
       "0              GENHX\n",
       "1              GENHX\n",
       "2              GENHX\n",
       "3        MEDICATIONS\n",
       "4                 CC\n",
       "            ...     \n",
       "1196    PASTSURGICAL\n",
       "1197     MEDICATIONS\n",
       "1198           GENHX\n",
       "1199       FAM/SOCHX\n",
       "1200       FAM/SOCHX\n",
       "Name: section_header, Length: 1201, dtype: object"
      ]
     },
     "execution_count": 32,
     "metadata": {},
     "output_type": "execute_result"
    }
   ],
   "source": [
    "y_train"
   ]
  },
  {
   "cell_type": "code",
   "execution_count": 33,
   "id": "536c1df9-0aea-4845-a918-08647462a5aa",
   "metadata": {},
   "outputs": [
    {
     "data": {
      "text/plain": [
       "0     pain begin ive low back pain eight year injury...\n",
       "1     hey bud brings today rash upper arm torso star...\n",
       "2     anything changed medical history since last vi...\n",
       "3     howve treating acne dermatologist started accu...\n",
       "4     experiencing mental difficulty confusion hallu...\n",
       "                            ...                        \n",
       "95    feeling well placed permanent pacemaker remove...\n",
       "96    little man today well yesterday threw night na...\n",
       "97    well e k g report show sinus tachycardia word ...\n",
       "98    good news need shot today date immunization go...\n",
       "99    im glad hear afib control id like start taking...\n",
       "Name: dialogue, Length: 100, dtype: object"
      ]
     },
     "execution_count": 33,
     "metadata": {},
     "output_type": "execute_result"
    }
   ],
   "source": [
    "X_valid = X_valid.apply(clean_data)\n",
    "X_valid"
   ]
  },
  {
   "cell_type": "code",
   "execution_count": 34,
   "id": "46b6aac0-aabb-4c30-b000-8e51e91c122e",
   "metadata": {},
   "outputs": [],
   "source": [
    "from imblearn.over_sampling import RandomOverSampler\n",
    "from collections import Counter"
   ]
  },
  {
   "cell_type": "code",
   "execution_count": 35,
   "id": "17a984b2-d856-4683-a098-2cad2a0d1e54",
   "metadata": {},
   "outputs": [
    {
     "name": "stderr",
     "output_type": "stream",
     "text": [
      "Some weights of the model checkpoint at emilyalsentzer/Bio_ClinicalBERT were not used when initializing BertForSequenceClassification: ['cls.seq_relationship.weight', 'cls.predictions.transform.dense.bias', 'cls.predictions.transform.LayerNorm.weight', 'cls.predictions.decoder.weight', 'cls.predictions.transform.LayerNorm.bias', 'cls.predictions.bias', 'cls.predictions.transform.dense.weight', 'cls.seq_relationship.bias']\n",
      "- This IS expected if you are initializing BertForSequenceClassification from the checkpoint of a model trained on another task or with another architecture (e.g. initializing a BertForSequenceClassification model from a BertForPreTraining model).\n",
      "- This IS NOT expected if you are initializing BertForSequenceClassification from the checkpoint of a model that you expect to be exactly identical (initializing a BertForSequenceClassification model from a BertForSequenceClassification model).\n",
      "Some weights of BertForSequenceClassification were not initialized from the model checkpoint at emilyalsentzer/Bio_ClinicalBERT and are newly initialized: ['classifier.weight', 'classifier.bias']\n",
      "You should probably TRAIN this model on a down-stream task to be able to use it for predictions and inference.\n"
     ]
    }
   ],
   "source": [
    "# Load the Clinical BERT tokenizer and model\n",
    "\n",
    "tokenizer = AutoTokenizer.from_pretrained(\"emilyalsentzer/Bio_ClinicalBERT\")\n",
    "model = AutoModelForSequenceClassification.from_pretrained(\"emilyalsentzer/Bio_ClinicalBERT\", num_labels=20)\n"
   ]
  },
  {
   "cell_type": "code",
   "execution_count": 36,
   "id": "74d94e63-2cef-4111-8c0e-35d20cc21fb3",
   "metadata": {},
   "outputs": [],
   "source": [
    "# define class for preprocessING for using BERT\n",
    "\n",
    "from torch.utils.data import Dataset\n",
    "\n",
    "class Dialogue2TopicDataset(Dataset):\n",
    "    def __init__(self, X, y, tokenizer, max_length):\n",
    "        self.X = X\n",
    "        self.y = y\n",
    "        self.tokenizer = tokenizer\n",
    "        self.max_length = max_length\n",
    "\n",
    "    def __len__(self):\n",
    "        return len(self.X)\n",
    "\n",
    "    def __getitem__(self, idx):\n",
    "        text = self.X[idx]\n",
    "        label = self.y[idx]\n",
    "\n",
    "        # Encode\n",
    "        inputs = self.tokenizer.encode_plus(\n",
    "            text,\n",
    "            None,\n",
    "            add_special_tokens=True,\n",
    "            max_length=self.max_length,\n",
    "            pad_to_max_length=True,\n",
    "            return_token_type_ids=True,\n",
    "            return_attention_mask=True,\n",
    "            return_tensors='pt'\n",
    "        )\n",
    "\n",
    "        return {\n",
    "            'input_ids': inputs['input_ids'][0],\n",
    "            'attention_mask': inputs['attention_mask'][0],\n",
    "            'labels': torch.tensor(label, dtype=torch.long)\n",
    "        }\n"
   ]
  },
  {
   "cell_type": "code",
   "execution_count": 37,
   "id": "c8cd217e-7879-4b7c-8255-e627d0ba8aab",
   "metadata": {},
   "outputs": [],
   "source": [
    "# convert  \n",
    "\n",
    "max_length = 307  \n",
    "\n",
    "# Prepare label encoding\n",
    "label_to_id = {label: idx for idx, label in enumerate(set(y_train))}\n",
    "id_to_label = {idx: label for label, idx in label_to_id.items()}"
   ]
  },
  {
   "cell_type": "code",
   "execution_count": 38,
   "id": "281f625e-a725-41d1-98bc-2b9e009520c4",
   "metadata": {},
   "outputs": [],
   "source": [
    "# Encode labels\n",
    "y_train_ids = [label_to_id[label] for label in y_train]\n",
    "y_valid_ids = [label_to_id[label] for label in y_valid]\n",
    "\n",
    "# convert datasets\n",
    "train_dataset = Dialogue2TopicDataset(X_train, y_train_ids, tokenizer, max_length)\n",
    "valid_dataset = Dialogue2TopicDataset(X_valid, y_valid_ids, tokenizer, max_length)"
   ]
  },
  {
   "cell_type": "code",
   "execution_count": 39,
   "id": "ddf7e721-bf8b-41aa-b410-2c1d987f0c9e",
   "metadata": {},
   "outputs": [
    {
     "data": {
      "text/plain": [
       "20"
      ]
     },
     "execution_count": 39,
     "metadata": {},
     "output_type": "execute_result"
    }
   ],
   "source": [
    "len(np.unique(y_valid_ids))"
   ]
  },
  {
   "cell_type": "code",
   "execution_count": 106,
   "id": "b9e732b9-b1dc-4c22-ab5d-6d6c0121945f",
   "metadata": {},
   "outputs": [],
   "source": [
    "# Define the parameters\n",
    "\n",
    "training_args = TrainingArguments(\n",
    "    output_dir=\"output\",\n",
    "    num_train_epochs=3,  \n",
    "    per_device_train_batch_size=8,\n",
    "    per_device_eval_batch_size=8,\n",
    "    evaluation_strategy=\"epoch\",\n",
    "    learning_rate=2e-5,  \n",
    "    weight_decay=0.01,  \n",
    "    save_strategy=\"no\",\n",
    ")\n",
    "\n"
   ]
  },
  {
   "cell_type": "code",
   "execution_count": 107,
   "id": "7bbdc41e-8eb4-43c5-9890-a8937999736d",
   "metadata": {},
   "outputs": [],
   "source": [
    "# metric\n",
    "\n",
    "def compute_metrics(pred):\n",
    "    labels = pred.label_ids\n",
    "    preds = pred.predictions.argmax(-1)\n",
    "    precision, recall, f1, _ = precision_recall_fscore_support(labels, preds, average='weighted')\n",
    "    acc = accuracy_score(labels, preds)\n",
    "    return {\n",
    "        'accuracy': acc,\n",
    "        'f1': f1,\n",
    "        'precision': precision,\n",
    "        'recall': recall\n",
    "    }\n"
   ]
  },
  {
   "cell_type": "code",
   "execution_count": 108,
   "id": "616104ee-f9b3-4e8b-94b0-c57357f2d63a",
   "metadata": {},
   "outputs": [
    {
     "name": "stderr",
     "output_type": "stream",
     "text": [
      "Truncation was not explicitly activated but `max_length` is provided a specific value, please use `truncation=True` to explicitly truncate examples to max length. Defaulting to 'longest_first' truncation strategy. If you encode pairs of sequences (GLUE-style) with the tokenizer you can select this strategy more precisely by providing a specific strategy to `truncation`.\n"
     ]
    },
    {
     "data": {
      "text/html": [
       "\n",
       "    <div>\n",
       "      \n",
       "      <progress value='3' max='453' style='width:300px; height:20px; vertical-align: middle;'></progress>\n",
       "      [  3/453 00:06 < 47:05, 0.16 it/s, Epoch 0.01/3]\n",
       "    </div>\n",
       "    <table border=\"1\" class=\"dataframe\">\n",
       "  <thead>\n",
       " <tr style=\"text-align: left;\">\n",
       "      <th>Epoch</th>\n",
       "      <th>Training Loss</th>\n",
       "      <th>Validation Loss</th>\n",
       "    </tr>\n",
       "  </thead>\n",
       "  <tbody>\n",
       "  </tbody>\n",
       "</table><p>"
      ],
      "text/plain": [
       "<IPython.core.display.HTML object>"
      ]
     },
     "metadata": {},
     "output_type": "display_data"
    },
    {
     "ename": "KeyboardInterrupt",
     "evalue": "",
     "output_type": "error",
     "traceback": [
      "\u001b[1;31m---------------------------------------------------------------------------\u001b[0m",
      "\u001b[1;31mKeyboardInterrupt\u001b[0m                         Traceback (most recent call last)",
      "Cell \u001b[1;32mIn [108], line 11\u001b[0m\n\u001b[0;32m      1\u001b[0m \u001b[38;5;66;03m# train model \u001b[39;00m\n\u001b[0;32m      3\u001b[0m trainer \u001b[38;5;241m=\u001b[39m Trainer(\n\u001b[0;32m      4\u001b[0m     model\u001b[38;5;241m=\u001b[39mmodel,\n\u001b[0;32m      5\u001b[0m     args\u001b[38;5;241m=\u001b[39mtraining_args,\n\u001b[1;32m   (...)\u001b[0m\n\u001b[0;32m      8\u001b[0m     compute_metrics\u001b[38;5;241m=\u001b[39mcompute_metrics\n\u001b[0;32m      9\u001b[0m )\n\u001b[1;32m---> 11\u001b[0m trainer\u001b[38;5;241m.\u001b[39mtrain()\n",
      "File \u001b[1;32m~\\anaconda3\\new\\lib\\site-packages\\transformers\\trainer.py:1662\u001b[0m, in \u001b[0;36mTrainer.train\u001b[1;34m(self, resume_from_checkpoint, trial, ignore_keys_for_eval, **kwargs)\u001b[0m\n\u001b[0;32m   1657\u001b[0m     \u001b[38;5;28mself\u001b[39m\u001b[38;5;241m.\u001b[39mmodel_wrapped \u001b[38;5;241m=\u001b[39m \u001b[38;5;28mself\u001b[39m\u001b[38;5;241m.\u001b[39mmodel\n\u001b[0;32m   1659\u001b[0m inner_training_loop \u001b[38;5;241m=\u001b[39m find_executable_batch_size(\n\u001b[0;32m   1660\u001b[0m     \u001b[38;5;28mself\u001b[39m\u001b[38;5;241m.\u001b[39m_inner_training_loop, \u001b[38;5;28mself\u001b[39m\u001b[38;5;241m.\u001b[39m_train_batch_size, args\u001b[38;5;241m.\u001b[39mauto_find_batch_size\n\u001b[0;32m   1661\u001b[0m )\n\u001b[1;32m-> 1662\u001b[0m \u001b[38;5;28;01mreturn\u001b[39;00m \u001b[43minner_training_loop\u001b[49m\u001b[43m(\u001b[49m\n\u001b[0;32m   1663\u001b[0m \u001b[43m    \u001b[49m\u001b[43margs\u001b[49m\u001b[38;5;241;43m=\u001b[39;49m\u001b[43margs\u001b[49m\u001b[43m,\u001b[49m\n\u001b[0;32m   1664\u001b[0m \u001b[43m    \u001b[49m\u001b[43mresume_from_checkpoint\u001b[49m\u001b[38;5;241;43m=\u001b[39;49m\u001b[43mresume_from_checkpoint\u001b[49m\u001b[43m,\u001b[49m\n\u001b[0;32m   1665\u001b[0m \u001b[43m    \u001b[49m\u001b[43mtrial\u001b[49m\u001b[38;5;241;43m=\u001b[39;49m\u001b[43mtrial\u001b[49m\u001b[43m,\u001b[49m\n\u001b[0;32m   1666\u001b[0m \u001b[43m    \u001b[49m\u001b[43mignore_keys_for_eval\u001b[49m\u001b[38;5;241;43m=\u001b[39;49m\u001b[43mignore_keys_for_eval\u001b[49m\u001b[43m,\u001b[49m\n\u001b[0;32m   1667\u001b[0m \u001b[43m\u001b[49m\u001b[43m)\u001b[49m\n",
      "File \u001b[1;32m~\\anaconda3\\new\\lib\\site-packages\\transformers\\trainer.py:1929\u001b[0m, in \u001b[0;36mTrainer._inner_training_loop\u001b[1;34m(self, batch_size, args, resume_from_checkpoint, trial, ignore_keys_for_eval)\u001b[0m\n\u001b[0;32m   1927\u001b[0m         tr_loss_step \u001b[38;5;241m=\u001b[39m \u001b[38;5;28mself\u001b[39m\u001b[38;5;241m.\u001b[39mtraining_step(model, inputs)\n\u001b[0;32m   1928\u001b[0m \u001b[38;5;28;01melse\u001b[39;00m:\n\u001b[1;32m-> 1929\u001b[0m     tr_loss_step \u001b[38;5;241m=\u001b[39m \u001b[38;5;28;43mself\u001b[39;49m\u001b[38;5;241;43m.\u001b[39;49m\u001b[43mtraining_step\u001b[49m\u001b[43m(\u001b[49m\u001b[43mmodel\u001b[49m\u001b[43m,\u001b[49m\u001b[43m \u001b[49m\u001b[43minputs\u001b[49m\u001b[43m)\u001b[49m\n\u001b[0;32m   1931\u001b[0m \u001b[38;5;28;01mif\u001b[39;00m (\n\u001b[0;32m   1932\u001b[0m     args\u001b[38;5;241m.\u001b[39mlogging_nan_inf_filter\n\u001b[0;32m   1933\u001b[0m     \u001b[38;5;129;01mand\u001b[39;00m \u001b[38;5;129;01mnot\u001b[39;00m is_torch_tpu_available()\n\u001b[0;32m   1934\u001b[0m     \u001b[38;5;129;01mand\u001b[39;00m (torch\u001b[38;5;241m.\u001b[39misnan(tr_loss_step) \u001b[38;5;129;01mor\u001b[39;00m torch\u001b[38;5;241m.\u001b[39misinf(tr_loss_step))\n\u001b[0;32m   1935\u001b[0m ):\n\u001b[0;32m   1936\u001b[0m     \u001b[38;5;66;03m# if loss is nan or inf simply add the average of previous logged losses\u001b[39;00m\n\u001b[0;32m   1937\u001b[0m     tr_loss \u001b[38;5;241m+\u001b[39m\u001b[38;5;241m=\u001b[39m tr_loss \u001b[38;5;241m/\u001b[39m (\u001b[38;5;241m1\u001b[39m \u001b[38;5;241m+\u001b[39m \u001b[38;5;28mself\u001b[39m\u001b[38;5;241m.\u001b[39mstate\u001b[38;5;241m.\u001b[39mglobal_step \u001b[38;5;241m-\u001b[39m \u001b[38;5;28mself\u001b[39m\u001b[38;5;241m.\u001b[39m_globalstep_last_logged)\n",
      "File \u001b[1;32m~\\anaconda3\\new\\lib\\site-packages\\transformers\\trainer.py:2699\u001b[0m, in \u001b[0;36mTrainer.training_step\u001b[1;34m(self, model, inputs)\u001b[0m\n\u001b[0;32m   2696\u001b[0m     \u001b[38;5;28;01mreturn\u001b[39;00m loss_mb\u001b[38;5;241m.\u001b[39mreduce_mean()\u001b[38;5;241m.\u001b[39mdetach()\u001b[38;5;241m.\u001b[39mto(\u001b[38;5;28mself\u001b[39m\u001b[38;5;241m.\u001b[39margs\u001b[38;5;241m.\u001b[39mdevice)\n\u001b[0;32m   2698\u001b[0m \u001b[38;5;28;01mwith\u001b[39;00m \u001b[38;5;28mself\u001b[39m\u001b[38;5;241m.\u001b[39mcompute_loss_context_manager():\n\u001b[1;32m-> 2699\u001b[0m     loss \u001b[38;5;241m=\u001b[39m \u001b[38;5;28;43mself\u001b[39;49m\u001b[38;5;241;43m.\u001b[39;49m\u001b[43mcompute_loss\u001b[49m\u001b[43m(\u001b[49m\u001b[43mmodel\u001b[49m\u001b[43m,\u001b[49m\u001b[43m \u001b[49m\u001b[43minputs\u001b[49m\u001b[43m)\u001b[49m\n\u001b[0;32m   2701\u001b[0m \u001b[38;5;28;01mif\u001b[39;00m \u001b[38;5;28mself\u001b[39m\u001b[38;5;241m.\u001b[39margs\u001b[38;5;241m.\u001b[39mn_gpu \u001b[38;5;241m>\u001b[39m \u001b[38;5;241m1\u001b[39m:\n\u001b[0;32m   2702\u001b[0m     loss \u001b[38;5;241m=\u001b[39m loss\u001b[38;5;241m.\u001b[39mmean()  \u001b[38;5;66;03m# mean() to average on multi-gpu parallel training\u001b[39;00m\n",
      "File \u001b[1;32m~\\anaconda3\\new\\lib\\site-packages\\transformers\\trainer.py:2731\u001b[0m, in \u001b[0;36mTrainer.compute_loss\u001b[1;34m(self, model, inputs, return_outputs)\u001b[0m\n\u001b[0;32m   2729\u001b[0m \u001b[38;5;28;01melse\u001b[39;00m:\n\u001b[0;32m   2730\u001b[0m     labels \u001b[38;5;241m=\u001b[39m \u001b[38;5;28;01mNone\u001b[39;00m\n\u001b[1;32m-> 2731\u001b[0m outputs \u001b[38;5;241m=\u001b[39m model(\u001b[38;5;241m*\u001b[39m\u001b[38;5;241m*\u001b[39minputs)\n\u001b[0;32m   2732\u001b[0m \u001b[38;5;66;03m# Save past state if it exists\u001b[39;00m\n\u001b[0;32m   2733\u001b[0m \u001b[38;5;66;03m# TODO: this needs to be fixed and made cleaner later.\u001b[39;00m\n\u001b[0;32m   2734\u001b[0m \u001b[38;5;28;01mif\u001b[39;00m \u001b[38;5;28mself\u001b[39m\u001b[38;5;241m.\u001b[39margs\u001b[38;5;241m.\u001b[39mpast_index \u001b[38;5;241m>\u001b[39m\u001b[38;5;241m=\u001b[39m \u001b[38;5;241m0\u001b[39m:\n",
      "File \u001b[1;32m~\\AppData\\Roaming\\Python\\Python39\\site-packages\\torch\\nn\\modules\\module.py:1130\u001b[0m, in \u001b[0;36mModule._call_impl\u001b[1;34m(self, *input, **kwargs)\u001b[0m\n\u001b[0;32m   1126\u001b[0m \u001b[38;5;66;03m# If we don't have any hooks, we want to skip the rest of the logic in\u001b[39;00m\n\u001b[0;32m   1127\u001b[0m \u001b[38;5;66;03m# this function, and just call forward.\u001b[39;00m\n\u001b[0;32m   1128\u001b[0m \u001b[38;5;28;01mif\u001b[39;00m \u001b[38;5;129;01mnot\u001b[39;00m (\u001b[38;5;28mself\u001b[39m\u001b[38;5;241m.\u001b[39m_backward_hooks \u001b[38;5;129;01mor\u001b[39;00m \u001b[38;5;28mself\u001b[39m\u001b[38;5;241m.\u001b[39m_forward_hooks \u001b[38;5;129;01mor\u001b[39;00m \u001b[38;5;28mself\u001b[39m\u001b[38;5;241m.\u001b[39m_forward_pre_hooks \u001b[38;5;129;01mor\u001b[39;00m _global_backward_hooks\n\u001b[0;32m   1129\u001b[0m         \u001b[38;5;129;01mor\u001b[39;00m _global_forward_hooks \u001b[38;5;129;01mor\u001b[39;00m _global_forward_pre_hooks):\n\u001b[1;32m-> 1130\u001b[0m     \u001b[38;5;28;01mreturn\u001b[39;00m forward_call(\u001b[38;5;241m*\u001b[39m\u001b[38;5;28minput\u001b[39m, \u001b[38;5;241m*\u001b[39m\u001b[38;5;241m*\u001b[39mkwargs)\n\u001b[0;32m   1131\u001b[0m \u001b[38;5;66;03m# Do not call functions when jit is used\u001b[39;00m\n\u001b[0;32m   1132\u001b[0m full_backward_hooks, non_full_backward_hooks \u001b[38;5;241m=\u001b[39m [], []\n",
      "File \u001b[1;32m~\\anaconda3\\new\\lib\\site-packages\\transformers\\models\\bert\\modeling_bert.py:1562\u001b[0m, in \u001b[0;36mBertForSequenceClassification.forward\u001b[1;34m(self, input_ids, attention_mask, token_type_ids, position_ids, head_mask, inputs_embeds, labels, output_attentions, output_hidden_states, return_dict)\u001b[0m\n\u001b[0;32m   1554\u001b[0m \u001b[38;5;124mr\u001b[39m\u001b[38;5;124;03m\"\"\"\u001b[39;00m\n\u001b[0;32m   1555\u001b[0m \u001b[38;5;124;03mlabels (`torch.LongTensor` of shape `(batch_size,)`, *optional*):\u001b[39;00m\n\u001b[0;32m   1556\u001b[0m \u001b[38;5;124;03m    Labels for computing the sequence classification/regression loss. Indices should be in `[0, ...,\u001b[39;00m\n\u001b[0;32m   1557\u001b[0m \u001b[38;5;124;03m    config.num_labels - 1]`. If `config.num_labels == 1` a regression loss is computed (Mean-Square loss), If\u001b[39;00m\n\u001b[0;32m   1558\u001b[0m \u001b[38;5;124;03m    `config.num_labels > 1` a classification loss is computed (Cross-Entropy).\u001b[39;00m\n\u001b[0;32m   1559\u001b[0m \u001b[38;5;124;03m\"\"\"\u001b[39;00m\n\u001b[0;32m   1560\u001b[0m return_dict \u001b[38;5;241m=\u001b[39m return_dict \u001b[38;5;28;01mif\u001b[39;00m return_dict \u001b[38;5;129;01mis\u001b[39;00m \u001b[38;5;129;01mnot\u001b[39;00m \u001b[38;5;28;01mNone\u001b[39;00m \u001b[38;5;28;01melse\u001b[39;00m \u001b[38;5;28mself\u001b[39m\u001b[38;5;241m.\u001b[39mconfig\u001b[38;5;241m.\u001b[39muse_return_dict\n\u001b[1;32m-> 1562\u001b[0m outputs \u001b[38;5;241m=\u001b[39m \u001b[38;5;28;43mself\u001b[39;49m\u001b[38;5;241;43m.\u001b[39;49m\u001b[43mbert\u001b[49m\u001b[43m(\u001b[49m\n\u001b[0;32m   1563\u001b[0m \u001b[43m    \u001b[49m\u001b[43minput_ids\u001b[49m\u001b[43m,\u001b[49m\n\u001b[0;32m   1564\u001b[0m \u001b[43m    \u001b[49m\u001b[43mattention_mask\u001b[49m\u001b[38;5;241;43m=\u001b[39;49m\u001b[43mattention_mask\u001b[49m\u001b[43m,\u001b[49m\n\u001b[0;32m   1565\u001b[0m \u001b[43m    \u001b[49m\u001b[43mtoken_type_ids\u001b[49m\u001b[38;5;241;43m=\u001b[39;49m\u001b[43mtoken_type_ids\u001b[49m\u001b[43m,\u001b[49m\n\u001b[0;32m   1566\u001b[0m \u001b[43m    \u001b[49m\u001b[43mposition_ids\u001b[49m\u001b[38;5;241;43m=\u001b[39;49m\u001b[43mposition_ids\u001b[49m\u001b[43m,\u001b[49m\n\u001b[0;32m   1567\u001b[0m \u001b[43m    \u001b[49m\u001b[43mhead_mask\u001b[49m\u001b[38;5;241;43m=\u001b[39;49m\u001b[43mhead_mask\u001b[49m\u001b[43m,\u001b[49m\n\u001b[0;32m   1568\u001b[0m \u001b[43m    \u001b[49m\u001b[43minputs_embeds\u001b[49m\u001b[38;5;241;43m=\u001b[39;49m\u001b[43minputs_embeds\u001b[49m\u001b[43m,\u001b[49m\n\u001b[0;32m   1569\u001b[0m \u001b[43m    \u001b[49m\u001b[43moutput_attentions\u001b[49m\u001b[38;5;241;43m=\u001b[39;49m\u001b[43moutput_attentions\u001b[49m\u001b[43m,\u001b[49m\n\u001b[0;32m   1570\u001b[0m \u001b[43m    \u001b[49m\u001b[43moutput_hidden_states\u001b[49m\u001b[38;5;241;43m=\u001b[39;49m\u001b[43moutput_hidden_states\u001b[49m\u001b[43m,\u001b[49m\n\u001b[0;32m   1571\u001b[0m \u001b[43m    \u001b[49m\u001b[43mreturn_dict\u001b[49m\u001b[38;5;241;43m=\u001b[39;49m\u001b[43mreturn_dict\u001b[49m\u001b[43m,\u001b[49m\n\u001b[0;32m   1572\u001b[0m \u001b[43m\u001b[49m\u001b[43m)\u001b[49m\n\u001b[0;32m   1574\u001b[0m pooled_output \u001b[38;5;241m=\u001b[39m outputs[\u001b[38;5;241m1\u001b[39m]\n\u001b[0;32m   1576\u001b[0m pooled_output \u001b[38;5;241m=\u001b[39m \u001b[38;5;28mself\u001b[39m\u001b[38;5;241m.\u001b[39mdropout(pooled_output)\n",
      "File \u001b[1;32m~\\AppData\\Roaming\\Python\\Python39\\site-packages\\torch\\nn\\modules\\module.py:1130\u001b[0m, in \u001b[0;36mModule._call_impl\u001b[1;34m(self, *input, **kwargs)\u001b[0m\n\u001b[0;32m   1126\u001b[0m \u001b[38;5;66;03m# If we don't have any hooks, we want to skip the rest of the logic in\u001b[39;00m\n\u001b[0;32m   1127\u001b[0m \u001b[38;5;66;03m# this function, and just call forward.\u001b[39;00m\n\u001b[0;32m   1128\u001b[0m \u001b[38;5;28;01mif\u001b[39;00m \u001b[38;5;129;01mnot\u001b[39;00m (\u001b[38;5;28mself\u001b[39m\u001b[38;5;241m.\u001b[39m_backward_hooks \u001b[38;5;129;01mor\u001b[39;00m \u001b[38;5;28mself\u001b[39m\u001b[38;5;241m.\u001b[39m_forward_hooks \u001b[38;5;129;01mor\u001b[39;00m \u001b[38;5;28mself\u001b[39m\u001b[38;5;241m.\u001b[39m_forward_pre_hooks \u001b[38;5;129;01mor\u001b[39;00m _global_backward_hooks\n\u001b[0;32m   1129\u001b[0m         \u001b[38;5;129;01mor\u001b[39;00m _global_forward_hooks \u001b[38;5;129;01mor\u001b[39;00m _global_forward_pre_hooks):\n\u001b[1;32m-> 1130\u001b[0m     \u001b[38;5;28;01mreturn\u001b[39;00m forward_call(\u001b[38;5;241m*\u001b[39m\u001b[38;5;28minput\u001b[39m, \u001b[38;5;241m*\u001b[39m\u001b[38;5;241m*\u001b[39mkwargs)\n\u001b[0;32m   1131\u001b[0m \u001b[38;5;66;03m# Do not call functions when jit is used\u001b[39;00m\n\u001b[0;32m   1132\u001b[0m full_backward_hooks, non_full_backward_hooks \u001b[38;5;241m=\u001b[39m [], []\n",
      "File \u001b[1;32m~\\anaconda3\\new\\lib\\site-packages\\transformers\\models\\bert\\modeling_bert.py:1020\u001b[0m, in \u001b[0;36mBertModel.forward\u001b[1;34m(self, input_ids, attention_mask, token_type_ids, position_ids, head_mask, inputs_embeds, encoder_hidden_states, encoder_attention_mask, past_key_values, use_cache, output_attentions, output_hidden_states, return_dict)\u001b[0m\n\u001b[0;32m   1011\u001b[0m head_mask \u001b[38;5;241m=\u001b[39m \u001b[38;5;28mself\u001b[39m\u001b[38;5;241m.\u001b[39mget_head_mask(head_mask, \u001b[38;5;28mself\u001b[39m\u001b[38;5;241m.\u001b[39mconfig\u001b[38;5;241m.\u001b[39mnum_hidden_layers)\n\u001b[0;32m   1013\u001b[0m embedding_output \u001b[38;5;241m=\u001b[39m \u001b[38;5;28mself\u001b[39m\u001b[38;5;241m.\u001b[39membeddings(\n\u001b[0;32m   1014\u001b[0m     input_ids\u001b[38;5;241m=\u001b[39minput_ids,\n\u001b[0;32m   1015\u001b[0m     position_ids\u001b[38;5;241m=\u001b[39mposition_ids,\n\u001b[1;32m   (...)\u001b[0m\n\u001b[0;32m   1018\u001b[0m     past_key_values_length\u001b[38;5;241m=\u001b[39mpast_key_values_length,\n\u001b[0;32m   1019\u001b[0m )\n\u001b[1;32m-> 1020\u001b[0m encoder_outputs \u001b[38;5;241m=\u001b[39m \u001b[38;5;28;43mself\u001b[39;49m\u001b[38;5;241;43m.\u001b[39;49m\u001b[43mencoder\u001b[49m\u001b[43m(\u001b[49m\n\u001b[0;32m   1021\u001b[0m \u001b[43m    \u001b[49m\u001b[43membedding_output\u001b[49m\u001b[43m,\u001b[49m\n\u001b[0;32m   1022\u001b[0m \u001b[43m    \u001b[49m\u001b[43mattention_mask\u001b[49m\u001b[38;5;241;43m=\u001b[39;49m\u001b[43mextended_attention_mask\u001b[49m\u001b[43m,\u001b[49m\n\u001b[0;32m   1023\u001b[0m \u001b[43m    \u001b[49m\u001b[43mhead_mask\u001b[49m\u001b[38;5;241;43m=\u001b[39;49m\u001b[43mhead_mask\u001b[49m\u001b[43m,\u001b[49m\n\u001b[0;32m   1024\u001b[0m \u001b[43m    \u001b[49m\u001b[43mencoder_hidden_states\u001b[49m\u001b[38;5;241;43m=\u001b[39;49m\u001b[43mencoder_hidden_states\u001b[49m\u001b[43m,\u001b[49m\n\u001b[0;32m   1025\u001b[0m \u001b[43m    \u001b[49m\u001b[43mencoder_attention_mask\u001b[49m\u001b[38;5;241;43m=\u001b[39;49m\u001b[43mencoder_extended_attention_mask\u001b[49m\u001b[43m,\u001b[49m\n\u001b[0;32m   1026\u001b[0m \u001b[43m    \u001b[49m\u001b[43mpast_key_values\u001b[49m\u001b[38;5;241;43m=\u001b[39;49m\u001b[43mpast_key_values\u001b[49m\u001b[43m,\u001b[49m\n\u001b[0;32m   1027\u001b[0m \u001b[43m    \u001b[49m\u001b[43muse_cache\u001b[49m\u001b[38;5;241;43m=\u001b[39;49m\u001b[43muse_cache\u001b[49m\u001b[43m,\u001b[49m\n\u001b[0;32m   1028\u001b[0m \u001b[43m    \u001b[49m\u001b[43moutput_attentions\u001b[49m\u001b[38;5;241;43m=\u001b[39;49m\u001b[43moutput_attentions\u001b[49m\u001b[43m,\u001b[49m\n\u001b[0;32m   1029\u001b[0m \u001b[43m    \u001b[49m\u001b[43moutput_hidden_states\u001b[49m\u001b[38;5;241;43m=\u001b[39;49m\u001b[43moutput_hidden_states\u001b[49m\u001b[43m,\u001b[49m\n\u001b[0;32m   1030\u001b[0m \u001b[43m    \u001b[49m\u001b[43mreturn_dict\u001b[49m\u001b[38;5;241;43m=\u001b[39;49m\u001b[43mreturn_dict\u001b[49m\u001b[43m,\u001b[49m\n\u001b[0;32m   1031\u001b[0m \u001b[43m\u001b[49m\u001b[43m)\u001b[49m\n\u001b[0;32m   1032\u001b[0m sequence_output \u001b[38;5;241m=\u001b[39m encoder_outputs[\u001b[38;5;241m0\u001b[39m]\n\u001b[0;32m   1033\u001b[0m pooled_output \u001b[38;5;241m=\u001b[39m \u001b[38;5;28mself\u001b[39m\u001b[38;5;241m.\u001b[39mpooler(sequence_output) \u001b[38;5;28;01mif\u001b[39;00m \u001b[38;5;28mself\u001b[39m\u001b[38;5;241m.\u001b[39mpooler \u001b[38;5;129;01mis\u001b[39;00m \u001b[38;5;129;01mnot\u001b[39;00m \u001b[38;5;28;01mNone\u001b[39;00m \u001b[38;5;28;01melse\u001b[39;00m \u001b[38;5;28;01mNone\u001b[39;00m\n",
      "File \u001b[1;32m~\\AppData\\Roaming\\Python\\Python39\\site-packages\\torch\\nn\\modules\\module.py:1130\u001b[0m, in \u001b[0;36mModule._call_impl\u001b[1;34m(self, *input, **kwargs)\u001b[0m\n\u001b[0;32m   1126\u001b[0m \u001b[38;5;66;03m# If we don't have any hooks, we want to skip the rest of the logic in\u001b[39;00m\n\u001b[0;32m   1127\u001b[0m \u001b[38;5;66;03m# this function, and just call forward.\u001b[39;00m\n\u001b[0;32m   1128\u001b[0m \u001b[38;5;28;01mif\u001b[39;00m \u001b[38;5;129;01mnot\u001b[39;00m (\u001b[38;5;28mself\u001b[39m\u001b[38;5;241m.\u001b[39m_backward_hooks \u001b[38;5;129;01mor\u001b[39;00m \u001b[38;5;28mself\u001b[39m\u001b[38;5;241m.\u001b[39m_forward_hooks \u001b[38;5;129;01mor\u001b[39;00m \u001b[38;5;28mself\u001b[39m\u001b[38;5;241m.\u001b[39m_forward_pre_hooks \u001b[38;5;129;01mor\u001b[39;00m _global_backward_hooks\n\u001b[0;32m   1129\u001b[0m         \u001b[38;5;129;01mor\u001b[39;00m _global_forward_hooks \u001b[38;5;129;01mor\u001b[39;00m _global_forward_pre_hooks):\n\u001b[1;32m-> 1130\u001b[0m     \u001b[38;5;28;01mreturn\u001b[39;00m forward_call(\u001b[38;5;241m*\u001b[39m\u001b[38;5;28minput\u001b[39m, \u001b[38;5;241m*\u001b[39m\u001b[38;5;241m*\u001b[39mkwargs)\n\u001b[0;32m   1131\u001b[0m \u001b[38;5;66;03m# Do not call functions when jit is used\u001b[39;00m\n\u001b[0;32m   1132\u001b[0m full_backward_hooks, non_full_backward_hooks \u001b[38;5;241m=\u001b[39m [], []\n",
      "File \u001b[1;32m~\\anaconda3\\new\\lib\\site-packages\\transformers\\models\\bert\\modeling_bert.py:610\u001b[0m, in \u001b[0;36mBertEncoder.forward\u001b[1;34m(self, hidden_states, attention_mask, head_mask, encoder_hidden_states, encoder_attention_mask, past_key_values, use_cache, output_attentions, output_hidden_states, return_dict)\u001b[0m\n\u001b[0;32m    601\u001b[0m     layer_outputs \u001b[38;5;241m=\u001b[39m torch\u001b[38;5;241m.\u001b[39mutils\u001b[38;5;241m.\u001b[39mcheckpoint\u001b[38;5;241m.\u001b[39mcheckpoint(\n\u001b[0;32m    602\u001b[0m         create_custom_forward(layer_module),\n\u001b[0;32m    603\u001b[0m         hidden_states,\n\u001b[1;32m   (...)\u001b[0m\n\u001b[0;32m    607\u001b[0m         encoder_attention_mask,\n\u001b[0;32m    608\u001b[0m     )\n\u001b[0;32m    609\u001b[0m \u001b[38;5;28;01melse\u001b[39;00m:\n\u001b[1;32m--> 610\u001b[0m     layer_outputs \u001b[38;5;241m=\u001b[39m \u001b[43mlayer_module\u001b[49m\u001b[43m(\u001b[49m\n\u001b[0;32m    611\u001b[0m \u001b[43m        \u001b[49m\u001b[43mhidden_states\u001b[49m\u001b[43m,\u001b[49m\n\u001b[0;32m    612\u001b[0m \u001b[43m        \u001b[49m\u001b[43mattention_mask\u001b[49m\u001b[43m,\u001b[49m\n\u001b[0;32m    613\u001b[0m \u001b[43m        \u001b[49m\u001b[43mlayer_head_mask\u001b[49m\u001b[43m,\u001b[49m\n\u001b[0;32m    614\u001b[0m \u001b[43m        \u001b[49m\u001b[43mencoder_hidden_states\u001b[49m\u001b[43m,\u001b[49m\n\u001b[0;32m    615\u001b[0m \u001b[43m        \u001b[49m\u001b[43mencoder_attention_mask\u001b[49m\u001b[43m,\u001b[49m\n\u001b[0;32m    616\u001b[0m \u001b[43m        \u001b[49m\u001b[43mpast_key_value\u001b[49m\u001b[43m,\u001b[49m\n\u001b[0;32m    617\u001b[0m \u001b[43m        \u001b[49m\u001b[43moutput_attentions\u001b[49m\u001b[43m,\u001b[49m\n\u001b[0;32m    618\u001b[0m \u001b[43m    \u001b[49m\u001b[43m)\u001b[49m\n\u001b[0;32m    620\u001b[0m hidden_states \u001b[38;5;241m=\u001b[39m layer_outputs[\u001b[38;5;241m0\u001b[39m]\n\u001b[0;32m    621\u001b[0m \u001b[38;5;28;01mif\u001b[39;00m use_cache:\n",
      "File \u001b[1;32m~\\AppData\\Roaming\\Python\\Python39\\site-packages\\torch\\nn\\modules\\module.py:1130\u001b[0m, in \u001b[0;36mModule._call_impl\u001b[1;34m(self, *input, **kwargs)\u001b[0m\n\u001b[0;32m   1126\u001b[0m \u001b[38;5;66;03m# If we don't have any hooks, we want to skip the rest of the logic in\u001b[39;00m\n\u001b[0;32m   1127\u001b[0m \u001b[38;5;66;03m# this function, and just call forward.\u001b[39;00m\n\u001b[0;32m   1128\u001b[0m \u001b[38;5;28;01mif\u001b[39;00m \u001b[38;5;129;01mnot\u001b[39;00m (\u001b[38;5;28mself\u001b[39m\u001b[38;5;241m.\u001b[39m_backward_hooks \u001b[38;5;129;01mor\u001b[39;00m \u001b[38;5;28mself\u001b[39m\u001b[38;5;241m.\u001b[39m_forward_hooks \u001b[38;5;129;01mor\u001b[39;00m \u001b[38;5;28mself\u001b[39m\u001b[38;5;241m.\u001b[39m_forward_pre_hooks \u001b[38;5;129;01mor\u001b[39;00m _global_backward_hooks\n\u001b[0;32m   1129\u001b[0m         \u001b[38;5;129;01mor\u001b[39;00m _global_forward_hooks \u001b[38;5;129;01mor\u001b[39;00m _global_forward_pre_hooks):\n\u001b[1;32m-> 1130\u001b[0m     \u001b[38;5;28;01mreturn\u001b[39;00m forward_call(\u001b[38;5;241m*\u001b[39m\u001b[38;5;28minput\u001b[39m, \u001b[38;5;241m*\u001b[39m\u001b[38;5;241m*\u001b[39mkwargs)\n\u001b[0;32m   1131\u001b[0m \u001b[38;5;66;03m# Do not call functions when jit is used\u001b[39;00m\n\u001b[0;32m   1132\u001b[0m full_backward_hooks, non_full_backward_hooks \u001b[38;5;241m=\u001b[39m [], []\n",
      "File \u001b[1;32m~\\anaconda3\\new\\lib\\site-packages\\transformers\\models\\bert\\modeling_bert.py:495\u001b[0m, in \u001b[0;36mBertLayer.forward\u001b[1;34m(self, hidden_states, attention_mask, head_mask, encoder_hidden_states, encoder_attention_mask, past_key_value, output_attentions)\u001b[0m\n\u001b[0;32m    483\u001b[0m \u001b[38;5;28;01mdef\u001b[39;00m \u001b[38;5;21mforward\u001b[39m(\n\u001b[0;32m    484\u001b[0m     \u001b[38;5;28mself\u001b[39m,\n\u001b[0;32m    485\u001b[0m     hidden_states: torch\u001b[38;5;241m.\u001b[39mTensor,\n\u001b[1;32m   (...)\u001b[0m\n\u001b[0;32m    492\u001b[0m ) \u001b[38;5;241m-\u001b[39m\u001b[38;5;241m>\u001b[39m Tuple[torch\u001b[38;5;241m.\u001b[39mTensor]:\n\u001b[0;32m    493\u001b[0m     \u001b[38;5;66;03m# decoder uni-directional self-attention cached key/values tuple is at positions 1,2\u001b[39;00m\n\u001b[0;32m    494\u001b[0m     self_attn_past_key_value \u001b[38;5;241m=\u001b[39m past_key_value[:\u001b[38;5;241m2\u001b[39m] \u001b[38;5;28;01mif\u001b[39;00m past_key_value \u001b[38;5;129;01mis\u001b[39;00m \u001b[38;5;129;01mnot\u001b[39;00m \u001b[38;5;28;01mNone\u001b[39;00m \u001b[38;5;28;01melse\u001b[39;00m \u001b[38;5;28;01mNone\u001b[39;00m\n\u001b[1;32m--> 495\u001b[0m     self_attention_outputs \u001b[38;5;241m=\u001b[39m \u001b[38;5;28;43mself\u001b[39;49m\u001b[38;5;241;43m.\u001b[39;49m\u001b[43mattention\u001b[49m\u001b[43m(\u001b[49m\n\u001b[0;32m    496\u001b[0m \u001b[43m        \u001b[49m\u001b[43mhidden_states\u001b[49m\u001b[43m,\u001b[49m\n\u001b[0;32m    497\u001b[0m \u001b[43m        \u001b[49m\u001b[43mattention_mask\u001b[49m\u001b[43m,\u001b[49m\n\u001b[0;32m    498\u001b[0m \u001b[43m        \u001b[49m\u001b[43mhead_mask\u001b[49m\u001b[43m,\u001b[49m\n\u001b[0;32m    499\u001b[0m \u001b[43m        \u001b[49m\u001b[43moutput_attentions\u001b[49m\u001b[38;5;241;43m=\u001b[39;49m\u001b[43moutput_attentions\u001b[49m\u001b[43m,\u001b[49m\n\u001b[0;32m    500\u001b[0m \u001b[43m        \u001b[49m\u001b[43mpast_key_value\u001b[49m\u001b[38;5;241;43m=\u001b[39;49m\u001b[43mself_attn_past_key_value\u001b[49m\u001b[43m,\u001b[49m\n\u001b[0;32m    501\u001b[0m \u001b[43m    \u001b[49m\u001b[43m)\u001b[49m\n\u001b[0;32m    502\u001b[0m     attention_output \u001b[38;5;241m=\u001b[39m self_attention_outputs[\u001b[38;5;241m0\u001b[39m]\n\u001b[0;32m    504\u001b[0m     \u001b[38;5;66;03m# if decoder, the last output is tuple of self-attn cache\u001b[39;00m\n",
      "File \u001b[1;32m~\\AppData\\Roaming\\Python\\Python39\\site-packages\\torch\\nn\\modules\\module.py:1130\u001b[0m, in \u001b[0;36mModule._call_impl\u001b[1;34m(self, *input, **kwargs)\u001b[0m\n\u001b[0;32m   1126\u001b[0m \u001b[38;5;66;03m# If we don't have any hooks, we want to skip the rest of the logic in\u001b[39;00m\n\u001b[0;32m   1127\u001b[0m \u001b[38;5;66;03m# this function, and just call forward.\u001b[39;00m\n\u001b[0;32m   1128\u001b[0m \u001b[38;5;28;01mif\u001b[39;00m \u001b[38;5;129;01mnot\u001b[39;00m (\u001b[38;5;28mself\u001b[39m\u001b[38;5;241m.\u001b[39m_backward_hooks \u001b[38;5;129;01mor\u001b[39;00m \u001b[38;5;28mself\u001b[39m\u001b[38;5;241m.\u001b[39m_forward_hooks \u001b[38;5;129;01mor\u001b[39;00m \u001b[38;5;28mself\u001b[39m\u001b[38;5;241m.\u001b[39m_forward_pre_hooks \u001b[38;5;129;01mor\u001b[39;00m _global_backward_hooks\n\u001b[0;32m   1129\u001b[0m         \u001b[38;5;129;01mor\u001b[39;00m _global_forward_hooks \u001b[38;5;129;01mor\u001b[39;00m _global_forward_pre_hooks):\n\u001b[1;32m-> 1130\u001b[0m     \u001b[38;5;28;01mreturn\u001b[39;00m forward_call(\u001b[38;5;241m*\u001b[39m\u001b[38;5;28minput\u001b[39m, \u001b[38;5;241m*\u001b[39m\u001b[38;5;241m*\u001b[39mkwargs)\n\u001b[0;32m   1131\u001b[0m \u001b[38;5;66;03m# Do not call functions when jit is used\u001b[39;00m\n\u001b[0;32m   1132\u001b[0m full_backward_hooks, non_full_backward_hooks \u001b[38;5;241m=\u001b[39m [], []\n",
      "File \u001b[1;32m~\\anaconda3\\new\\lib\\site-packages\\transformers\\models\\bert\\modeling_bert.py:425\u001b[0m, in \u001b[0;36mBertAttention.forward\u001b[1;34m(self, hidden_states, attention_mask, head_mask, encoder_hidden_states, encoder_attention_mask, past_key_value, output_attentions)\u001b[0m\n\u001b[0;32m    415\u001b[0m \u001b[38;5;28;01mdef\u001b[39;00m \u001b[38;5;21mforward\u001b[39m(\n\u001b[0;32m    416\u001b[0m     \u001b[38;5;28mself\u001b[39m,\n\u001b[0;32m    417\u001b[0m     hidden_states: torch\u001b[38;5;241m.\u001b[39mTensor,\n\u001b[1;32m   (...)\u001b[0m\n\u001b[0;32m    423\u001b[0m     output_attentions: Optional[\u001b[38;5;28mbool\u001b[39m] \u001b[38;5;241m=\u001b[39m \u001b[38;5;28;01mFalse\u001b[39;00m,\n\u001b[0;32m    424\u001b[0m ) \u001b[38;5;241m-\u001b[39m\u001b[38;5;241m>\u001b[39m Tuple[torch\u001b[38;5;241m.\u001b[39mTensor]:\n\u001b[1;32m--> 425\u001b[0m     self_outputs \u001b[38;5;241m=\u001b[39m \u001b[38;5;28;43mself\u001b[39;49m\u001b[38;5;241;43m.\u001b[39;49m\u001b[43mself\u001b[49m\u001b[43m(\u001b[49m\n\u001b[0;32m    426\u001b[0m \u001b[43m        \u001b[49m\u001b[43mhidden_states\u001b[49m\u001b[43m,\u001b[49m\n\u001b[0;32m    427\u001b[0m \u001b[43m        \u001b[49m\u001b[43mattention_mask\u001b[49m\u001b[43m,\u001b[49m\n\u001b[0;32m    428\u001b[0m \u001b[43m        \u001b[49m\u001b[43mhead_mask\u001b[49m\u001b[43m,\u001b[49m\n\u001b[0;32m    429\u001b[0m \u001b[43m        \u001b[49m\u001b[43mencoder_hidden_states\u001b[49m\u001b[43m,\u001b[49m\n\u001b[0;32m    430\u001b[0m \u001b[43m        \u001b[49m\u001b[43mencoder_attention_mask\u001b[49m\u001b[43m,\u001b[49m\n\u001b[0;32m    431\u001b[0m \u001b[43m        \u001b[49m\u001b[43mpast_key_value\u001b[49m\u001b[43m,\u001b[49m\n\u001b[0;32m    432\u001b[0m \u001b[43m        \u001b[49m\u001b[43moutput_attentions\u001b[49m\u001b[43m,\u001b[49m\n\u001b[0;32m    433\u001b[0m \u001b[43m    \u001b[49m\u001b[43m)\u001b[49m\n\u001b[0;32m    434\u001b[0m     attention_output \u001b[38;5;241m=\u001b[39m \u001b[38;5;28mself\u001b[39m\u001b[38;5;241m.\u001b[39moutput(self_outputs[\u001b[38;5;241m0\u001b[39m], hidden_states)\n\u001b[0;32m    435\u001b[0m     outputs \u001b[38;5;241m=\u001b[39m (attention_output,) \u001b[38;5;241m+\u001b[39m self_outputs[\u001b[38;5;241m1\u001b[39m:]  \u001b[38;5;66;03m# add attentions if we output them\u001b[39;00m\n",
      "File \u001b[1;32m~\\AppData\\Roaming\\Python\\Python39\\site-packages\\torch\\nn\\modules\\module.py:1130\u001b[0m, in \u001b[0;36mModule._call_impl\u001b[1;34m(self, *input, **kwargs)\u001b[0m\n\u001b[0;32m   1126\u001b[0m \u001b[38;5;66;03m# If we don't have any hooks, we want to skip the rest of the logic in\u001b[39;00m\n\u001b[0;32m   1127\u001b[0m \u001b[38;5;66;03m# this function, and just call forward.\u001b[39;00m\n\u001b[0;32m   1128\u001b[0m \u001b[38;5;28;01mif\u001b[39;00m \u001b[38;5;129;01mnot\u001b[39;00m (\u001b[38;5;28mself\u001b[39m\u001b[38;5;241m.\u001b[39m_backward_hooks \u001b[38;5;129;01mor\u001b[39;00m \u001b[38;5;28mself\u001b[39m\u001b[38;5;241m.\u001b[39m_forward_hooks \u001b[38;5;129;01mor\u001b[39;00m \u001b[38;5;28mself\u001b[39m\u001b[38;5;241m.\u001b[39m_forward_pre_hooks \u001b[38;5;129;01mor\u001b[39;00m _global_backward_hooks\n\u001b[0;32m   1129\u001b[0m         \u001b[38;5;129;01mor\u001b[39;00m _global_forward_hooks \u001b[38;5;129;01mor\u001b[39;00m _global_forward_pre_hooks):\n\u001b[1;32m-> 1130\u001b[0m     \u001b[38;5;28;01mreturn\u001b[39;00m forward_call(\u001b[38;5;241m*\u001b[39m\u001b[38;5;28minput\u001b[39m, \u001b[38;5;241m*\u001b[39m\u001b[38;5;241m*\u001b[39mkwargs)\n\u001b[0;32m   1131\u001b[0m \u001b[38;5;66;03m# Do not call functions when jit is used\u001b[39;00m\n\u001b[0;32m   1132\u001b[0m full_backward_hooks, non_full_backward_hooks \u001b[38;5;241m=\u001b[39m [], []\n",
      "File \u001b[1;32m~\\anaconda3\\new\\lib\\site-packages\\transformers\\models\\bert\\modeling_bert.py:284\u001b[0m, in \u001b[0;36mBertSelfAttention.forward\u001b[1;34m(self, hidden_states, attention_mask, head_mask, encoder_hidden_states, encoder_attention_mask, past_key_value, output_attentions)\u001b[0m\n\u001b[0;32m    274\u001b[0m \u001b[38;5;28;01mdef\u001b[39;00m \u001b[38;5;21mforward\u001b[39m(\n\u001b[0;32m    275\u001b[0m     \u001b[38;5;28mself\u001b[39m,\n\u001b[0;32m    276\u001b[0m     hidden_states: torch\u001b[38;5;241m.\u001b[39mTensor,\n\u001b[1;32m   (...)\u001b[0m\n\u001b[0;32m    282\u001b[0m     output_attentions: Optional[\u001b[38;5;28mbool\u001b[39m] \u001b[38;5;241m=\u001b[39m \u001b[38;5;28;01mFalse\u001b[39;00m,\n\u001b[0;32m    283\u001b[0m ) \u001b[38;5;241m-\u001b[39m\u001b[38;5;241m>\u001b[39m Tuple[torch\u001b[38;5;241m.\u001b[39mTensor]:\n\u001b[1;32m--> 284\u001b[0m     mixed_query_layer \u001b[38;5;241m=\u001b[39m \u001b[38;5;28;43mself\u001b[39;49m\u001b[38;5;241;43m.\u001b[39;49m\u001b[43mquery\u001b[49m\u001b[43m(\u001b[49m\u001b[43mhidden_states\u001b[49m\u001b[43m)\u001b[49m\n\u001b[0;32m    286\u001b[0m     \u001b[38;5;66;03m# If this is instantiated as a cross-attention module, the keys\u001b[39;00m\n\u001b[0;32m    287\u001b[0m     \u001b[38;5;66;03m# and values come from an encoder; the attention mask needs to be\u001b[39;00m\n\u001b[0;32m    288\u001b[0m     \u001b[38;5;66;03m# such that the encoder's padding tokens are not attended to.\u001b[39;00m\n\u001b[0;32m    289\u001b[0m     is_cross_attention \u001b[38;5;241m=\u001b[39m encoder_hidden_states \u001b[38;5;129;01mis\u001b[39;00m \u001b[38;5;129;01mnot\u001b[39;00m \u001b[38;5;28;01mNone\u001b[39;00m\n",
      "File \u001b[1;32m~\\AppData\\Roaming\\Python\\Python39\\site-packages\\torch\\nn\\modules\\module.py:1130\u001b[0m, in \u001b[0;36mModule._call_impl\u001b[1;34m(self, *input, **kwargs)\u001b[0m\n\u001b[0;32m   1126\u001b[0m \u001b[38;5;66;03m# If we don't have any hooks, we want to skip the rest of the logic in\u001b[39;00m\n\u001b[0;32m   1127\u001b[0m \u001b[38;5;66;03m# this function, and just call forward.\u001b[39;00m\n\u001b[0;32m   1128\u001b[0m \u001b[38;5;28;01mif\u001b[39;00m \u001b[38;5;129;01mnot\u001b[39;00m (\u001b[38;5;28mself\u001b[39m\u001b[38;5;241m.\u001b[39m_backward_hooks \u001b[38;5;129;01mor\u001b[39;00m \u001b[38;5;28mself\u001b[39m\u001b[38;5;241m.\u001b[39m_forward_hooks \u001b[38;5;129;01mor\u001b[39;00m \u001b[38;5;28mself\u001b[39m\u001b[38;5;241m.\u001b[39m_forward_pre_hooks \u001b[38;5;129;01mor\u001b[39;00m _global_backward_hooks\n\u001b[0;32m   1129\u001b[0m         \u001b[38;5;129;01mor\u001b[39;00m _global_forward_hooks \u001b[38;5;129;01mor\u001b[39;00m _global_forward_pre_hooks):\n\u001b[1;32m-> 1130\u001b[0m     \u001b[38;5;28;01mreturn\u001b[39;00m forward_call(\u001b[38;5;241m*\u001b[39m\u001b[38;5;28minput\u001b[39m, \u001b[38;5;241m*\u001b[39m\u001b[38;5;241m*\u001b[39mkwargs)\n\u001b[0;32m   1131\u001b[0m \u001b[38;5;66;03m# Do not call functions when jit is used\u001b[39;00m\n\u001b[0;32m   1132\u001b[0m full_backward_hooks, non_full_backward_hooks \u001b[38;5;241m=\u001b[39m [], []\n",
      "File \u001b[1;32m~\\AppData\\Roaming\\Python\\Python39\\site-packages\\torch\\nn\\modules\\linear.py:114\u001b[0m, in \u001b[0;36mLinear.forward\u001b[1;34m(self, input)\u001b[0m\n\u001b[0;32m    113\u001b[0m \u001b[38;5;28;01mdef\u001b[39;00m \u001b[38;5;21mforward\u001b[39m(\u001b[38;5;28mself\u001b[39m, \u001b[38;5;28minput\u001b[39m: Tensor) \u001b[38;5;241m-\u001b[39m\u001b[38;5;241m>\u001b[39m Tensor:\n\u001b[1;32m--> 114\u001b[0m     \u001b[38;5;28;01mreturn\u001b[39;00m \u001b[43mF\u001b[49m\u001b[38;5;241;43m.\u001b[39;49m\u001b[43mlinear\u001b[49m\u001b[43m(\u001b[49m\u001b[38;5;28;43minput\u001b[39;49m\u001b[43m,\u001b[49m\u001b[43m \u001b[49m\u001b[38;5;28;43mself\u001b[39;49m\u001b[38;5;241;43m.\u001b[39;49m\u001b[43mweight\u001b[49m\u001b[43m,\u001b[49m\u001b[43m \u001b[49m\u001b[38;5;28;43mself\u001b[39;49m\u001b[38;5;241;43m.\u001b[39;49m\u001b[43mbias\u001b[49m\u001b[43m)\u001b[49m\n",
      "\u001b[1;31mKeyboardInterrupt\u001b[0m: "
     ]
    }
   ],
   "source": [
    "# train model \n",
    "\n",
    "trainer = Trainer(\n",
    "    model=model,\n",
    "    args=training_args,\n",
    "    train_dataset=train_dataset,\n",
    "    eval_dataset=valid_dataset,\n",
    "    compute_metrics=compute_metrics\n",
    ")\n",
    "\n",
    "trainer.train()\n"
   ]
  },
  {
   "cell_type": "code",
   "execution_count": null,
   "id": "3e9170d2-e99a-445f-ac4c-361c021a48ef",
   "metadata": {},
   "outputs": [],
   "source": []
  },
  {
   "cell_type": "code",
   "execution_count": null,
   "id": "0fccf222-535d-4426-bc34-8d7f724c5cd5",
   "metadata": {},
   "outputs": [],
   "source": [
    "# evaluation\n",
    "\n",
    "evaluation_results = trainer.evaluate()\n",
    "print(evaluation_results)\n"
   ]
  },
  {
   "cell_type": "code",
   "execution_count": 191,
   "id": "b9a6f794-2bad-4c5e-bf09-2b38f4bdcd00",
   "metadata": {},
   "outputs": [
    {
     "name": "stdout",
     "output_type": "stream",
     "text": [
      "               precision    recall  f1-score   support\n",
      "\n",
      "      ALLERGY       1.00      0.50      0.67         4\n",
      "   ASSESSMENT       0.00      0.00      0.00         4\n",
      "           CC       0.12      0.25      0.17         4\n",
      "    DIAGNOSIS       0.00      0.00      0.00         1\n",
      "  DISPOSITION       0.00      0.00      0.00         2\n",
      "     EDCOURSE       0.00      0.00      0.00         3\n",
      "         EXAM       0.00      0.00      0.00         1\n",
      "    FAM/SOCHX       0.81      0.95      0.88        22\n",
      "        GENHX       0.84      0.80      0.82        20\n",
      "        GYNHX       0.00      0.00      0.00         1\n",
      "      IMAGING       0.00      0.00      0.00         1\n",
      "IMMUNIZATIONS       0.00      0.00      0.00         1\n",
      "         LABS       0.00      0.00      0.00         1\n",
      "  MEDICATIONS       0.47      1.00      0.64         7\n",
      "OTHER_HISTORY       0.00      0.00      0.00         1\n",
      "PASTMEDICALHX       0.40      1.00      0.57         4\n",
      " PASTSURGICAL       0.78      0.88      0.82         8\n",
      "         PLAN       0.00      0.00      0.00         3\n",
      "   PROCEDURES       0.00      0.00      0.00         1\n",
      "          ROS       0.73      0.73      0.73        11\n",
      "\n",
      "     accuracy                           0.66       100\n",
      "    macro avg       0.26      0.31      0.26       100\n",
      " weighted avg       0.58      0.66      0.60       100\n",
      "\n"
     ]
    }
   ],
   "source": [
    "# report\n",
    "\n",
    "predictions_output = trainer.predict(valid_dataset)\n",
    "predicted_labels = predictions_output.predictions.argmax(-1)\n",
    "\n",
    "y_valid_pred = [id_to_label[label_id] for label_id in predicted_labels]\n",
    "y_valid_true = [id_to_label[label_id] for label_id in y_valid_ids]\n",
    "\n",
    "report = classification_report(y_valid_true, y_valid_pred)\n",
    "print(report)\n"
   ]
  },
  {
   "cell_type": "code",
   "execution_count": null,
   "id": "d0c39860-6dbb-4b45-b327-747c8412f0f1",
   "metadata": {},
   "outputs": [],
   "source": []
  },
  {
   "cell_type": "code",
   "execution_count": 54,
   "id": "2bdb4efb-e9d8-45e1-9e14-c6672b6da5b3",
   "metadata": {},
   "outputs": [
    {
     "name": "stderr",
     "output_type": "stream",
     "text": [
      "Some weights of the model checkpoint at emilyalsentzer/Bio_ClinicalBERT were not used when initializing BertForSequenceClassification: ['cls.seq_relationship.weight', 'cls.predictions.transform.LayerNorm.weight', 'cls.seq_relationship.bias', 'cls.predictions.transform.LayerNorm.bias', 'cls.predictions.transform.dense.bias', 'cls.predictions.transform.dense.weight', 'cls.predictions.decoder.weight', 'cls.predictions.bias']\n",
      "- This IS expected if you are initializing BertForSequenceClassification from the checkpoint of a model trained on another task or with another architecture (e.g. initializing a BertForSequenceClassification model from a BertForPreTraining model).\n",
      "- This IS NOT expected if you are initializing BertForSequenceClassification from the checkpoint of a model that you expect to be exactly identical (initializing a BertForSequenceClassification model from a BertForSequenceClassification model).\n",
      "Some weights of BertForSequenceClassification were not initialized from the model checkpoint at emilyalsentzer/Bio_ClinicalBERT and are newly initialized: ['classifier.weight', 'classifier.bias']\n",
      "You should probably TRAIN this model on a down-stream task to be able to use it for predictions and inference.\n",
      "Truncation was not explicitly activated but `max_length` is provided a specific value, please use `truncation=True` to explicitly truncate examples to max length. Defaulting to 'longest_first' truncation strategy. If you encode pairs of sequences (GLUE-style) with the tokenizer you can select this strategy more precisely by providing a specific strategy to `truncation`.\n"
     ]
    },
    {
     "name": "stdout",
     "output_type": "stream",
     "text": [
      "Before oversampling: Counter({'FAM/SOCHX': 351, 'GENHX': 282, 'PASTMEDICALHX': 118, 'CC': 77, 'PASTSURGICAL': 63, 'ALLERGY': 60, 'ROS': 60, 'MEDICATIONS': 54, 'ASSESSMENT': 34, 'EXAM': 23, 'DIAGNOSIS': 19, 'DISPOSITION': 15, 'PLAN': 11, 'EDCOURSE': 8, 'IMMUNIZATIONS': 8, 'IMAGING': 6, 'GYNHX': 5, 'PROCEDURES': 3, 'OTHER_HISTORY': 2, 'LABS': 2})\n",
      "After oversampling: Counter({'GENHX': 351, 'MEDICATIONS': 351, 'CC': 351, 'PASTMEDICALHX': 351, 'ALLERGY': 351, 'FAM/SOCHX': 351, 'PASTSURGICAL': 351, 'OTHER_HISTORY': 351, 'ASSESSMENT': 351, 'ROS': 351, 'DISPOSITION': 351, 'EXAM': 351, 'PLAN': 351, 'DIAGNOSIS': 351, 'EDCOURSE': 351, 'IMMUNIZATIONS': 351, 'LABS': 351, 'IMAGING': 351, 'PROCEDURES': 351, 'GYNHX': 351})\n"
     ]
    },
    {
     "data": {
      "text/html": [
       "\n",
       "    <div>\n",
       "      \n",
       "      <progress value='2634' max='2634' style='width:300px; height:20px; vertical-align: middle;'></progress>\n",
       "      [2634/2634 5:03:59, Epoch 3/3]\n",
       "    </div>\n",
       "    <table border=\"1\" class=\"dataframe\">\n",
       "  <thead>\n",
       " <tr style=\"text-align: left;\">\n",
       "      <th>Epoch</th>\n",
       "      <th>Training Loss</th>\n",
       "      <th>Validation Loss</th>\n",
       "      <th>Accuracy</th>\n",
       "      <th>F1</th>\n",
       "      <th>Precision</th>\n",
       "      <th>Recall</th>\n",
       "    </tr>\n",
       "  </thead>\n",
       "  <tbody>\n",
       "    <tr>\n",
       "      <td>1</td>\n",
       "      <td>1.504000</td>\n",
       "      <td>1.221193</td>\n",
       "      <td>0.680000</td>\n",
       "      <td>0.677644</td>\n",
       "      <td>0.723437</td>\n",
       "      <td>0.680000</td>\n",
       "    </tr>\n",
       "    <tr>\n",
       "      <td>2</td>\n",
       "      <td>0.064800</td>\n",
       "      <td>1.477720</td>\n",
       "      <td>0.710000</td>\n",
       "      <td>0.698734</td>\n",
       "      <td>0.731607</td>\n",
       "      <td>0.710000</td>\n",
       "    </tr>\n",
       "    <tr>\n",
       "      <td>3</td>\n",
       "      <td>0.022100</td>\n",
       "      <td>1.430895</td>\n",
       "      <td>0.730000</td>\n",
       "      <td>0.714825</td>\n",
       "      <td>0.719671</td>\n",
       "      <td>0.730000</td>\n",
       "    </tr>\n",
       "  </tbody>\n",
       "</table><p>"
      ],
      "text/plain": [
       "<IPython.core.display.HTML object>"
      ]
     },
     "metadata": {},
     "output_type": "display_data"
    },
    {
     "data": {
      "text/html": [],
      "text/plain": [
       "<IPython.core.display.HTML object>"
      ]
     },
     "metadata": {},
     "output_type": "display_data"
    },
    {
     "name": "stdout",
     "output_type": "stream",
     "text": [
      "{'eval_loss': 1.4308947324752808, 'eval_accuracy': 0.73, 'eval_f1': 0.7148252531781946, 'eval_precision': 0.7196710526315789, 'eval_recall': 0.73, 'eval_runtime': 31.0234, 'eval_samples_per_second': 3.223, 'eval_steps_per_second': 0.419, 'epoch': 3.0}\n",
      "               precision    recall  f1-score   support\n",
      "\n",
      "      ALLERGY       1.00      0.50      0.67         4\n",
      "   ASSESSMENT       0.67      0.50      0.57         4\n",
      "           CC       0.17      0.25      0.20         4\n",
      "    DIAGNOSIS       0.00      0.00      0.00         1\n",
      "  DISPOSITION       0.00      0.00      0.00         2\n",
      "     EDCOURSE       1.00      0.67      0.80         3\n",
      "         EXAM       1.00      1.00      1.00         1\n",
      "    FAM/SOCHX       0.78      0.95      0.86        22\n",
      "        GENHX       0.84      0.80      0.82        20\n",
      "        GYNHX       0.00      0.00      0.00         1\n",
      "      IMAGING       0.00      0.00      0.00         1\n",
      "IMMUNIZATIONS       1.00      1.00      1.00         1\n",
      "         LABS       0.00      0.00      0.00         1\n",
      "  MEDICATIONS       0.88      1.00      0.93         7\n",
      "OTHER_HISTORY       0.00      0.00      0.00         1\n",
      "PASTMEDICALHX       0.67      1.00      0.80         4\n",
      " PASTSURGICAL       0.89      1.00      0.94         8\n",
      "         PLAN       0.00      0.00      0.00         3\n",
      "   PROCEDURES       0.00      0.00      0.00         1\n",
      "          ROS       0.89      0.73      0.80        11\n",
      "\n",
      "     accuracy                           0.73       100\n",
      "    macro avg       0.49      0.47      0.47       100\n",
      " weighted avg       0.72      0.73      0.71       100\n",
      "\n"
     ]
    }
   ],
   "source": [
    "# + oversampler and run Clinical BERT again\n",
    "\n",
    "tokenizer = AutoTokenizer.from_pretrained(\"emilyalsentzer/Bio_ClinicalBERT\")\n",
    "model = AutoModelForSequenceClassification.from_pretrained(\"emilyalsentzer/Bio_ClinicalBERT\", num_labels=20)\n",
    "\n",
    "\n",
    "\n",
    "from torch.utils.data import Dataset\n",
    "\n",
    "class Dialogue2TopicDataset(Dataset):\n",
    "    def __init__(self, X, y, tokenizer, max_length):\n",
    "        self.X = X\n",
    "        self.y = y\n",
    "        self.tokenizer = tokenizer\n",
    "        self.max_length = max_length\n",
    "\n",
    "    def __len__(self):\n",
    "        return len(self.X)\n",
    "\n",
    "    def __getitem__(self, idx):\n",
    "        text = self.X[idx]\n",
    "        label = self.y[idx]\n",
    "\n",
    "        # Encode\n",
    "        inputs = self.tokenizer.encode_plus(\n",
    "            text,\n",
    "            None,\n",
    "            add_special_tokens=True,\n",
    "            max_length=self.max_length,\n",
    "            pad_to_max_length=True,\n",
    "            return_token_type_ids=True,\n",
    "            return_attention_mask=True,\n",
    "            return_tensors='pt'\n",
    "        )\n",
    "\n",
    "        return {\n",
    "            'input_ids': inputs['input_ids'][0],\n",
    "            'attention_mask': inputs['attention_mask'][0],\n",
    "            'labels': torch.tensor(label, dtype=torch.long)\n",
    "        }\n",
    "\n",
    "# convert  \n",
    "\n",
    "max_length = 307  \n",
    "\n",
    "# Prepare label encoding\n",
    "label_to_id = {label: idx for idx, label in enumerate(set(y_train))}\n",
    "id_to_label = {idx: label for label, idx in label_to_id.items()}\n",
    "\n",
    "# Import the necessary libraries\n",
    "from imblearn.over_sampling import RandomOverSampler\n",
    "from collections import Counter\n",
    "import numpy as np\n",
    "\n",
    "# Oversampling \n",
    "ros = RandomOverSampler(random_state=42)\n",
    "X_train_resampled, y_train_resampled = ros.fit_resample(\n",
    "    np.array(X_train).reshape(-1, 1), y_train\n",
    ")\n",
    "X_train_resampled = X_train_resampled.ravel()\n",
    "\n",
    "print(\"Before oversampling:\", Counter(y_train))\n",
    "print(\"After oversampling:\", Counter(y_train_resampled))\n",
    "\n",
    "# Encode label\n",
    "y_train_ids = [label_to_id[label] for label in y_train_resampled]  \n",
    "y_valid_ids = [label_to_id[label] for label in y_valid]\n",
    "\n",
    "# convert dataset\n",
    "train_dataset = Dialogue2TopicDataset(X_train_resampled, y_train_ids, tokenizer, max_length)  \n",
    "valid_dataset = Dialogue2TopicDataset(X_valid, y_valid_ids, tokenizer, max_length)\n",
    "\n",
    "# Define the perameters\n",
    "\n",
    "training_args = TrainingArguments(\n",
    "    output_dir=\"output\",\n",
    "    num_train_epochs=3,  \n",
    "    per_device_train_batch_size=8,\n",
    "    per_device_eval_batch_size=8,\n",
    "    evaluation_strategy=\"epoch\",\n",
    "    learning_rate=2e-5,  \n",
    "    weight_decay=0.01,  \n",
    "    save_strategy=\"no\",\n",
    ")\n",
    "\n",
    "# metric\n",
    "\n",
    "def compute_metrics(pred):\n",
    "    labels = pred.label_ids\n",
    "    preds = pred.predictions.argmax(-1)\n",
    "    precision, recall, f1, _ = precision_recall_fscore_support(labels, preds, average='weighted')\n",
    "    acc = accuracy_score(labels, preds)\n",
    "    return {\n",
    "        'accuracy': acc,\n",
    "        'f1': f1,\n",
    "        'precision': precision,\n",
    "        'recall': recall\n",
    "    }\n",
    "\n",
    "#  train model \n",
    "\n",
    "trainer = Trainer(\n",
    "    model=model,\n",
    "    args=training_args,\n",
    "    train_dataset=train_dataset,\n",
    "    eval_dataset=valid_dataset,\n",
    "    compute_metrics=compute_metrics\n",
    ")\n",
    "\n",
    "trainer.train()\n",
    "\n",
    "# evaluation\n",
    "\n",
    "evaluation_results = trainer.evaluate()\n",
    "print(evaluation_results)\n",
    "\n",
    "# report\n",
    "\n",
    "from sklearn.metrics import classification_report, precision_recall_fscore_support, accuracy_score\n",
    "\n",
    "predictions_output = trainer.predict(valid_dataset)\n",
    "predicted_labels = predictions_output.predictions.argmax(-1)\n",
    "\n",
    "y_valid_pred = [id_to_label[label_id] for label_id in predicted_labels]\n",
    "y_valid_true = [id_to_label[label_id] for label_id in y_valid_ids]\n",
    "\n",
    "report = classification_report(y_valid_true, y_valid_pred)\n",
    "print(report)\n"
   ]
  },
  {
   "cell_type": "code",
   "execution_count": null,
   "id": "793dffc0-227b-4c8f-95e1-fc0f5da0234e",
   "metadata": {},
   "outputs": [],
   "source": []
  },
  {
   "cell_type": "code",
   "execution_count": 40,
   "id": "67005d70-ed8e-497c-b1ce-086a237fd67e",
   "metadata": {},
   "outputs": [
    {
     "name": "stderr",
     "output_type": "stream",
     "text": [
      "Some weights of the model checkpoint at emilyalsentzer/Bio_ClinicalBERT were not used when initializing BertForSequenceClassification: ['cls.seq_relationship.weight', 'cls.predictions.transform.dense.bias', 'cls.predictions.transform.LayerNorm.weight', 'cls.predictions.decoder.weight', 'cls.predictions.transform.LayerNorm.bias', 'cls.predictions.bias', 'cls.predictions.transform.dense.weight', 'cls.seq_relationship.bias']\n",
      "- This IS expected if you are initializing BertForSequenceClassification from the checkpoint of a model trained on another task or with another architecture (e.g. initializing a BertForSequenceClassification model from a BertForPreTraining model).\n",
      "- This IS NOT expected if you are initializing BertForSequenceClassification from the checkpoint of a model that you expect to be exactly identical (initializing a BertForSequenceClassification model from a BertForSequenceClassification model).\n",
      "Some weights of BertForSequenceClassification were not initialized from the model checkpoint at emilyalsentzer/Bio_ClinicalBERT and are newly initialized: ['classifier.weight', 'classifier.bias']\n",
      "You should probably TRAIN this model on a down-stream task to be able to use it for predictions and inference.\n",
      "Truncation was not explicitly activated but `max_length` is provided a specific value, please use `truncation=True` to explicitly truncate examples to max length. Defaulting to 'longest_first' truncation strategy. If you encode pairs of sequences (GLUE-style) with the tokenizer you can select this strategy more precisely by providing a specific strategy to `truncation`.\n"
     ]
    },
    {
     "name": "stdout",
     "output_type": "stream",
     "text": [
      "Before oversampling: Counter({'FAM/SOCHX': 351, 'GENHX': 282, 'PASTMEDICALHX': 118, 'CC': 77, 'PASTSURGICAL': 63, 'ALLERGY': 60, 'ROS': 60, 'MEDICATIONS': 54, 'ASSESSMENT': 34, 'EXAM': 23, 'DIAGNOSIS': 19, 'DISPOSITION': 15, 'PLAN': 11, 'EDCOURSE': 8, 'IMMUNIZATIONS': 8, 'IMAGING': 6, 'GYNHX': 5, 'PROCEDURES': 3, 'OTHER_HISTORY': 2, 'LABS': 2})\n",
      "After oversampling: Counter({'GENHX': 351, 'MEDICATIONS': 351, 'CC': 351, 'PASTMEDICALHX': 351, 'ALLERGY': 351, 'FAM/SOCHX': 351, 'PASTSURGICAL': 351, 'OTHER_HISTORY': 351, 'ASSESSMENT': 351, 'ROS': 351, 'DISPOSITION': 351, 'EXAM': 351, 'PLAN': 351, 'DIAGNOSIS': 351, 'EDCOURSE': 351, 'IMMUNIZATIONS': 351, 'LABS': 351, 'IMAGING': 351, 'PROCEDURES': 351, 'GYNHX': 351})\n"
     ]
    },
    {
     "data": {
      "text/html": [
       "\n",
       "    <div>\n",
       "      \n",
       "      <progress value='5265' max='5265' style='width:300px; height:20px; vertical-align: middle;'></progress>\n",
       "      [5265/5265 5:13:38, Epoch 3/3]\n",
       "    </div>\n",
       "    <table border=\"1\" class=\"dataframe\">\n",
       "  <thead>\n",
       " <tr style=\"text-align: left;\">\n",
       "      <th>Epoch</th>\n",
       "      <th>Training Loss</th>\n",
       "      <th>Validation Loss</th>\n",
       "      <th>Accuracy</th>\n",
       "      <th>F1</th>\n",
       "      <th>Precision</th>\n",
       "      <th>Recall</th>\n",
       "    </tr>\n",
       "  </thead>\n",
       "  <tbody>\n",
       "    <tr>\n",
       "      <td>1</td>\n",
       "      <td>0.289300</td>\n",
       "      <td>1.684569</td>\n",
       "      <td>0.660000</td>\n",
       "      <td>0.641023</td>\n",
       "      <td>0.674933</td>\n",
       "      <td>0.660000</td>\n",
       "    </tr>\n",
       "    <tr>\n",
       "      <td>2</td>\n",
       "      <td>0.085500</td>\n",
       "      <td>2.158986</td>\n",
       "      <td>0.680000</td>\n",
       "      <td>0.656899</td>\n",
       "      <td>0.654673</td>\n",
       "      <td>0.680000</td>\n",
       "    </tr>\n",
       "    <tr>\n",
       "      <td>3</td>\n",
       "      <td>0.038100</td>\n",
       "      <td>2.223348</td>\n",
       "      <td>0.670000</td>\n",
       "      <td>0.616524</td>\n",
       "      <td>0.605672</td>\n",
       "      <td>0.670000</td>\n",
       "    </tr>\n",
       "  </tbody>\n",
       "</table><p>"
      ],
      "text/plain": [
       "<IPython.core.display.HTML object>"
      ]
     },
     "metadata": {},
     "output_type": "display_data"
    },
    {
     "data": {
      "text/html": [],
      "text/plain": [
       "<IPython.core.display.HTML object>"
      ]
     },
     "metadata": {},
     "output_type": "display_data"
    },
    {
     "name": "stdout",
     "output_type": "stream",
     "text": [
      "{'eval_loss': 2.2233476638793945, 'eval_accuracy': 0.67, 'eval_f1': 0.6165236866596066, 'eval_precision': 0.6056719576719577, 'eval_recall': 0.67, 'eval_runtime': 31.2669, 'eval_samples_per_second': 3.198, 'eval_steps_per_second': 0.416, 'epoch': 3.0}\n",
      "               precision    recall  f1-score   support\n",
      "\n",
      "      ALLERGY       0.50      0.50      0.50         4\n",
      "   ASSESSMENT       0.00      0.00      0.00         4\n",
      "           CC       0.50      0.25      0.33         4\n",
      "    DIAGNOSIS       0.00      0.00      0.00         1\n",
      "  DISPOSITION       0.00      0.00      0.00         2\n",
      "     EDCOURSE       0.00      0.00      0.00         3\n",
      "         EXAM       1.00      1.00      1.00         1\n",
      "    FAM/SOCHX       0.79      1.00      0.88        22\n",
      "        GENHX       0.63      0.85      0.72        20\n",
      "        GYNHX       0.00      0.00      0.00         1\n",
      "      IMAGING       0.00      0.00      0.00         1\n",
      "IMMUNIZATIONS       1.00      1.00      1.00         1\n",
      "         LABS       0.00      0.00      0.00         1\n",
      "  MEDICATIONS       1.00      1.00      1.00         7\n",
      "OTHER_HISTORY       0.00      0.00      0.00         1\n",
      "PASTMEDICALHX       0.44      1.00      0.62         4\n",
      " PASTSURGICAL       0.89      1.00      0.94         8\n",
      "         PLAN       0.00      0.00      0.00         3\n",
      "   PROCEDURES       0.00      0.00      0.00         1\n",
      "          ROS       0.80      0.36      0.50        11\n",
      "\n",
      "     accuracy                           0.67       100\n",
      "    macro avg       0.38      0.40      0.37       100\n",
      " weighted avg       0.61      0.67      0.62       100\n",
      "\n"
     ]
    }
   ],
   "source": [
    "# + oversampler and run Clinical BERT again - v.2\n",
    "\n",
    "tokenizer = AutoTokenizer.from_pretrained(\"emilyalsentzer/Bio_ClinicalBERT\")\n",
    "model = AutoModelForSequenceClassification.from_pretrained(\"emilyalsentzer/Bio_ClinicalBERT\", num_labels=20)\n",
    "\n",
    "\n",
    "\n",
    "from torch.utils.data import Dataset\n",
    "\n",
    "class Dialogue2TopicDataset(Dataset):\n",
    "    def __init__(self, X, y, tokenizer, max_length):\n",
    "        self.X = X\n",
    "        self.y = y\n",
    "        self.tokenizer = tokenizer\n",
    "        self.max_length = max_length\n",
    "\n",
    "    def __len__(self):\n",
    "        return len(self.X)\n",
    "\n",
    "    def __getitem__(self, idx):\n",
    "        text = self.X[idx]\n",
    "        label = self.y[idx]\n",
    "\n",
    "        # Encode\n",
    "        inputs = self.tokenizer.encode_plus(\n",
    "            text,\n",
    "            None,\n",
    "            add_special_tokens=True,\n",
    "            max_length=self.max_length,\n",
    "            pad_to_max_length=True,\n",
    "            return_token_type_ids=True,\n",
    "            return_attention_mask=True,\n",
    "            return_tensors='pt'\n",
    "        )\n",
    "\n",
    "        return {\n",
    "            'input_ids': inputs['input_ids'][0],\n",
    "            'attention_mask': inputs['attention_mask'][0],\n",
    "            'labels': torch.tensor(label, dtype=torch.long)\n",
    "        }\n",
    "\n",
    "# convert  \n",
    "\n",
    "max_length = 307  \n",
    "\n",
    "# Prepare label encoding\n",
    "label_to_id = {label: idx for idx, label in enumerate(set(y_train))}\n",
    "id_to_label = {idx: label for label, idx in label_to_id.items()}\n",
    "\n",
    "# Import the necessary libraries\n",
    "from imblearn.over_sampling import RandomOverSampler\n",
    "from collections import Counter\n",
    "import numpy as np\n",
    "\n",
    "# Oversampling \n",
    "ros = RandomOverSampler(random_state=42)\n",
    "X_train_resampled, y_train_resampled = ros.fit_resample(\n",
    "    np.array(X_train).reshape(-1, 1), y_train\n",
    ")\n",
    "X_train_resampled = X_train_resampled.ravel()\n",
    "\n",
    "print(\"Before oversampling:\", Counter(y_train))\n",
    "print(\"After oversampling:\", Counter(y_train_resampled))\n",
    "\n",
    "# Encode label\n",
    "y_train_ids = [label_to_id[label] for label in y_train_resampled]  \n",
    "y_valid_ids = [label_to_id[label] for label in y_valid]\n",
    "\n",
    "# convert dataset\n",
    "train_dataset = Dialogue2TopicDataset(X_train_resampled, y_train_ids, tokenizer, max_length)  \n",
    "valid_dataset = Dialogue2TopicDataset(X_valid, y_valid_ids, tokenizer, max_length)\n",
    "\n",
    "# Define the perameters\n",
    "\n",
    "# training_args = TrainingArguments(\n",
    "#     output_dir=\"output\",\n",
    "#     num_train_epochs=3,  \n",
    "#     per_device_train_batch_size=16,\n",
    "#     per_device_eval_batch_size=8,\n",
    "#     evaluation_strategy=\"epoch\",\n",
    "#     learning_rate=2e-5,  \n",
    "#     weight_decay=0.001,  \n",
    "#     save_strategy=\"no\",\n",
    "# )\n",
    "\n",
    "training_args = TrainingArguments(\n",
    "    output_dir=\"output\",\n",
    "    num_train_epochs=3,  \n",
    "    per_device_train_batch_size=4,  # Smaller batch sizes might help to regularize the model\n",
    "    per_device_eval_batch_size=8,  \n",
    "    evaluation_strategy=\"epoch\",  \n",
    "    learning_rate=1e-4,  # Use a smaller learning rate to avoid large updates\n",
    "    weight_decay=0.05,  # Increase weight decay to add regularization\n",
    "    # save_strategy=\"no\",\n",
    "    # load_best_model_at_end=True,  # load the best model after training.\n",
    "    metric_for_best_model=\"accuracy\",  \n",
    "    greater_is_better=True,  # Set to True if higher metric values are better, e.g., accuracy or F1 score.\n",
    ")\n",
    "\n",
    "\n",
    "# metric\n",
    "\n",
    "def compute_metrics(pred):\n",
    "    labels = pred.label_ids\n",
    "    preds = pred.predictions.argmax(-1)\n",
    "    precision, recall, f1, _ = precision_recall_fscore_support(labels, preds, average='weighted')\n",
    "    acc = accuracy_score(labels, preds)\n",
    "    return {\n",
    "        'accuracy': acc,\n",
    "        'f1': f1,\n",
    "        'precision': precision,\n",
    "        'recall': recall\n",
    "    }\n",
    "\n",
    "#  train model \n",
    "\n",
    "trainer = Trainer(\n",
    "    model=model,\n",
    "    args=training_args,\n",
    "    train_dataset=train_dataset,\n",
    "    eval_dataset=valid_dataset,\n",
    "    compute_metrics=compute_metrics\n",
    ")\n",
    "\n",
    "trainer.train()\n",
    "\n",
    "# evaluation\n",
    "\n",
    "evaluation_results = trainer.evaluate()\n",
    "print(evaluation_results)\n",
    "\n",
    "# report\n",
    "\n",
    "from sklearn.metrics import classification_report, precision_recall_fscore_support, accuracy_score\n",
    "\n",
    "predictions_output = trainer.predict(valid_dataset)\n",
    "predicted_labels = predictions_output.predictions.argmax(-1)\n",
    "\n",
    "y_valid_pred = [id_to_label[label_id] for label_id in predicted_labels]\n",
    "y_valid_true = [id_to_label[label_id] for label_id in y_valid_ids]\n",
    "\n",
    "report = classification_report(y_valid_true, y_valid_pred)\n",
    "print(report)\n"
   ]
  },
  {
   "cell_type": "code",
   "execution_count": 41,
   "id": "35f79bf5-0f32-40c5-bdb2-9d0683da4034",
   "metadata": {},
   "outputs": [],
   "source": [
    "# ======================================================================================== \n",
    "# ======================================================================================== \n",
    "# ======================================================================================== \n",
    "# ============================= try to tune Clinical BERT"
   ]
  },
  {
   "cell_type": "code",
   "execution_count": 59,
   "id": "1b000a94-f9bc-4631-8f1c-cc71d0f941c6",
   "metadata": {},
   "outputs": [],
   "source": [
    "# !pip install optuna"
   ]
  },
  {
   "cell_type": "code",
   "execution_count": 60,
   "id": "1ddd21b4-1846-4707-840c-1e1167beda8e",
   "metadata": {},
   "outputs": [
    {
     "name": "stderr",
     "output_type": "stream",
     "text": [
      "\u001b[32m[I 2023-05-03 00:54:29,045]\u001b[0m A new study created in memory with name: no-name-f094bdb1-6306-4a5b-9ef7-e7d5287798d6\u001b[0m\n",
      "Some weights of the model checkpoint at emilyalsentzer/Bio_ClinicalBERT were not used when initializing BertForSequenceClassification: ['cls.predictions.transform.LayerNorm.weight', 'cls.predictions.transform.dense.bias', 'cls.seq_relationship.weight', 'cls.predictions.decoder.weight', 'cls.predictions.bias', 'cls.predictions.transform.dense.weight', 'cls.predictions.transform.LayerNorm.bias', 'cls.seq_relationship.bias']\n",
      "- This IS expected if you are initializing BertForSequenceClassification from the checkpoint of a model trained on another task or with another architecture (e.g. initializing a BertForSequenceClassification model from a BertForPreTraining model).\n",
      "- This IS NOT expected if you are initializing BertForSequenceClassification from the checkpoint of a model that you expect to be exactly identical (initializing a BertForSequenceClassification model from a BertForSequenceClassification model).\n",
      "Some weights of BertForSequenceClassification were not initialized from the model checkpoint at emilyalsentzer/Bio_ClinicalBERT and are newly initialized: ['classifier.bias', 'classifier.weight']\n",
      "You should probably TRAIN this model on a down-stream task to be able to use it for predictions and inference.\n",
      "Some weights of the model checkpoint at emilyalsentzer/Bio_ClinicalBERT were not used when initializing BertForSequenceClassification: ['cls.predictions.transform.LayerNorm.weight', 'cls.predictions.transform.dense.bias', 'cls.seq_relationship.weight', 'cls.predictions.decoder.weight', 'cls.predictions.bias', 'cls.predictions.transform.dense.weight', 'cls.predictions.transform.LayerNorm.bias', 'cls.seq_relationship.bias']\n",
      "- This IS expected if you are initializing BertForSequenceClassification from the checkpoint of a model trained on another task or with another architecture (e.g. initializing a BertForSequenceClassification model from a BertForPreTraining model).\n",
      "- This IS NOT expected if you are initializing BertForSequenceClassification from the checkpoint of a model that you expect to be exactly identical (initializing a BertForSequenceClassification model from a BertForSequenceClassification model).\n",
      "Some weights of BertForSequenceClassification were not initialized from the model checkpoint at emilyalsentzer/Bio_ClinicalBERT and are newly initialized: ['classifier.bias', 'classifier.weight']\n",
      "You should probably TRAIN this model on a down-stream task to be able to use it for predictions and inference.\n",
      "Truncation was not explicitly activated but `max_length` is provided a specific value, please use `truncation=True` to explicitly truncate examples to max length. Defaulting to 'longest_first' truncation strategy. If you encode pairs of sequences (GLUE-style) with the tokenizer you can select this strategy more precisely by providing a specific strategy to `truncation`.\n"
     ]
    },
    {
     "data": {
      "text/html": [
       "\n",
       "    <div>\n",
       "      \n",
       "      <progress value='1505' max='1505' style='width:300px; height:20px; vertical-align: middle;'></progress>\n",
       "      [1505/1505 1:31:49, Epoch 5/5]\n",
       "    </div>\n",
       "    <table border=\"1\" class=\"dataframe\">\n",
       "  <thead>\n",
       " <tr style=\"text-align: left;\">\n",
       "      <th>Epoch</th>\n",
       "      <th>Training Loss</th>\n",
       "      <th>Validation Loss</th>\n",
       "      <th>Accuracy</th>\n",
       "      <th>F1</th>\n",
       "      <th>Precision</th>\n",
       "      <th>Recall</th>\n",
       "    </tr>\n",
       "  </thead>\n",
       "  <tbody>\n",
       "    <tr>\n",
       "      <td>1</td>\n",
       "      <td>No log</td>\n",
       "      <td>2.727694</td>\n",
       "      <td>0.220000</td>\n",
       "      <td>0.079344</td>\n",
       "      <td>0.048400</td>\n",
       "      <td>0.220000</td>\n",
       "    </tr>\n",
       "    <tr>\n",
       "      <td>2</td>\n",
       "      <td>2.424800</td>\n",
       "      <td>2.866024</td>\n",
       "      <td>0.220000</td>\n",
       "      <td>0.079344</td>\n",
       "      <td>0.048400</td>\n",
       "      <td>0.220000</td>\n",
       "    </tr>\n",
       "    <tr>\n",
       "      <td>3</td>\n",
       "      <td>2.424800</td>\n",
       "      <td>2.997134</td>\n",
       "      <td>0.220000</td>\n",
       "      <td>0.079344</td>\n",
       "      <td>0.048400</td>\n",
       "      <td>0.220000</td>\n",
       "    </tr>\n",
       "    <tr>\n",
       "      <td>4</td>\n",
       "      <td>2.321700</td>\n",
       "      <td>2.663121</td>\n",
       "      <td>0.220000</td>\n",
       "      <td>0.079344</td>\n",
       "      <td>0.048400</td>\n",
       "      <td>0.220000</td>\n",
       "    </tr>\n",
       "    <tr>\n",
       "      <td>5</td>\n",
       "      <td>2.262500</td>\n",
       "      <td>2.649045</td>\n",
       "      <td>0.220000</td>\n",
       "      <td>0.079344</td>\n",
       "      <td>0.048400</td>\n",
       "      <td>0.220000</td>\n",
       "    </tr>\n",
       "  </tbody>\n",
       "</table><p>"
      ],
      "text/plain": [
       "<IPython.core.display.HTML object>"
      ]
     },
     "metadata": {},
     "output_type": "display_data"
    },
    {
     "data": {
      "text/html": [
       "\n",
       "    <div>\n",
       "      \n",
       "      <progress value='13' max='13' style='width:300px; height:20px; vertical-align: middle;'></progress>\n",
       "      [13/13 00:29]\n",
       "    </div>\n",
       "    "
      ],
      "text/plain": [
       "<IPython.core.display.HTML object>"
      ]
     },
     "metadata": {},
     "output_type": "display_data"
    },
    {
     "name": "stderr",
     "output_type": "stream",
     "text": [
      "\u001b[32m[I 2023-05-03 02:26:55,837]\u001b[0m Trial 0 finished with value: 0.07934426229508197 and parameters: {'num_train_epochs': 5, 'per_device_train_batch_size': 4, 'learning_rate': 0.0007344673602424301, 'weight_decay': 0.0319734592709151}. Best is trial 0 with value: 0.07934426229508197.\u001b[0m\n",
      "Some weights of the model checkpoint at emilyalsentzer/Bio_ClinicalBERT were not used when initializing BertForSequenceClassification: ['cls.predictions.transform.LayerNorm.weight', 'cls.predictions.transform.dense.bias', 'cls.seq_relationship.weight', 'cls.predictions.decoder.weight', 'cls.predictions.bias', 'cls.predictions.transform.dense.weight', 'cls.predictions.transform.LayerNorm.bias', 'cls.seq_relationship.bias']\n",
      "- This IS expected if you are initializing BertForSequenceClassification from the checkpoint of a model trained on another task or with another architecture (e.g. initializing a BertForSequenceClassification model from a BertForPreTraining model).\n",
      "- This IS NOT expected if you are initializing BertForSequenceClassification from the checkpoint of a model that you expect to be exactly identical (initializing a BertForSequenceClassification model from a BertForSequenceClassification model).\n",
      "Some weights of BertForSequenceClassification were not initialized from the model checkpoint at emilyalsentzer/Bio_ClinicalBERT and are newly initialized: ['classifier.bias', 'classifier.weight']\n",
      "You should probably TRAIN this model on a down-stream task to be able to use it for predictions and inference.\n",
      "Some weights of the model checkpoint at emilyalsentzer/Bio_ClinicalBERT were not used when initializing BertForSequenceClassification: ['cls.predictions.transform.LayerNorm.weight', 'cls.predictions.transform.dense.bias', 'cls.seq_relationship.weight', 'cls.predictions.decoder.weight', 'cls.predictions.bias', 'cls.predictions.transform.dense.weight', 'cls.predictions.transform.LayerNorm.bias', 'cls.seq_relationship.bias']\n",
      "- This IS expected if you are initializing BertForSequenceClassification from the checkpoint of a model trained on another task or with another architecture (e.g. initializing a BertForSequenceClassification model from a BertForPreTraining model).\n",
      "- This IS NOT expected if you are initializing BertForSequenceClassification from the checkpoint of a model that you expect to be exactly identical (initializing a BertForSequenceClassification model from a BertForSequenceClassification model).\n",
      "Some weights of BertForSequenceClassification were not initialized from the model checkpoint at emilyalsentzer/Bio_ClinicalBERT and are newly initialized: ['classifier.bias', 'classifier.weight']\n",
      "You should probably TRAIN this model on a down-stream task to be able to use it for predictions and inference.\n"
     ]
    },
    {
     "data": {
      "text/html": [
       "\n",
       "    <div>\n",
       "      \n",
       "      <progress value='152' max='152' style='width:300px; height:20px; vertical-align: middle;'></progress>\n",
       "      [152/152 30:44, Epoch 2/2]\n",
       "    </div>\n",
       "    <table border=\"1\" class=\"dataframe\">\n",
       "  <thead>\n",
       " <tr style=\"text-align: left;\">\n",
       "      <th>Epoch</th>\n",
       "      <th>Training Loss</th>\n",
       "      <th>Validation Loss</th>\n",
       "      <th>Accuracy</th>\n",
       "      <th>F1</th>\n",
       "      <th>Precision</th>\n",
       "      <th>Recall</th>\n",
       "    </tr>\n",
       "  </thead>\n",
       "  <tbody>\n",
       "    <tr>\n",
       "      <td>1</td>\n",
       "      <td>No log</td>\n",
       "      <td>1.598735</td>\n",
       "      <td>0.600000</td>\n",
       "      <td>0.523481</td>\n",
       "      <td>0.485363</td>\n",
       "      <td>0.600000</td>\n",
       "    </tr>\n",
       "    <tr>\n",
       "      <td>2</td>\n",
       "      <td>No log</td>\n",
       "      <td>1.407836</td>\n",
       "      <td>0.610000</td>\n",
       "      <td>0.549629</td>\n",
       "      <td>0.554960</td>\n",
       "      <td>0.610000</td>\n",
       "    </tr>\n",
       "  </tbody>\n",
       "</table><p>"
      ],
      "text/plain": [
       "<IPython.core.display.HTML object>"
      ]
     },
     "metadata": {},
     "output_type": "display_data"
    },
    {
     "data": {
      "text/html": [
       "\n",
       "    <div>\n",
       "      \n",
       "      <progress value='13' max='13' style='width:300px; height:20px; vertical-align: middle;'></progress>\n",
       "      [13/13 00:29]\n",
       "    </div>\n",
       "    "
      ],
      "text/plain": [
       "<IPython.core.display.HTML object>"
      ]
     },
     "metadata": {},
     "output_type": "display_data"
    },
    {
     "name": "stderr",
     "output_type": "stream",
     "text": [
      "\u001b[32m[I 2023-05-03 02:58:25,624]\u001b[0m Trial 1 finished with value: 0.5496291486291487 and parameters: {'num_train_epochs': 2, 'per_device_train_batch_size': 16, 'learning_rate': 0.0001821563840773997, 'weight_decay': 0.046919563979056104}. Best is trial 1 with value: 0.5496291486291487.\u001b[0m\n",
      "Some weights of the model checkpoint at emilyalsentzer/Bio_ClinicalBERT were not used when initializing BertForSequenceClassification: ['cls.predictions.transform.LayerNorm.weight', 'cls.predictions.transform.dense.bias', 'cls.seq_relationship.weight', 'cls.predictions.decoder.weight', 'cls.predictions.bias', 'cls.predictions.transform.dense.weight', 'cls.predictions.transform.LayerNorm.bias', 'cls.seq_relationship.bias']\n",
      "- This IS expected if you are initializing BertForSequenceClassification from the checkpoint of a model trained on another task or with another architecture (e.g. initializing a BertForSequenceClassification model from a BertForPreTraining model).\n",
      "- This IS NOT expected if you are initializing BertForSequenceClassification from the checkpoint of a model that you expect to be exactly identical (initializing a BertForSequenceClassification model from a BertForSequenceClassification model).\n",
      "Some weights of BertForSequenceClassification were not initialized from the model checkpoint at emilyalsentzer/Bio_ClinicalBERT and are newly initialized: ['classifier.bias', 'classifier.weight']\n",
      "You should probably TRAIN this model on a down-stream task to be able to use it for predictions and inference.\n",
      "Some weights of the model checkpoint at emilyalsentzer/Bio_ClinicalBERT were not used when initializing BertForSequenceClassification: ['cls.predictions.transform.LayerNorm.weight', 'cls.predictions.transform.dense.bias', 'cls.seq_relationship.weight', 'cls.predictions.decoder.weight', 'cls.predictions.bias', 'cls.predictions.transform.dense.weight', 'cls.predictions.transform.LayerNorm.bias', 'cls.seq_relationship.bias']\n",
      "- This IS expected if you are initializing BertForSequenceClassification from the checkpoint of a model trained on another task or with another architecture (e.g. initializing a BertForSequenceClassification model from a BertForPreTraining model).\n",
      "- This IS NOT expected if you are initializing BertForSequenceClassification from the checkpoint of a model that you expect to be exactly identical (initializing a BertForSequenceClassification model from a BertForSequenceClassification model).\n",
      "Some weights of BertForSequenceClassification were not initialized from the model checkpoint at emilyalsentzer/Bio_ClinicalBERT and are newly initialized: ['classifier.bias', 'classifier.weight']\n",
      "You should probably TRAIN this model on a down-stream task to be able to use it for predictions and inference.\n"
     ]
    },
    {
     "data": {
      "text/html": [
       "\n",
       "    <div>\n",
       "      \n",
       "      <progress value='38' max='38' style='width:300px; height:20px; vertical-align: middle;'></progress>\n",
       "      [38/38 14:26, Epoch 1/1]\n",
       "    </div>\n",
       "    <table border=\"1\" class=\"dataframe\">\n",
       "  <thead>\n",
       " <tr style=\"text-align: left;\">\n",
       "      <th>Epoch</th>\n",
       "      <th>Training Loss</th>\n",
       "      <th>Validation Loss</th>\n",
       "      <th>Accuracy</th>\n",
       "      <th>F1</th>\n",
       "      <th>Precision</th>\n",
       "      <th>Recall</th>\n",
       "    </tr>\n",
       "  </thead>\n",
       "  <tbody>\n",
       "    <tr>\n",
       "      <td>1</td>\n",
       "      <td>No log</td>\n",
       "      <td>2.177548</td>\n",
       "      <td>0.360000</td>\n",
       "      <td>0.234902</td>\n",
       "      <td>0.200500</td>\n",
       "      <td>0.360000</td>\n",
       "    </tr>\n",
       "  </tbody>\n",
       "</table><p>"
      ],
      "text/plain": [
       "<IPython.core.display.HTML object>"
      ]
     },
     "metadata": {},
     "output_type": "display_data"
    },
    {
     "data": {
      "text/html": [
       "\n",
       "    <div>\n",
       "      \n",
       "      <progress value='13' max='13' style='width:300px; height:20px; vertical-align: middle;'></progress>\n",
       "      [13/13 00:29]\n",
       "    </div>\n",
       "    "
      ],
      "text/plain": [
       "<IPython.core.display.HTML object>"
      ]
     },
     "metadata": {},
     "output_type": "display_data"
    },
    {
     "name": "stderr",
     "output_type": "stream",
     "text": [
      "\u001b[32m[I 2023-05-03 03:13:48,611]\u001b[0m Trial 2 finished with value: 0.23490196078431375 and parameters: {'num_train_epochs': 1, 'per_device_train_batch_size': 32, 'learning_rate': 4.428531314994795e-05, 'weight_decay': 0.0579009064547816}. Best is trial 1 with value: 0.5496291486291487.\u001b[0m\n",
      "Some weights of the model checkpoint at emilyalsentzer/Bio_ClinicalBERT were not used when initializing BertForSequenceClassification: ['cls.predictions.transform.LayerNorm.weight', 'cls.predictions.transform.dense.bias', 'cls.seq_relationship.weight', 'cls.predictions.decoder.weight', 'cls.predictions.bias', 'cls.predictions.transform.dense.weight', 'cls.predictions.transform.LayerNorm.bias', 'cls.seq_relationship.bias']\n",
      "- This IS expected if you are initializing BertForSequenceClassification from the checkpoint of a model trained on another task or with another architecture (e.g. initializing a BertForSequenceClassification model from a BertForPreTraining model).\n",
      "- This IS NOT expected if you are initializing BertForSequenceClassification from the checkpoint of a model that you expect to be exactly identical (initializing a BertForSequenceClassification model from a BertForSequenceClassification model).\n",
      "Some weights of BertForSequenceClassification were not initialized from the model checkpoint at emilyalsentzer/Bio_ClinicalBERT and are newly initialized: ['classifier.bias', 'classifier.weight']\n",
      "You should probably TRAIN this model on a down-stream task to be able to use it for predictions and inference.\n",
      "Some weights of the model checkpoint at emilyalsentzer/Bio_ClinicalBERT were not used when initializing BertForSequenceClassification: ['cls.predictions.transform.LayerNorm.weight', 'cls.predictions.transform.dense.bias', 'cls.seq_relationship.weight', 'cls.predictions.decoder.weight', 'cls.predictions.bias', 'cls.predictions.transform.dense.weight', 'cls.predictions.transform.LayerNorm.bias', 'cls.seq_relationship.bias']\n",
      "- This IS expected if you are initializing BertForSequenceClassification from the checkpoint of a model trained on another task or with another architecture (e.g. initializing a BertForSequenceClassification model from a BertForPreTraining model).\n",
      "- This IS NOT expected if you are initializing BertForSequenceClassification from the checkpoint of a model that you expect to be exactly identical (initializing a BertForSequenceClassification model from a BertForSequenceClassification model).\n",
      "Some weights of BertForSequenceClassification were not initialized from the model checkpoint at emilyalsentzer/Bio_ClinicalBERT and are newly initialized: ['classifier.bias', 'classifier.weight']\n",
      "You should probably TRAIN this model on a down-stream task to be able to use it for predictions and inference.\n"
     ]
    },
    {
     "data": {
      "text/html": [
       "\n",
       "    <div>\n",
       "      \n",
       "      <progress value='151' max='151' style='width:300px; height:20px; vertical-align: middle;'></progress>\n",
       "      [151/151 16:16, Epoch 1/1]\n",
       "    </div>\n",
       "    <table border=\"1\" class=\"dataframe\">\n",
       "  <thead>\n",
       " <tr style=\"text-align: left;\">\n",
       "      <th>Epoch</th>\n",
       "      <th>Training Loss</th>\n",
       "      <th>Validation Loss</th>\n",
       "      <th>Accuracy</th>\n",
       "      <th>F1</th>\n",
       "      <th>Precision</th>\n",
       "      <th>Recall</th>\n",
       "    </tr>\n",
       "  </thead>\n",
       "  <tbody>\n",
       "    <tr>\n",
       "      <td>1</td>\n",
       "      <td>No log</td>\n",
       "      <td>1.500141</td>\n",
       "      <td>0.590000</td>\n",
       "      <td>0.492913</td>\n",
       "      <td>0.435325</td>\n",
       "      <td>0.590000</td>\n",
       "    </tr>\n",
       "  </tbody>\n",
       "</table><p>"
      ],
      "text/plain": [
       "<IPython.core.display.HTML object>"
      ]
     },
     "metadata": {},
     "output_type": "display_data"
    },
    {
     "data": {
      "text/html": [
       "\n",
       "    <div>\n",
       "      \n",
       "      <progress value='13' max='13' style='width:300px; height:20px; vertical-align: middle;'></progress>\n",
       "      [13/13 00:29]\n",
       "    </div>\n",
       "    "
      ],
      "text/plain": [
       "<IPython.core.display.HTML object>"
      ]
     },
     "metadata": {},
     "output_type": "display_data"
    },
    {
     "name": "stderr",
     "output_type": "stream",
     "text": [
      "\u001b[32m[I 2023-05-03 03:30:44,797]\u001b[0m Trial 3 finished with value: 0.4929128462979394 and parameters: {'num_train_epochs': 1, 'per_device_train_batch_size': 8, 'learning_rate': 0.00011002906769622815, 'weight_decay': 0.044111197580348684}. Best is trial 1 with value: 0.5496291486291487.\u001b[0m\n",
      "Some weights of the model checkpoint at emilyalsentzer/Bio_ClinicalBERT were not used when initializing BertForSequenceClassification: ['cls.predictions.transform.LayerNorm.weight', 'cls.predictions.transform.dense.bias', 'cls.seq_relationship.weight', 'cls.predictions.decoder.weight', 'cls.predictions.bias', 'cls.predictions.transform.dense.weight', 'cls.predictions.transform.LayerNorm.bias', 'cls.seq_relationship.bias']\n",
      "- This IS expected if you are initializing BertForSequenceClassification from the checkpoint of a model trained on another task or with another architecture (e.g. initializing a BertForSequenceClassification model from a BertForPreTraining model).\n",
      "- This IS NOT expected if you are initializing BertForSequenceClassification from the checkpoint of a model that you expect to be exactly identical (initializing a BertForSequenceClassification model from a BertForSequenceClassification model).\n",
      "Some weights of BertForSequenceClassification were not initialized from the model checkpoint at emilyalsentzer/Bio_ClinicalBERT and are newly initialized: ['classifier.bias', 'classifier.weight']\n",
      "You should probably TRAIN this model on a down-stream task to be able to use it for predictions and inference.\n",
      "Some weights of the model checkpoint at emilyalsentzer/Bio_ClinicalBERT were not used when initializing BertForSequenceClassification: ['cls.predictions.transform.LayerNorm.weight', 'cls.predictions.transform.dense.bias', 'cls.seq_relationship.weight', 'cls.predictions.decoder.weight', 'cls.predictions.bias', 'cls.predictions.transform.dense.weight', 'cls.predictions.transform.LayerNorm.bias', 'cls.seq_relationship.bias']\n",
      "- This IS expected if you are initializing BertForSequenceClassification from the checkpoint of a model trained on another task or with another architecture (e.g. initializing a BertForSequenceClassification model from a BertForPreTraining model).\n",
      "- This IS NOT expected if you are initializing BertForSequenceClassification from the checkpoint of a model that you expect to be exactly identical (initializing a BertForSequenceClassification model from a BertForSequenceClassification model).\n",
      "Some weights of BertForSequenceClassification were not initialized from the model checkpoint at emilyalsentzer/Bio_ClinicalBERT and are newly initialized: ['classifier.bias', 'classifier.weight']\n",
      "You should probably TRAIN this model on a down-stream task to be able to use it for predictions and inference.\n"
     ]
    },
    {
     "data": {
      "text/html": [
       "\n",
       "    <div>\n",
       "      \n",
       "      <progress value='604' max='604' style='width:300px; height:20px; vertical-align: middle;'></progress>\n",
       "      [604/604 1:05:20, Epoch 4/4]\n",
       "    </div>\n",
       "    <table border=\"1\" class=\"dataframe\">\n",
       "  <thead>\n",
       " <tr style=\"text-align: left;\">\n",
       "      <th>Epoch</th>\n",
       "      <th>Training Loss</th>\n",
       "      <th>Validation Loss</th>\n",
       "      <th>Accuracy</th>\n",
       "      <th>F1</th>\n",
       "      <th>Precision</th>\n",
       "      <th>Recall</th>\n",
       "    </tr>\n",
       "  </thead>\n",
       "  <tbody>\n",
       "    <tr>\n",
       "      <td>1</td>\n",
       "      <td>No log</td>\n",
       "      <td>2.738574</td>\n",
       "      <td>0.220000</td>\n",
       "      <td>0.079344</td>\n",
       "      <td>0.048400</td>\n",
       "      <td>0.220000</td>\n",
       "    </tr>\n",
       "    <tr>\n",
       "      <td>2</td>\n",
       "      <td>No log</td>\n",
       "      <td>2.760457</td>\n",
       "      <td>0.200000</td>\n",
       "      <td>0.066667</td>\n",
       "      <td>0.040000</td>\n",
       "      <td>0.200000</td>\n",
       "    </tr>\n",
       "    <tr>\n",
       "      <td>3</td>\n",
       "      <td>No log</td>\n",
       "      <td>2.673742</td>\n",
       "      <td>0.220000</td>\n",
       "      <td>0.079344</td>\n",
       "      <td>0.048400</td>\n",
       "      <td>0.220000</td>\n",
       "    </tr>\n",
       "    <tr>\n",
       "      <td>4</td>\n",
       "      <td>2.232900</td>\n",
       "      <td>2.329295</td>\n",
       "      <td>0.380000</td>\n",
       "      <td>0.260906</td>\n",
       "      <td>0.224167</td>\n",
       "      <td>0.380000</td>\n",
       "    </tr>\n",
       "  </tbody>\n",
       "</table><p>"
      ],
      "text/plain": [
       "<IPython.core.display.HTML object>"
      ]
     },
     "metadata": {},
     "output_type": "display_data"
    },
    {
     "data": {
      "text/html": [
       "\n",
       "    <div>\n",
       "      \n",
       "      <progress value='13' max='13' style='width:300px; height:20px; vertical-align: middle;'></progress>\n",
       "      [13/13 00:29]\n",
       "    </div>\n",
       "    "
      ],
      "text/plain": [
       "<IPython.core.display.HTML object>"
      ]
     },
     "metadata": {},
     "output_type": "display_data"
    },
    {
     "name": "stderr",
     "output_type": "stream",
     "text": [
      "\u001b[32m[I 2023-05-03 04:36:45,571]\u001b[0m Trial 4 finished with value: 0.2609057971014493 and parameters: {'num_train_epochs': 4, 'per_device_train_batch_size': 8, 'learning_rate': 0.0002594779079289271, 'weight_decay': 0.015104202932722854}. Best is trial 1 with value: 0.5496291486291487.\u001b[0m\n",
      "Some weights of the model checkpoint at emilyalsentzer/Bio_ClinicalBERT were not used when initializing BertForSequenceClassification: ['cls.predictions.transform.LayerNorm.weight', 'cls.predictions.transform.dense.bias', 'cls.seq_relationship.weight', 'cls.predictions.decoder.weight', 'cls.predictions.bias', 'cls.predictions.transform.dense.weight', 'cls.predictions.transform.LayerNorm.bias', 'cls.seq_relationship.bias']\n",
      "- This IS expected if you are initializing BertForSequenceClassification from the checkpoint of a model trained on another task or with another architecture (e.g. initializing a BertForSequenceClassification model from a BertForPreTraining model).\n",
      "- This IS NOT expected if you are initializing BertForSequenceClassification from the checkpoint of a model that you expect to be exactly identical (initializing a BertForSequenceClassification model from a BertForSequenceClassification model).\n",
      "Some weights of BertForSequenceClassification were not initialized from the model checkpoint at emilyalsentzer/Bio_ClinicalBERT and are newly initialized: ['classifier.bias', 'classifier.weight']\n",
      "You should probably TRAIN this model on a down-stream task to be able to use it for predictions and inference.\n",
      "Some weights of the model checkpoint at emilyalsentzer/Bio_ClinicalBERT were not used when initializing BertForSequenceClassification: ['cls.predictions.transform.LayerNorm.weight', 'cls.predictions.transform.dense.bias', 'cls.seq_relationship.weight', 'cls.predictions.decoder.weight', 'cls.predictions.bias', 'cls.predictions.transform.dense.weight', 'cls.predictions.transform.LayerNorm.bias', 'cls.seq_relationship.bias']\n",
      "- This IS expected if you are initializing BertForSequenceClassification from the checkpoint of a model trained on another task or with another architecture (e.g. initializing a BertForSequenceClassification model from a BertForPreTraining model).\n",
      "- This IS NOT expected if you are initializing BertForSequenceClassification from the checkpoint of a model that you expect to be exactly identical (initializing a BertForSequenceClassification model from a BertForSequenceClassification model).\n",
      "Some weights of BertForSequenceClassification were not initialized from the model checkpoint at emilyalsentzer/Bio_ClinicalBERT and are newly initialized: ['classifier.bias', 'classifier.weight']\n",
      "You should probably TRAIN this model on a down-stream task to be able to use it for predictions and inference.\n"
     ]
    },
    {
     "data": {
      "text/html": [
       "\n",
       "    <div>\n",
       "      \n",
       "      <progress value='604' max='604' style='width:300px; height:20px; vertical-align: middle;'></progress>\n",
       "      [604/604 1:05:22, Epoch 4/4]\n",
       "    </div>\n",
       "    <table border=\"1\" class=\"dataframe\">\n",
       "  <thead>\n",
       " <tr style=\"text-align: left;\">\n",
       "      <th>Epoch</th>\n",
       "      <th>Training Loss</th>\n",
       "      <th>Validation Loss</th>\n",
       "      <th>Accuracy</th>\n",
       "      <th>F1</th>\n",
       "      <th>Precision</th>\n",
       "      <th>Recall</th>\n",
       "    </tr>\n",
       "  </thead>\n",
       "  <tbody>\n",
       "    <tr>\n",
       "      <td>1</td>\n",
       "      <td>No log</td>\n",
       "      <td>2.402022</td>\n",
       "      <td>0.400000</td>\n",
       "      <td>0.266154</td>\n",
       "      <td>0.212762</td>\n",
       "      <td>0.400000</td>\n",
       "    </tr>\n",
       "    <tr>\n",
       "      <td>2</td>\n",
       "      <td>No log</td>\n",
       "      <td>2.417658</td>\n",
       "      <td>0.390000</td>\n",
       "      <td>0.268252</td>\n",
       "      <td>0.233687</td>\n",
       "      <td>0.390000</td>\n",
       "    </tr>\n",
       "    <tr>\n",
       "      <td>3</td>\n",
       "      <td>No log</td>\n",
       "      <td>2.299688</td>\n",
       "      <td>0.400000</td>\n",
       "      <td>0.274638</td>\n",
       "      <td>0.235965</td>\n",
       "      <td>0.400000</td>\n",
       "    </tr>\n",
       "    <tr>\n",
       "      <td>4</td>\n",
       "      <td>1.868300</td>\n",
       "      <td>2.303664</td>\n",
       "      <td>0.410000</td>\n",
       "      <td>0.274593</td>\n",
       "      <td>0.225906</td>\n",
       "      <td>0.410000</td>\n",
       "    </tr>\n",
       "  </tbody>\n",
       "</table><p>"
      ],
      "text/plain": [
       "<IPython.core.display.HTML object>"
      ]
     },
     "metadata": {},
     "output_type": "display_data"
    },
    {
     "data": {
      "text/html": [
       "\n",
       "    <div>\n",
       "      \n",
       "      <progress value='13' max='13' style='width:300px; height:20px; vertical-align: middle;'></progress>\n",
       "      [13/13 00:29]\n",
       "    </div>\n",
       "    "
      ],
      "text/plain": [
       "<IPython.core.display.HTML object>"
      ]
     },
     "metadata": {},
     "output_type": "display_data"
    },
    {
     "name": "stderr",
     "output_type": "stream",
     "text": [
      "\u001b[32m[I 2023-05-03 05:42:48,348]\u001b[0m Trial 5 finished with value: 0.2745929339477727 and parameters: {'num_train_epochs': 4, 'per_device_train_batch_size': 8, 'learning_rate': 0.00023048730134584818, 'weight_decay': 0.05809901832774703}. Best is trial 1 with value: 0.5496291486291487.\u001b[0m\n",
      "Some weights of the model checkpoint at emilyalsentzer/Bio_ClinicalBERT were not used when initializing BertForSequenceClassification: ['cls.predictions.transform.LayerNorm.weight', 'cls.predictions.transform.dense.bias', 'cls.seq_relationship.weight', 'cls.predictions.decoder.weight', 'cls.predictions.bias', 'cls.predictions.transform.dense.weight', 'cls.predictions.transform.LayerNorm.bias', 'cls.seq_relationship.bias']\n",
      "- This IS expected if you are initializing BertForSequenceClassification from the checkpoint of a model trained on another task or with another architecture (e.g. initializing a BertForSequenceClassification model from a BertForPreTraining model).\n",
      "- This IS NOT expected if you are initializing BertForSequenceClassification from the checkpoint of a model that you expect to be exactly identical (initializing a BertForSequenceClassification model from a BertForSequenceClassification model).\n",
      "Some weights of BertForSequenceClassification were not initialized from the model checkpoint at emilyalsentzer/Bio_ClinicalBERT and are newly initialized: ['classifier.bias', 'classifier.weight']\n",
      "You should probably TRAIN this model on a down-stream task to be able to use it for predictions and inference.\n",
      "Some weights of the model checkpoint at emilyalsentzer/Bio_ClinicalBERT were not used when initializing BertForSequenceClassification: ['cls.predictions.transform.LayerNorm.weight', 'cls.predictions.transform.dense.bias', 'cls.seq_relationship.weight', 'cls.predictions.decoder.weight', 'cls.predictions.bias', 'cls.predictions.transform.dense.weight', 'cls.predictions.transform.LayerNorm.bias', 'cls.seq_relationship.bias']\n",
      "- This IS expected if you are initializing BertForSequenceClassification from the checkpoint of a model trained on another task or with another architecture (e.g. initializing a BertForSequenceClassification model from a BertForPreTraining model).\n",
      "- This IS NOT expected if you are initializing BertForSequenceClassification from the checkpoint of a model that you expect to be exactly identical (initializing a BertForSequenceClassification model from a BertForSequenceClassification model).\n",
      "Some weights of BertForSequenceClassification were not initialized from the model checkpoint at emilyalsentzer/Bio_ClinicalBERT and are newly initialized: ['classifier.bias', 'classifier.weight']\n",
      "You should probably TRAIN this model on a down-stream task to be able to use it for predictions and inference.\n"
     ]
    },
    {
     "data": {
      "text/html": [
       "\n",
       "    <div>\n",
       "      \n",
       "      <progress value='1204' max='1204' style='width:300px; height:20px; vertical-align: middle;'></progress>\n",
       "      [1204/1204 1:12:10, Epoch 4/4]\n",
       "    </div>\n",
       "    <table border=\"1\" class=\"dataframe\">\n",
       "  <thead>\n",
       " <tr style=\"text-align: left;\">\n",
       "      <th>Epoch</th>\n",
       "      <th>Training Loss</th>\n",
       "      <th>Validation Loss</th>\n",
       "      <th>Accuracy</th>\n",
       "      <th>F1</th>\n",
       "      <th>Precision</th>\n",
       "      <th>Recall</th>\n",
       "    </tr>\n",
       "  </thead>\n",
       "  <tbody>\n",
       "    <tr>\n",
       "      <td>1</td>\n",
       "      <td>No log</td>\n",
       "      <td>2.759868</td>\n",
       "      <td>0.380000</td>\n",
       "      <td>0.224103</td>\n",
       "      <td>0.159156</td>\n",
       "      <td>0.380000</td>\n",
       "    </tr>\n",
       "    <tr>\n",
       "      <td>2</td>\n",
       "      <td>2.117600</td>\n",
       "      <td>2.753057</td>\n",
       "      <td>0.200000</td>\n",
       "      <td>0.066667</td>\n",
       "      <td>0.040000</td>\n",
       "      <td>0.200000</td>\n",
       "    </tr>\n",
       "    <tr>\n",
       "      <td>3</td>\n",
       "      <td>2.117600</td>\n",
       "      <td>2.696909</td>\n",
       "      <td>0.220000</td>\n",
       "      <td>0.079344</td>\n",
       "      <td>0.048400</td>\n",
       "      <td>0.220000</td>\n",
       "    </tr>\n",
       "    <tr>\n",
       "      <td>4</td>\n",
       "      <td>2.229600</td>\n",
       "      <td>2.642693</td>\n",
       "      <td>0.220000</td>\n",
       "      <td>0.079344</td>\n",
       "      <td>0.048400</td>\n",
       "      <td>0.220000</td>\n",
       "    </tr>\n",
       "  </tbody>\n",
       "</table><p>"
      ],
      "text/plain": [
       "<IPython.core.display.HTML object>"
      ]
     },
     "metadata": {},
     "output_type": "display_data"
    },
    {
     "data": {
      "text/html": [
       "\n",
       "    <div>\n",
       "      \n",
       "      <progress value='13' max='13' style='width:300px; height:20px; vertical-align: middle;'></progress>\n",
       "      [13/13 00:29]\n",
       "    </div>\n",
       "    "
      ],
      "text/plain": [
       "<IPython.core.display.HTML object>"
      ]
     },
     "metadata": {},
     "output_type": "display_data"
    },
    {
     "name": "stderr",
     "output_type": "stream",
     "text": [
      "\u001b[32m[I 2023-05-03 06:55:35,809]\u001b[0m Trial 6 finished with value: 0.07934426229508197 and parameters: {'num_train_epochs': 4, 'per_device_train_batch_size': 4, 'learning_rate': 0.00017743881463958697, 'weight_decay': 0.053486782539309885}. Best is trial 1 with value: 0.5496291486291487.\u001b[0m\n",
      "Some weights of the model checkpoint at emilyalsentzer/Bio_ClinicalBERT were not used when initializing BertForSequenceClassification: ['cls.predictions.transform.LayerNorm.weight', 'cls.predictions.transform.dense.bias', 'cls.seq_relationship.weight', 'cls.predictions.decoder.weight', 'cls.predictions.bias', 'cls.predictions.transform.dense.weight', 'cls.predictions.transform.LayerNorm.bias', 'cls.seq_relationship.bias']\n",
      "- This IS expected if you are initializing BertForSequenceClassification from the checkpoint of a model trained on another task or with another architecture (e.g. initializing a BertForSequenceClassification model from a BertForPreTraining model).\n",
      "- This IS NOT expected if you are initializing BertForSequenceClassification from the checkpoint of a model that you expect to be exactly identical (initializing a BertForSequenceClassification model from a BertForSequenceClassification model).\n",
      "Some weights of BertForSequenceClassification were not initialized from the model checkpoint at emilyalsentzer/Bio_ClinicalBERT and are newly initialized: ['classifier.bias', 'classifier.weight']\n",
      "You should probably TRAIN this model on a down-stream task to be able to use it for predictions and inference.\n",
      "Some weights of the model checkpoint at emilyalsentzer/Bio_ClinicalBERT were not used when initializing BertForSequenceClassification: ['cls.predictions.transform.LayerNorm.weight', 'cls.predictions.transform.dense.bias', 'cls.seq_relationship.weight', 'cls.predictions.decoder.weight', 'cls.predictions.bias', 'cls.predictions.transform.dense.weight', 'cls.predictions.transform.LayerNorm.bias', 'cls.seq_relationship.bias']\n",
      "- This IS expected if you are initializing BertForSequenceClassification from the checkpoint of a model trained on another task or with another architecture (e.g. initializing a BertForSequenceClassification model from a BertForPreTraining model).\n",
      "- This IS NOT expected if you are initializing BertForSequenceClassification from the checkpoint of a model that you expect to be exactly identical (initializing a BertForSequenceClassification model from a BertForSequenceClassification model).\n",
      "Some weights of BertForSequenceClassification were not initialized from the model checkpoint at emilyalsentzer/Bio_ClinicalBERT and are newly initialized: ['classifier.bias', 'classifier.weight']\n",
      "You should probably TRAIN this model on a down-stream task to be able to use it for predictions and inference.\n"
     ]
    },
    {
     "data": {
      "text/html": [
       "\n",
       "    <div>\n",
       "      \n",
       "      <progress value='380' max='380' style='width:300px; height:20px; vertical-align: middle;'></progress>\n",
       "      [380/380 1:16:21, Epoch 5/5]\n",
       "    </div>\n",
       "    <table border=\"1\" class=\"dataframe\">\n",
       "  <thead>\n",
       " <tr style=\"text-align: left;\">\n",
       "      <th>Epoch</th>\n",
       "      <th>Training Loss</th>\n",
       "      <th>Validation Loss</th>\n",
       "      <th>Accuracy</th>\n",
       "      <th>F1</th>\n",
       "      <th>Precision</th>\n",
       "      <th>Recall</th>\n",
       "    </tr>\n",
       "  </thead>\n",
       "  <tbody>\n",
       "    <tr>\n",
       "      <td>1</td>\n",
       "      <td>No log</td>\n",
       "      <td>2.221513</td>\n",
       "      <td>0.360000</td>\n",
       "      <td>0.230133</td>\n",
       "      <td>0.189324</td>\n",
       "      <td>0.360000</td>\n",
       "    </tr>\n",
       "    <tr>\n",
       "      <td>2</td>\n",
       "      <td>No log</td>\n",
       "      <td>1.920540</td>\n",
       "      <td>0.440000</td>\n",
       "      <td>0.319584</td>\n",
       "      <td>0.344230</td>\n",
       "      <td>0.440000</td>\n",
       "    </tr>\n",
       "    <tr>\n",
       "      <td>3</td>\n",
       "      <td>No log</td>\n",
       "      <td>1.773425</td>\n",
       "      <td>0.540000</td>\n",
       "      <td>0.464396</td>\n",
       "      <td>0.486254</td>\n",
       "      <td>0.540000</td>\n",
       "    </tr>\n",
       "    <tr>\n",
       "      <td>4</td>\n",
       "      <td>No log</td>\n",
       "      <td>1.697675</td>\n",
       "      <td>0.560000</td>\n",
       "      <td>0.503948</td>\n",
       "      <td>0.572357</td>\n",
       "      <td>0.560000</td>\n",
       "    </tr>\n",
       "    <tr>\n",
       "      <td>5</td>\n",
       "      <td>No log</td>\n",
       "      <td>1.654257</td>\n",
       "      <td>0.590000</td>\n",
       "      <td>0.543425</td>\n",
       "      <td>0.585636</td>\n",
       "      <td>0.590000</td>\n",
       "    </tr>\n",
       "  </tbody>\n",
       "</table><p>"
      ],
      "text/plain": [
       "<IPython.core.display.HTML object>"
      ]
     },
     "metadata": {},
     "output_type": "display_data"
    },
    {
     "data": {
      "text/html": [
       "\n",
       "    <div>\n",
       "      \n",
       "      <progress value='13' max='13' style='width:300px; height:20px; vertical-align: middle;'></progress>\n",
       "      [13/13 00:29]\n",
       "    </div>\n",
       "    "
      ],
      "text/plain": [
       "<IPython.core.display.HTML object>"
      ]
     },
     "metadata": {},
     "output_type": "display_data"
    },
    {
     "name": "stderr",
     "output_type": "stream",
     "text": [
      "\u001b[32m[I 2023-05-03 08:12:42,953]\u001b[0m Trial 7 finished with value: 0.5434245359903255 and parameters: {'num_train_epochs': 5, 'per_device_train_batch_size': 16, 'learning_rate': 1.1691240864914758e-05, 'weight_decay': 0.09936078481652363}. Best is trial 1 with value: 0.5496291486291487.\u001b[0m\n",
      "Some weights of the model checkpoint at emilyalsentzer/Bio_ClinicalBERT were not used when initializing BertForSequenceClassification: ['cls.predictions.transform.LayerNorm.weight', 'cls.predictions.transform.dense.bias', 'cls.seq_relationship.weight', 'cls.predictions.decoder.weight', 'cls.predictions.bias', 'cls.predictions.transform.dense.weight', 'cls.predictions.transform.LayerNorm.bias', 'cls.seq_relationship.bias']\n",
      "- This IS expected if you are initializing BertForSequenceClassification from the checkpoint of a model trained on another task or with another architecture (e.g. initializing a BertForSequenceClassification model from a BertForPreTraining model).\n",
      "- This IS NOT expected if you are initializing BertForSequenceClassification from the checkpoint of a model that you expect to be exactly identical (initializing a BertForSequenceClassification model from a BertForSequenceClassification model).\n",
      "Some weights of BertForSequenceClassification were not initialized from the model checkpoint at emilyalsentzer/Bio_ClinicalBERT and are newly initialized: ['classifier.bias', 'classifier.weight']\n",
      "You should probably TRAIN this model on a down-stream task to be able to use it for predictions and inference.\n",
      "Some weights of the model checkpoint at emilyalsentzer/Bio_ClinicalBERT were not used when initializing BertForSequenceClassification: ['cls.predictions.transform.LayerNorm.weight', 'cls.predictions.transform.dense.bias', 'cls.seq_relationship.weight', 'cls.predictions.decoder.weight', 'cls.predictions.bias', 'cls.predictions.transform.dense.weight', 'cls.predictions.transform.LayerNorm.bias', 'cls.seq_relationship.bias']\n",
      "- This IS expected if you are initializing BertForSequenceClassification from the checkpoint of a model trained on another task or with another architecture (e.g. initializing a BertForSequenceClassification model from a BertForPreTraining model).\n",
      "- This IS NOT expected if you are initializing BertForSequenceClassification from the checkpoint of a model that you expect to be exactly identical (initializing a BertForSequenceClassification model from a BertForSequenceClassification model).\n",
      "Some weights of BertForSequenceClassification were not initialized from the model checkpoint at emilyalsentzer/Bio_ClinicalBERT and are newly initialized: ['classifier.bias', 'classifier.weight']\n",
      "You should probably TRAIN this model on a down-stream task to be able to use it for predictions and inference.\n"
     ]
    },
    {
     "data": {
      "text/html": [
       "\n",
       "    <div>\n",
       "      \n",
       "      <progress value='302' max='302' style='width:300px; height:20px; vertical-align: middle;'></progress>\n",
       "      [302/302 32:26, Epoch 2/2]\n",
       "    </div>\n",
       "    <table border=\"1\" class=\"dataframe\">\n",
       "  <thead>\n",
       " <tr style=\"text-align: left;\">\n",
       "      <th>Epoch</th>\n",
       "      <th>Training Loss</th>\n",
       "      <th>Validation Loss</th>\n",
       "      <th>Accuracy</th>\n",
       "      <th>F1</th>\n",
       "      <th>Precision</th>\n",
       "      <th>Recall</th>\n",
       "    </tr>\n",
       "  </thead>\n",
       "  <tbody>\n",
       "    <tr>\n",
       "      <td>1</td>\n",
       "      <td>No log</td>\n",
       "      <td>2.133188</td>\n",
       "      <td>0.370000</td>\n",
       "      <td>0.227666</td>\n",
       "      <td>0.172591</td>\n",
       "      <td>0.370000</td>\n",
       "    </tr>\n",
       "    <tr>\n",
       "      <td>2</td>\n",
       "      <td>No log</td>\n",
       "      <td>1.963414</td>\n",
       "      <td>0.410000</td>\n",
       "      <td>0.270208</td>\n",
       "      <td>0.229357</td>\n",
       "      <td>0.410000</td>\n",
       "    </tr>\n",
       "  </tbody>\n",
       "</table><p>"
      ],
      "text/plain": [
       "<IPython.core.display.HTML object>"
      ]
     },
     "metadata": {},
     "output_type": "display_data"
    },
    {
     "data": {
      "text/html": [
       "\n",
       "    <div>\n",
       "      \n",
       "      <progress value='13' max='13' style='width:300px; height:20px; vertical-align: middle;'></progress>\n",
       "      [13/13 00:28]\n",
       "    </div>\n",
       "    "
      ],
      "text/plain": [
       "<IPython.core.display.HTML object>"
      ]
     },
     "metadata": {},
     "output_type": "display_data"
    },
    {
     "name": "stderr",
     "output_type": "stream",
     "text": [
      "\u001b[32m[I 2023-05-03 08:45:49,131]\u001b[0m Trial 8 finished with value: 0.2702075471698113 and parameters: {'num_train_epochs': 2, 'per_device_train_batch_size': 8, 'learning_rate': 1.0332602910717996e-05, 'weight_decay': 0.06184322628277287}. Best is trial 1 with value: 0.5496291486291487.\u001b[0m\n",
      "Some weights of the model checkpoint at emilyalsentzer/Bio_ClinicalBERT were not used when initializing BertForSequenceClassification: ['cls.predictions.transform.LayerNorm.weight', 'cls.predictions.transform.dense.bias', 'cls.seq_relationship.weight', 'cls.predictions.decoder.weight', 'cls.predictions.bias', 'cls.predictions.transform.dense.weight', 'cls.predictions.transform.LayerNorm.bias', 'cls.seq_relationship.bias']\n",
      "- This IS expected if you are initializing BertForSequenceClassification from the checkpoint of a model trained on another task or with another architecture (e.g. initializing a BertForSequenceClassification model from a BertForPreTraining model).\n",
      "- This IS NOT expected if you are initializing BertForSequenceClassification from the checkpoint of a model that you expect to be exactly identical (initializing a BertForSequenceClassification model from a BertForSequenceClassification model).\n",
      "Some weights of BertForSequenceClassification were not initialized from the model checkpoint at emilyalsentzer/Bio_ClinicalBERT and are newly initialized: ['classifier.bias', 'classifier.weight']\n",
      "You should probably TRAIN this model on a down-stream task to be able to use it for predictions and inference.\n",
      "Some weights of the model checkpoint at emilyalsentzer/Bio_ClinicalBERT were not used when initializing BertForSequenceClassification: ['cls.predictions.transform.LayerNorm.weight', 'cls.predictions.transform.dense.bias', 'cls.seq_relationship.weight', 'cls.predictions.decoder.weight', 'cls.predictions.bias', 'cls.predictions.transform.dense.weight', 'cls.predictions.transform.LayerNorm.bias', 'cls.seq_relationship.bias']\n",
      "- This IS expected if you are initializing BertForSequenceClassification from the checkpoint of a model trained on another task or with another architecture (e.g. initializing a BertForSequenceClassification model from a BertForPreTraining model).\n",
      "- This IS NOT expected if you are initializing BertForSequenceClassification from the checkpoint of a model that you expect to be exactly identical (initializing a BertForSequenceClassification model from a BertForSequenceClassification model).\n",
      "Some weights of BertForSequenceClassification were not initialized from the model checkpoint at emilyalsentzer/Bio_ClinicalBERT and are newly initialized: ['classifier.bias', 'classifier.weight']\n",
      "You should probably TRAIN this model on a down-stream task to be able to use it for predictions and inference.\n"
     ]
    },
    {
     "data": {
      "text/html": [
       "\n",
       "    <div>\n",
       "      \n",
       "      <progress value='151' max='151' style='width:300px; height:20px; vertical-align: middle;'></progress>\n",
       "      [151/151 16:25, Epoch 1/1]\n",
       "    </div>\n",
       "    <table border=\"1\" class=\"dataframe\">\n",
       "  <thead>\n",
       " <tr style=\"text-align: left;\">\n",
       "      <th>Epoch</th>\n",
       "      <th>Training Loss</th>\n",
       "      <th>Validation Loss</th>\n",
       "      <th>Accuracy</th>\n",
       "      <th>F1</th>\n",
       "      <th>Precision</th>\n",
       "      <th>Recall</th>\n",
       "    </tr>\n",
       "  </thead>\n",
       "  <tbody>\n",
       "    <tr>\n",
       "      <td>1</td>\n",
       "      <td>No log</td>\n",
       "      <td>2.678782</td>\n",
       "      <td>0.200000</td>\n",
       "      <td>0.066667</td>\n",
       "      <td>0.040000</td>\n",
       "      <td>0.200000</td>\n",
       "    </tr>\n",
       "  </tbody>\n",
       "</table><p>"
      ],
      "text/plain": [
       "<IPython.core.display.HTML object>"
      ]
     },
     "metadata": {},
     "output_type": "display_data"
    },
    {
     "data": {
      "text/html": [
       "\n",
       "    <div>\n",
       "      \n",
       "      <progress value='13' max='13' style='width:300px; height:20px; vertical-align: middle;'></progress>\n",
       "      [13/13 00:29]\n",
       "    </div>\n",
       "    "
      ],
      "text/plain": [
       "<IPython.core.display.HTML object>"
      ]
     },
     "metadata": {},
     "output_type": "display_data"
    },
    {
     "name": "stderr",
     "output_type": "stream",
     "text": [
      "\u001b[32m[I 2023-05-03 09:02:54,829]\u001b[0m Trial 9 finished with value: 0.06666666666666668 and parameters: {'num_train_epochs': 1, 'per_device_train_batch_size': 8, 'learning_rate': 0.0005573249068107314, 'weight_decay': 0.01633244797898207}. Best is trial 1 with value: 0.5496291486291487.\u001b[0m\n",
      "Some weights of the model checkpoint at emilyalsentzer/Bio_ClinicalBERT were not used when initializing BertForSequenceClassification: ['cls.predictions.transform.LayerNorm.weight', 'cls.predictions.transform.dense.bias', 'cls.seq_relationship.weight', 'cls.predictions.decoder.weight', 'cls.predictions.bias', 'cls.predictions.transform.dense.weight', 'cls.predictions.transform.LayerNorm.bias', 'cls.seq_relationship.bias']\n",
      "- This IS expected if you are initializing BertForSequenceClassification from the checkpoint of a model trained on another task or with another architecture (e.g. initializing a BertForSequenceClassification model from a BertForPreTraining model).\n",
      "- This IS NOT expected if you are initializing BertForSequenceClassification from the checkpoint of a model that you expect to be exactly identical (initializing a BertForSequenceClassification model from a BertForSequenceClassification model).\n",
      "Some weights of BertForSequenceClassification were not initialized from the model checkpoint at emilyalsentzer/Bio_ClinicalBERT and are newly initialized: ['classifier.bias', 'classifier.weight']\n",
      "You should probably TRAIN this model on a down-stream task to be able to use it for predictions and inference.\n",
      "Some weights of the model checkpoint at emilyalsentzer/Bio_ClinicalBERT were not used when initializing BertForSequenceClassification: ['cls.predictions.transform.LayerNorm.weight', 'cls.predictions.transform.dense.bias', 'cls.seq_relationship.weight', 'cls.predictions.decoder.weight', 'cls.predictions.bias', 'cls.predictions.transform.dense.weight', 'cls.predictions.transform.LayerNorm.bias', 'cls.seq_relationship.bias']\n",
      "- This IS expected if you are initializing BertForSequenceClassification from the checkpoint of a model trained on another task or with another architecture (e.g. initializing a BertForSequenceClassification model from a BertForPreTraining model).\n",
      "- This IS NOT expected if you are initializing BertForSequenceClassification from the checkpoint of a model that you expect to be exactly identical (initializing a BertForSequenceClassification model from a BertForSequenceClassification model).\n",
      "Some weights of BertForSequenceClassification were not initialized from the model checkpoint at emilyalsentzer/Bio_ClinicalBERT and are newly initialized: ['classifier.bias', 'classifier.weight']\n",
      "You should probably TRAIN this model on a down-stream task to be able to use it for predictions and inference.\n"
     ]
    },
    {
     "data": {
      "text/html": [
       "\n",
       "    <div>\n",
       "      \n",
       "      <progress value='152' max='152' style='width:300px; height:20px; vertical-align: middle;'></progress>\n",
       "      [152/152 30:45, Epoch 2/2]\n",
       "    </div>\n",
       "    <table border=\"1\" class=\"dataframe\">\n",
       "  <thead>\n",
       " <tr style=\"text-align: left;\">\n",
       "      <th>Epoch</th>\n",
       "      <th>Training Loss</th>\n",
       "      <th>Validation Loss</th>\n",
       "      <th>Accuracy</th>\n",
       "      <th>F1</th>\n",
       "      <th>Precision</th>\n",
       "      <th>Recall</th>\n",
       "    </tr>\n",
       "  </thead>\n",
       "  <tbody>\n",
       "    <tr>\n",
       "      <td>1</td>\n",
       "      <td>No log</td>\n",
       "      <td>1.730585</td>\n",
       "      <td>0.550000</td>\n",
       "      <td>0.486790</td>\n",
       "      <td>0.458935</td>\n",
       "      <td>0.550000</td>\n",
       "    </tr>\n",
       "    <tr>\n",
       "      <td>2</td>\n",
       "      <td>No log</td>\n",
       "      <td>1.430747</td>\n",
       "      <td>0.620000</td>\n",
       "      <td>0.565244</td>\n",
       "      <td>0.571788</td>\n",
       "      <td>0.620000</td>\n",
       "    </tr>\n",
       "  </tbody>\n",
       "</table><p>"
      ],
      "text/plain": [
       "<IPython.core.display.HTML object>"
      ]
     },
     "metadata": {},
     "output_type": "display_data"
    },
    {
     "data": {
      "text/html": [
       "\n",
       "    <div>\n",
       "      \n",
       "      <progress value='13' max='13' style='width:300px; height:20px; vertical-align: middle;'></progress>\n",
       "      [13/13 00:29]\n",
       "    </div>\n",
       "    "
      ],
      "text/plain": [
       "<IPython.core.display.HTML object>"
      ]
     },
     "metadata": {},
     "output_type": "display_data"
    },
    {
     "name": "stderr",
     "output_type": "stream",
     "text": [
      "\u001b[32m[I 2023-05-03 09:34:25,210]\u001b[0m Trial 10 finished with value: 0.5652439858777892 and parameters: {'num_train_epochs': 2, 'per_device_train_batch_size': 16, 'learning_rate': 5.6153014625142144e-05, 'weight_decay': 0.005866976830502982}. Best is trial 10 with value: 0.5652439858777892.\u001b[0m\n",
      "Some weights of the model checkpoint at emilyalsentzer/Bio_ClinicalBERT were not used when initializing BertForSequenceClassification: ['cls.predictions.transform.LayerNorm.weight', 'cls.predictions.transform.dense.bias', 'cls.seq_relationship.weight', 'cls.predictions.decoder.weight', 'cls.predictions.bias', 'cls.predictions.transform.dense.weight', 'cls.predictions.transform.LayerNorm.bias', 'cls.seq_relationship.bias']\n",
      "- This IS expected if you are initializing BertForSequenceClassification from the checkpoint of a model trained on another task or with another architecture (e.g. initializing a BertForSequenceClassification model from a BertForPreTraining model).\n",
      "- This IS NOT expected if you are initializing BertForSequenceClassification from the checkpoint of a model that you expect to be exactly identical (initializing a BertForSequenceClassification model from a BertForSequenceClassification model).\n",
      "Some weights of BertForSequenceClassification were not initialized from the model checkpoint at emilyalsentzer/Bio_ClinicalBERT and are newly initialized: ['classifier.bias', 'classifier.weight']\n",
      "You should probably TRAIN this model on a down-stream task to be able to use it for predictions and inference.\n",
      "Some weights of the model checkpoint at emilyalsentzer/Bio_ClinicalBERT were not used when initializing BertForSequenceClassification: ['cls.predictions.transform.LayerNorm.weight', 'cls.predictions.transform.dense.bias', 'cls.seq_relationship.weight', 'cls.predictions.decoder.weight', 'cls.predictions.bias', 'cls.predictions.transform.dense.weight', 'cls.predictions.transform.LayerNorm.bias', 'cls.seq_relationship.bias']\n",
      "- This IS expected if you are initializing BertForSequenceClassification from the checkpoint of a model trained on another task or with another architecture (e.g. initializing a BertForSequenceClassification model from a BertForPreTraining model).\n",
      "- This IS NOT expected if you are initializing BertForSequenceClassification from the checkpoint of a model that you expect to be exactly identical (initializing a BertForSequenceClassification model from a BertForSequenceClassification model).\n",
      "Some weights of BertForSequenceClassification were not initialized from the model checkpoint at emilyalsentzer/Bio_ClinicalBERT and are newly initialized: ['classifier.bias', 'classifier.weight']\n",
      "You should probably TRAIN this model on a down-stream task to be able to use it for predictions and inference.\n"
     ]
    },
    {
     "data": {
      "text/html": [
       "\n",
       "    <div>\n",
       "      \n",
       "      <progress value='152' max='152' style='width:300px; height:20px; vertical-align: middle;'></progress>\n",
       "      [152/152 30:31, Epoch 2/2]\n",
       "    </div>\n",
       "    <table border=\"1\" class=\"dataframe\">\n",
       "  <thead>\n",
       " <tr style=\"text-align: left;\">\n",
       "      <th>Epoch</th>\n",
       "      <th>Training Loss</th>\n",
       "      <th>Validation Loss</th>\n",
       "      <th>Accuracy</th>\n",
       "      <th>F1</th>\n",
       "      <th>Precision</th>\n",
       "      <th>Recall</th>\n",
       "    </tr>\n",
       "  </thead>\n",
       "  <tbody>\n",
       "    <tr>\n",
       "      <td>1</td>\n",
       "      <td>No log</td>\n",
       "      <td>1.734546</td>\n",
       "      <td>0.550000</td>\n",
       "      <td>0.490244</td>\n",
       "      <td>0.464829</td>\n",
       "      <td>0.550000</td>\n",
       "    </tr>\n",
       "    <tr>\n",
       "      <td>2</td>\n",
       "      <td>No log</td>\n",
       "      <td>1.435127</td>\n",
       "      <td>0.620000</td>\n",
       "      <td>0.565244</td>\n",
       "      <td>0.571788</td>\n",
       "      <td>0.620000</td>\n",
       "    </tr>\n",
       "  </tbody>\n",
       "</table><p>"
      ],
      "text/plain": [
       "<IPython.core.display.HTML object>"
      ]
     },
     "metadata": {},
     "output_type": "display_data"
    },
    {
     "data": {
      "text/html": [
       "\n",
       "    <div>\n",
       "      \n",
       "      <progress value='13' max='13' style='width:300px; height:20px; vertical-align: middle;'></progress>\n",
       "      [13/13 00:28]\n",
       "    </div>\n",
       "    "
      ],
      "text/plain": [
       "<IPython.core.display.HTML object>"
      ]
     },
     "metadata": {},
     "output_type": "display_data"
    },
    {
     "name": "stderr",
     "output_type": "stream",
     "text": [
      "\u001b[32m[I 2023-05-03 10:05:42,406]\u001b[0m Trial 11 finished with value: 0.5652439858777892 and parameters: {'num_train_epochs': 2, 'per_device_train_batch_size': 16, 'learning_rate': 5.5800950717831996e-05, 'weight_decay': 0.00023886056576580272}. Best is trial 10 with value: 0.5652439858777892.\u001b[0m\n",
      "Some weights of the model checkpoint at emilyalsentzer/Bio_ClinicalBERT were not used when initializing BertForSequenceClassification: ['cls.predictions.transform.LayerNorm.weight', 'cls.predictions.transform.dense.bias', 'cls.seq_relationship.weight', 'cls.predictions.decoder.weight', 'cls.predictions.bias', 'cls.predictions.transform.dense.weight', 'cls.predictions.transform.LayerNorm.bias', 'cls.seq_relationship.bias']\n",
      "- This IS expected if you are initializing BertForSequenceClassification from the checkpoint of a model trained on another task or with another architecture (e.g. initializing a BertForSequenceClassification model from a BertForPreTraining model).\n",
      "- This IS NOT expected if you are initializing BertForSequenceClassification from the checkpoint of a model that you expect to be exactly identical (initializing a BertForSequenceClassification model from a BertForSequenceClassification model).\n",
      "Some weights of BertForSequenceClassification were not initialized from the model checkpoint at emilyalsentzer/Bio_ClinicalBERT and are newly initialized: ['classifier.bias', 'classifier.weight']\n",
      "You should probably TRAIN this model on a down-stream task to be able to use it for predictions and inference.\n",
      "Some weights of the model checkpoint at emilyalsentzer/Bio_ClinicalBERT were not used when initializing BertForSequenceClassification: ['cls.predictions.transform.LayerNorm.weight', 'cls.predictions.transform.dense.bias', 'cls.seq_relationship.weight', 'cls.predictions.decoder.weight', 'cls.predictions.bias', 'cls.predictions.transform.dense.weight', 'cls.predictions.transform.LayerNorm.bias', 'cls.seq_relationship.bias']\n",
      "- This IS expected if you are initializing BertForSequenceClassification from the checkpoint of a model trained on another task or with another architecture (e.g. initializing a BertForSequenceClassification model from a BertForPreTraining model).\n",
      "- This IS NOT expected if you are initializing BertForSequenceClassification from the checkpoint of a model that you expect to be exactly identical (initializing a BertForSequenceClassification model from a BertForSequenceClassification model).\n",
      "Some weights of BertForSequenceClassification were not initialized from the model checkpoint at emilyalsentzer/Bio_ClinicalBERT and are newly initialized: ['classifier.bias', 'classifier.weight']\n",
      "You should probably TRAIN this model on a down-stream task to be able to use it for predictions and inference.\n"
     ]
    },
    {
     "data": {
      "text/html": [
       "\n",
       "    <div>\n",
       "      \n",
       "      <progress value='152' max='152' style='width:300px; height:20px; vertical-align: middle;'></progress>\n",
       "      [152/152 30:04, Epoch 2/2]\n",
       "    </div>\n",
       "    <table border=\"1\" class=\"dataframe\">\n",
       "  <thead>\n",
       " <tr style=\"text-align: left;\">\n",
       "      <th>Epoch</th>\n",
       "      <th>Training Loss</th>\n",
       "      <th>Validation Loss</th>\n",
       "      <th>Accuracy</th>\n",
       "      <th>F1</th>\n",
       "      <th>Precision</th>\n",
       "      <th>Recall</th>\n",
       "    </tr>\n",
       "  </thead>\n",
       "  <tbody>\n",
       "    <tr>\n",
       "      <td>1</td>\n",
       "      <td>No log</td>\n",
       "      <td>1.818244</td>\n",
       "      <td>0.510000</td>\n",
       "      <td>0.433992</td>\n",
       "      <td>0.412714</td>\n",
       "      <td>0.510000</td>\n",
       "    </tr>\n",
       "    <tr>\n",
       "      <td>2</td>\n",
       "      <td>No log</td>\n",
       "      <td>1.509952</td>\n",
       "      <td>0.620000</td>\n",
       "      <td>0.565920</td>\n",
       "      <td>0.560535</td>\n",
       "      <td>0.620000</td>\n",
       "    </tr>\n",
       "  </tbody>\n",
       "</table><p>"
      ],
      "text/plain": [
       "<IPython.core.display.HTML object>"
      ]
     },
     "metadata": {},
     "output_type": "display_data"
    },
    {
     "data": {
      "text/html": [
       "\n",
       "    <div>\n",
       "      \n",
       "      <progress value='13' max='13' style='width:300px; height:20px; vertical-align: middle;'></progress>\n",
       "      [13/13 00:28]\n",
       "    </div>\n",
       "    "
      ],
      "text/plain": [
       "<IPython.core.display.HTML object>"
      ]
     },
     "metadata": {},
     "output_type": "display_data"
    },
    {
     "name": "stderr",
     "output_type": "stream",
     "text": [
      "\u001b[32m[I 2023-05-03 10:36:31,914]\u001b[0m Trial 12 finished with value: 0.5659204205542239 and parameters: {'num_train_epochs': 2, 'per_device_train_batch_size': 16, 'learning_rate': 4.68641162827329e-05, 'weight_decay': 0.001524419301528795}. Best is trial 12 with value: 0.5659204205542239.\u001b[0m\n",
      "Some weights of the model checkpoint at emilyalsentzer/Bio_ClinicalBERT were not used when initializing BertForSequenceClassification: ['cls.predictions.transform.LayerNorm.weight', 'cls.predictions.transform.dense.bias', 'cls.seq_relationship.weight', 'cls.predictions.decoder.weight', 'cls.predictions.bias', 'cls.predictions.transform.dense.weight', 'cls.predictions.transform.LayerNorm.bias', 'cls.seq_relationship.bias']\n",
      "- This IS expected if you are initializing BertForSequenceClassification from the checkpoint of a model trained on another task or with another architecture (e.g. initializing a BertForSequenceClassification model from a BertForPreTraining model).\n",
      "- This IS NOT expected if you are initializing BertForSequenceClassification from the checkpoint of a model that you expect to be exactly identical (initializing a BertForSequenceClassification model from a BertForSequenceClassification model).\n",
      "Some weights of BertForSequenceClassification were not initialized from the model checkpoint at emilyalsentzer/Bio_ClinicalBERT and are newly initialized: ['classifier.bias', 'classifier.weight']\n",
      "You should probably TRAIN this model on a down-stream task to be able to use it for predictions and inference.\n",
      "Some weights of the model checkpoint at emilyalsentzer/Bio_ClinicalBERT were not used when initializing BertForSequenceClassification: ['cls.predictions.transform.LayerNorm.weight', 'cls.predictions.transform.dense.bias', 'cls.seq_relationship.weight', 'cls.predictions.decoder.weight', 'cls.predictions.bias', 'cls.predictions.transform.dense.weight', 'cls.predictions.transform.LayerNorm.bias', 'cls.seq_relationship.bias']\n",
      "- This IS expected if you are initializing BertForSequenceClassification from the checkpoint of a model trained on another task or with another architecture (e.g. initializing a BertForSequenceClassification model from a BertForPreTraining model).\n",
      "- This IS NOT expected if you are initializing BertForSequenceClassification from the checkpoint of a model that you expect to be exactly identical (initializing a BertForSequenceClassification model from a BertForSequenceClassification model).\n",
      "Some weights of BertForSequenceClassification were not initialized from the model checkpoint at emilyalsentzer/Bio_ClinicalBERT and are newly initialized: ['classifier.bias', 'classifier.weight']\n",
      "You should probably TRAIN this model on a down-stream task to be able to use it for predictions and inference.\n"
     ]
    },
    {
     "data": {
      "text/html": [
       "\n",
       "    <div>\n",
       "      \n",
       "      <progress value='228' max='228' style='width:300px; height:20px; vertical-align: middle;'></progress>\n",
       "      [228/228 45:26, Epoch 3/3]\n",
       "    </div>\n",
       "    <table border=\"1\" class=\"dataframe\">\n",
       "  <thead>\n",
       " <tr style=\"text-align: left;\">\n",
       "      <th>Epoch</th>\n",
       "      <th>Training Loss</th>\n",
       "      <th>Validation Loss</th>\n",
       "      <th>Accuracy</th>\n",
       "      <th>F1</th>\n",
       "      <th>Precision</th>\n",
       "      <th>Recall</th>\n",
       "    </tr>\n",
       "  </thead>\n",
       "  <tbody>\n",
       "    <tr>\n",
       "      <td>1</td>\n",
       "      <td>No log</td>\n",
       "      <td>1.885408</td>\n",
       "      <td>0.460000</td>\n",
       "      <td>0.373533</td>\n",
       "      <td>0.338931</td>\n",
       "      <td>0.460000</td>\n",
       "    </tr>\n",
       "    <tr>\n",
       "      <td>2</td>\n",
       "      <td>No log</td>\n",
       "      <td>1.525974</td>\n",
       "      <td>0.630000</td>\n",
       "      <td>0.572337</td>\n",
       "      <td>0.590894</td>\n",
       "      <td>0.630000</td>\n",
       "    </tr>\n",
       "    <tr>\n",
       "      <td>3</td>\n",
       "      <td>No log</td>\n",
       "      <td>1.419427</td>\n",
       "      <td>0.650000</td>\n",
       "      <td>0.598331</td>\n",
       "      <td>0.581443</td>\n",
       "      <td>0.650000</td>\n",
       "    </tr>\n",
       "  </tbody>\n",
       "</table><p>"
      ],
      "text/plain": [
       "<IPython.core.display.HTML object>"
      ]
     },
     "metadata": {},
     "output_type": "display_data"
    },
    {
     "data": {
      "text/html": [
       "\n",
       "    <div>\n",
       "      \n",
       "      <progress value='13' max='13' style='width:300px; height:20px; vertical-align: middle;'></progress>\n",
       "      [13/13 00:29]\n",
       "    </div>\n",
       "    "
      ],
      "text/plain": [
       "<IPython.core.display.HTML object>"
      ]
     },
     "metadata": {},
     "output_type": "display_data"
    },
    {
     "name": "stderr",
     "output_type": "stream",
     "text": [
      "\u001b[32m[I 2023-05-03 11:22:44,352]\u001b[0m Trial 13 finished with value: 0.5983306764157829 and parameters: {'num_train_epochs': 3, 'per_device_train_batch_size': 16, 'learning_rate': 3.5909539687097195e-05, 'weight_decay': 0.002211910771361521}. Best is trial 13 with value: 0.5983306764157829.\u001b[0m\n",
      "Some weights of the model checkpoint at emilyalsentzer/Bio_ClinicalBERT were not used when initializing BertForSequenceClassification: ['cls.predictions.transform.LayerNorm.weight', 'cls.predictions.transform.dense.bias', 'cls.seq_relationship.weight', 'cls.predictions.decoder.weight', 'cls.predictions.bias', 'cls.predictions.transform.dense.weight', 'cls.predictions.transform.LayerNorm.bias', 'cls.seq_relationship.bias']\n",
      "- This IS expected if you are initializing BertForSequenceClassification from the checkpoint of a model trained on another task or with another architecture (e.g. initializing a BertForSequenceClassification model from a BertForPreTraining model).\n",
      "- This IS NOT expected if you are initializing BertForSequenceClassification from the checkpoint of a model that you expect to be exactly identical (initializing a BertForSequenceClassification model from a BertForSequenceClassification model).\n",
      "Some weights of BertForSequenceClassification were not initialized from the model checkpoint at emilyalsentzer/Bio_ClinicalBERT and are newly initialized: ['classifier.bias', 'classifier.weight']\n",
      "You should probably TRAIN this model on a down-stream task to be able to use it for predictions and inference.\n",
      "Some weights of the model checkpoint at emilyalsentzer/Bio_ClinicalBERT were not used when initializing BertForSequenceClassification: ['cls.predictions.transform.LayerNorm.weight', 'cls.predictions.transform.dense.bias', 'cls.seq_relationship.weight', 'cls.predictions.decoder.weight', 'cls.predictions.bias', 'cls.predictions.transform.dense.weight', 'cls.predictions.transform.LayerNorm.bias', 'cls.seq_relationship.bias']\n",
      "- This IS expected if you are initializing BertForSequenceClassification from the checkpoint of a model trained on another task or with another architecture (e.g. initializing a BertForSequenceClassification model from a BertForPreTraining model).\n",
      "- This IS NOT expected if you are initializing BertForSequenceClassification from the checkpoint of a model that you expect to be exactly identical (initializing a BertForSequenceClassification model from a BertForSequenceClassification model).\n",
      "Some weights of BertForSequenceClassification were not initialized from the model checkpoint at emilyalsentzer/Bio_ClinicalBERT and are newly initialized: ['classifier.bias', 'classifier.weight']\n",
      "You should probably TRAIN this model on a down-stream task to be able to use it for predictions and inference.\n"
     ]
    },
    {
     "data": {
      "text/html": [
       "\n",
       "    <div>\n",
       "      \n",
       "      <progress value='228' max='228' style='width:300px; height:20px; vertical-align: middle;'></progress>\n",
       "      [228/228 46:15, Epoch 3/3]\n",
       "    </div>\n",
       "    <table border=\"1\" class=\"dataframe\">\n",
       "  <thead>\n",
       " <tr style=\"text-align: left;\">\n",
       "      <th>Epoch</th>\n",
       "      <th>Training Loss</th>\n",
       "      <th>Validation Loss</th>\n",
       "      <th>Accuracy</th>\n",
       "      <th>F1</th>\n",
       "      <th>Precision</th>\n",
       "      <th>Recall</th>\n",
       "    </tr>\n",
       "  </thead>\n",
       "  <tbody>\n",
       "    <tr>\n",
       "      <td>1</td>\n",
       "      <td>No log</td>\n",
       "      <td>1.952724</td>\n",
       "      <td>0.400000</td>\n",
       "      <td>0.279216</td>\n",
       "      <td>0.243243</td>\n",
       "      <td>0.400000</td>\n",
       "    </tr>\n",
       "    <tr>\n",
       "      <td>2</td>\n",
       "      <td>No log</td>\n",
       "      <td>1.649201</td>\n",
       "      <td>0.620000</td>\n",
       "      <td>0.574305</td>\n",
       "      <td>0.582375</td>\n",
       "      <td>0.620000</td>\n",
       "    </tr>\n",
       "    <tr>\n",
       "      <td>3</td>\n",
       "      <td>No log</td>\n",
       "      <td>1.562522</td>\n",
       "      <td>0.640000</td>\n",
       "      <td>0.593120</td>\n",
       "      <td>0.577028</td>\n",
       "      <td>0.640000</td>\n",
       "    </tr>\n",
       "  </tbody>\n",
       "</table><p>"
      ],
      "text/plain": [
       "<IPython.core.display.HTML object>"
      ]
     },
     "metadata": {},
     "output_type": "display_data"
    },
    {
     "data": {
      "text/html": [
       "\n",
       "    <div>\n",
       "      \n",
       "      <progress value='13' max='13' style='width:300px; height:20px; vertical-align: middle;'></progress>\n",
       "      [13/13 00:28]\n",
       "    </div>\n",
       "    "
      ],
      "text/plain": [
       "<IPython.core.display.HTML object>"
      ]
     },
     "metadata": {},
     "output_type": "display_data"
    },
    {
     "name": "stderr",
     "output_type": "stream",
     "text": [
      "\u001b[32m[I 2023-05-03 12:09:44,997]\u001b[0m Trial 14 finished with value: 0.5931203007518797 and parameters: {'num_train_epochs': 3, 'per_device_train_batch_size': 16, 'learning_rate': 2.6421593160509734e-05, 'weight_decay': 0.0019242418194512902}. Best is trial 13 with value: 0.5983306764157829.\u001b[0m\n"
     ]
    }
   ],
   "source": [
    "import numpy as np\n",
    "from transformers import TrainingArguments\n",
    "import optuna\n",
    "\n",
    "def model_init():\n",
    "    return AutoModelForSequenceClassification.from_pretrained(\"emilyalsentzer/Bio_ClinicalBERT\", num_labels=20)\n",
    "\n",
    "def objective(trial):\n",
    "    training_args = TrainingArguments(\n",
    "        output_dir=\"output\",\n",
    "        num_train_epochs=trial.suggest_int(\"num_train_epochs\", 1, 5),\n",
    "        per_device_train_batch_size=trial.suggest_categorical(\"per_device_train_batch_size\", [4, 8, 16, 32]),\n",
    "        per_device_eval_batch_size=8,\n",
    "        evaluation_strategy=\"epoch\",\n",
    "        learning_rate=trial.suggest_float(\"learning_rate\", 1e-5, 1e-3, log=True),\n",
    "        weight_decay=trial.suggest_float(\"weight_decay\", 0, 0.1),\n",
    "        save_strategy=\"no\",\n",
    "    )\n",
    "\n",
    "    trainer = Trainer(\n",
    "        model_init=model_init,\n",
    "        args=training_args,\n",
    "        train_dataset=train_dataset,\n",
    "        eval_dataset=valid_dataset,\n",
    "        compute_metrics=compute_metrics\n",
    "    )\n",
    "\n",
    "    trainer.train()\n",
    "\n",
    "    evaluation_results = trainer.evaluate()\n",
    "    return evaluation_results[\"eval_f1\"]  \n",
    "\n",
    "study = optuna.create_study(direction=\"maximize\")\n",
    "study.optimize(objective, n_trials=15)  # more trials, the better the fine-tuning\n"
   ]
  },
  {
   "cell_type": "code",
   "execution_count": 61,
   "id": "6d8607e1-9eb7-41b0-a8c3-ae253151cf74",
   "metadata": {},
   "outputs": [
    {
     "name": "stdout",
     "output_type": "stream",
     "text": [
      "Best trial:\n",
      "  Value: 0.5983306764157829\n",
      "  Params: \n",
      "    num_train_epochs: 3\n",
      "    per_device_train_batch_size: 16\n",
      "    learning_rate: 3.5909539687097195e-05\n",
      "    weight_decay: 0.002211910771361521\n"
     ]
    }
   ],
   "source": [
    "print(\"Best trial:\")\n",
    "trial_ = study.best_trial\n",
    "print(f\"  Value: {trial_.value}\")\n",
    "print(\"  Params: \")\n",
    "for key, value in trial_.params.items():\n",
    "    print(f\"    {key}: {value}\")"
   ]
  },
  {
   "cell_type": "code",
   "execution_count": 62,
   "id": "5ecb8821-9c3e-41c2-93aa-fde5bc25429c",
   "metadata": {},
   "outputs": [],
   "source": [
    "# Retrain model with the best hyperparameters\n",
    "best_params = trial_.params"
   ]
  },
  {
   "cell_type": "code",
   "execution_count": 63,
   "id": "853f97cf-c6ac-4979-994d-d3192d03e5f3",
   "metadata": {},
   "outputs": [],
   "source": [
    "training_args = TrainingArguments(\n",
    "    output_dir=\"output\",\n",
    "    num_train_epochs=best_params[\"num_train_epochs\"],\n",
    "    per_device_train_batch_size=best_params[\"per_device_train_batch_size\"],\n",
    "    per_device_eval_batch_size=8,\n",
    "    evaluation_strategy=\"epoch\",\n",
    "    learning_rate=best_params[\"learning_rate\"],\n",
    "    weight_decay=best_params[\"weight_decay\"],\n",
    "    save_strategy=\"no\",\n",
    ")"
   ]
  },
  {
   "cell_type": "code",
   "execution_count": 64,
   "id": "8ad566eb-0079-415d-96e4-2b95c0182147",
   "metadata": {},
   "outputs": [
    {
     "name": "stderr",
     "output_type": "stream",
     "text": [
      "Some weights of the model checkpoint at emilyalsentzer/Bio_ClinicalBERT were not used when initializing BertForSequenceClassification: ['cls.predictions.transform.LayerNorm.weight', 'cls.predictions.transform.dense.bias', 'cls.seq_relationship.weight', 'cls.predictions.decoder.weight', 'cls.predictions.bias', 'cls.predictions.transform.dense.weight', 'cls.predictions.transform.LayerNorm.bias', 'cls.seq_relationship.bias']\n",
      "- This IS expected if you are initializing BertForSequenceClassification from the checkpoint of a model trained on another task or with another architecture (e.g. initializing a BertForSequenceClassification model from a BertForPreTraining model).\n",
      "- This IS NOT expected if you are initializing BertForSequenceClassification from the checkpoint of a model that you expect to be exactly identical (initializing a BertForSequenceClassification model from a BertForSequenceClassification model).\n",
      "Some weights of BertForSequenceClassification were not initialized from the model checkpoint at emilyalsentzer/Bio_ClinicalBERT and are newly initialized: ['classifier.bias', 'classifier.weight']\n",
      "You should probably TRAIN this model on a down-stream task to be able to use it for predictions and inference.\n"
     ]
    },
    {
     "data": {
      "text/html": [
       "\n",
       "    <div>\n",
       "      \n",
       "      <progress value='228' max='228' style='width:300px; height:20px; vertical-align: middle;'></progress>\n",
       "      [228/228 46:35, Epoch 3/3]\n",
       "    </div>\n",
       "    <table border=\"1\" class=\"dataframe\">\n",
       "  <thead>\n",
       " <tr style=\"text-align: left;\">\n",
       "      <th>Epoch</th>\n",
       "      <th>Training Loss</th>\n",
       "      <th>Validation Loss</th>\n",
       "      <th>Accuracy</th>\n",
       "      <th>F1</th>\n",
       "      <th>Precision</th>\n",
       "      <th>Recall</th>\n",
       "    </tr>\n",
       "  </thead>\n",
       "  <tbody>\n",
       "    <tr>\n",
       "      <td>1</td>\n",
       "      <td>No log</td>\n",
       "      <td>1.845319</td>\n",
       "      <td>0.450000</td>\n",
       "      <td>0.411644</td>\n",
       "      <td>0.421812</td>\n",
       "      <td>0.450000</td>\n",
       "    </tr>\n",
       "    <tr>\n",
       "      <td>2</td>\n",
       "      <td>No log</td>\n",
       "      <td>1.510837</td>\n",
       "      <td>0.610000</td>\n",
       "      <td>0.566803</td>\n",
       "      <td>0.552672</td>\n",
       "      <td>0.610000</td>\n",
       "    </tr>\n",
       "    <tr>\n",
       "      <td>3</td>\n",
       "      <td>No log</td>\n",
       "      <td>1.441269</td>\n",
       "      <td>0.650000</td>\n",
       "      <td>0.604373</td>\n",
       "      <td>0.583742</td>\n",
       "      <td>0.650000</td>\n",
       "    </tr>\n",
       "  </tbody>\n",
       "</table><p>"
      ],
      "text/plain": [
       "<IPython.core.display.HTML object>"
      ]
     },
     "metadata": {},
     "output_type": "display_data"
    },
    {
     "data": {
      "text/html": [],
      "text/plain": [
       "<IPython.core.display.HTML object>"
      ]
     },
     "metadata": {},
     "output_type": "display_data"
    },
    {
     "name": "stdout",
     "output_type": "stream",
     "text": [
      "{'eval_loss': 1.441269040107727, 'eval_accuracy': 0.65, 'eval_f1': 0.604373389824157, 'eval_precision': 0.5837415654520917, 'eval_recall': 0.65, 'eval_runtime': 30.9714, 'eval_samples_per_second': 3.229, 'eval_steps_per_second': 0.42, 'epoch': 3.0}\n"
     ]
    }
   ],
   "source": [
    "# Instantiate the Trainer with the best hyperparameters\n",
    "trainer = Trainer(\n",
    "    model=model_init(),\n",
    "    args=training_args,\n",
    "    train_dataset=train_dataset,\n",
    "    eval_dataset=valid_dataset,\n",
    "    compute_metrics=compute_metrics\n",
    ")\n",
    "\n",
    "# Train the model\n",
    "trainer.train()\n",
    "\n",
    "# Evaluation\n",
    "evaluation_results = trainer.evaluate()\n",
    "print(evaluation_results)"
   ]
  },
  {
   "cell_type": "code",
   "execution_count": 65,
   "id": "10a3fe8b-387d-4d5c-bc96-3ad2ef55c221",
   "metadata": {},
   "outputs": [
    {
     "name": "stdout",
     "output_type": "stream",
     "text": [
      "               precision    recall  f1-score   support\n",
      "\n",
      "      ALLERGY       0.67      0.50      0.57         4\n",
      "   ASSESSMENT       1.00      0.00      0.00         4\n",
      "           CC       0.15      0.50      0.24         4\n",
      "    DIAGNOSIS       1.00      0.00      0.00         1\n",
      "  DISPOSITION       1.00      0.00      0.00         2\n",
      "     EDCOURSE       1.00      0.00      0.00         3\n",
      "         EXAM       1.00      0.00      0.00         1\n",
      "    FAM/SOCHX       0.88      0.95      0.91        22\n",
      "        GENHX       0.84      0.80      0.82        20\n",
      "        GYNHX       1.00      0.00      0.00         1\n",
      "      IMAGING       1.00      0.00      0.00         1\n",
      "IMMUNIZATIONS       1.00      0.00      0.00         1\n",
      "         LABS       1.00      0.00      0.00         1\n",
      "  MEDICATIONS       0.78      1.00      0.88         7\n",
      "OTHER_HISTORY       1.00      0.00      0.00         1\n",
      "PASTMEDICALHX       0.33      1.00      0.50         4\n",
      " PASTSURGICAL       0.78      0.88      0.82         8\n",
      "         PLAN       1.00      0.00      0.00         3\n",
      "   PROCEDURES       1.00      0.00      0.00         1\n",
      "          ROS       0.55      0.55      0.55        11\n",
      "\n",
      "     accuracy                           0.65       100\n",
      "    macro avg       0.85      0.31      0.26       100\n",
      " weighted avg       0.78      0.65      0.60       100\n",
      "\n"
     ]
    }
   ],
   "source": [
    "# Predictions\n",
    "predictions_output = trainer.predict(valid_dataset)\n",
    "predicted_labels = predictions_output.predictions.argmax(-1)\n",
    "\n",
    "# Convert label IDs to original labels\n",
    "y_valid_pred = [id_to_label[label_id] for label_id in predicted_labels]\n",
    "y_valid_true = [id_to_label[label_id] for label_id in y_valid_ids]\n",
    "\n",
    "# Generate classification report\n",
    "from sklearn.metrics import classification_report\n",
    "report = classification_report(y_valid_true, y_valid_pred, zero_division=1)\n",
    "print(report)"
   ]
  },
  {
   "cell_type": "code",
   "execution_count": null,
   "id": "8b731a0a-947c-4cad-9283-d5ec29380f77",
   "metadata": {},
   "outputs": [],
   "source": []
  },
  {
   "cell_type": "code",
   "execution_count": null,
   "id": "c35caecb-863e-4c10-a5db-f5e959ff359e",
   "metadata": {},
   "outputs": [],
   "source": []
  },
  {
   "cell_type": "code",
   "execution_count": null,
   "id": "b1e7a9ff-362a-4ff9-92ec-dc46f023b97a",
   "metadata": {},
   "outputs": [],
   "source": []
  },
  {
   "cell_type": "code",
   "execution_count": null,
   "id": "41949f78-c3ea-4af3-9785-44865cd50f2d",
   "metadata": {},
   "outputs": [],
   "source": []
  },
  {
   "cell_type": "code",
   "execution_count": null,
   "id": "d811ecbb-eba6-43d8-8c21-4c8c2005e841",
   "metadata": {},
   "outputs": [],
   "source": []
  },
  {
   "cell_type": "code",
   "execution_count": null,
   "id": "5daff062-ecd4-4bc8-9041-be1e65e4c155",
   "metadata": {},
   "outputs": [],
   "source": []
  },
  {
   "cell_type": "code",
   "execution_count": 34,
   "id": "d430132c-454d-4d5c-afaa-0715c6ebdb1f",
   "metadata": {},
   "outputs": [],
   "source": [
    "# ======================================================================================== commented codes"
   ]
  },
  {
   "cell_type": "code",
   "execution_count": 200,
   "id": "88ff2a3a-cc83-42a5-a17e-1a7d4f683556",
   "metadata": {},
   "outputs": [],
   "source": [
    "# just a vis for determin max_length"
   ]
  },
  {
   "cell_type": "code",
   "execution_count": 201,
   "id": "507d101a-f1df-4985-b221-03604b77dd8d",
   "metadata": {},
   "outputs": [],
   "source": [
    "# import matplotlib.pyplot as plt\n",
    "\n",
    "# text_lengths = [len(tokenizer.encode(text)) for text in X_train]\n",
    "# plt.hist(text_lengths, bins=50)\n",
    "# plt.xlabel('Text Length')\n",
    "# plt.ylabel('Frequency')\n",
    "# plt.show()\n"
   ]
  },
  {
   "cell_type": "code",
   "execution_count": 202,
   "id": "c47d56ec-7ae2-414b-ac80-8c2322a6bc23",
   "metadata": {},
   "outputs": [],
   "source": [
    "# import numpy as np\n",
    "\n",
    "# percentile_90 = int(np.percentile(text_lengths, 90))\n",
    "# percentile_95 = int(np.percentile(text_lengths, 95))\n",
    "# percentile_99 = int(np.percentile(text_lengths, 99))\n",
    "\n",
    "# print(f\"90th percentile: {percentile_90}\")\n",
    "# print(f\"95th percentile: {percentile_95}\")\n",
    "# print(f\"99th percentile: {percentile_99}\")\n"
   ]
  },
  {
   "cell_type": "code",
   "execution_count": null,
   "id": "af942168-ce6d-4296-b224-35643cf45aa6",
   "metadata": {},
   "outputs": [],
   "source": []
  },
  {
   "cell_type": "code",
   "execution_count": 31,
   "id": "9628e16f-3fde-4de7-be21-ba1c2d7eab66",
   "metadata": {},
   "outputs": [],
   "source": [
    "# see features\n",
    "\n",
    "# vectorizer = TfidfVectorizer(analyzer='word', stop_words='english',ngram_range=(1,5), max_df=0.75, use_idf=True, smooth_idf=True, max_features=1000)\n",
    "# tfIdfMat  = vectorizer.fit_transform(X_train.tolist())\n",
    "# feature_names = sorted(vectorizer.get_feature_names())\n",
    "# print(feature_names)"
   ]
  },
  {
   "cell_type": "code",
   "execution_count": 53,
   "id": "7cfcc8be-64da-4b4c-ad12-15de0e22f6b7",
   "metadata": {},
   "outputs": [
    {
     "data": {
      "image/png": "[encoded data removed]",
      "text/plain": [
       "<Figure size 1200x1200 with 1 Axes>"
      ]
     },
     "metadata": {},
     "output_type": "display_data"
    }
   ],
   "source": [
    "import numpy as np\n",
    "import pandas as pd\n",
    "import seaborn as sns\n",
    "import matplotlib.pyplot as plt\n",
    "\n",
    "\n",
    "avg_tfidf_scores = np.mean(tfIdfMat.toarray(), axis=0)\n",
    "\n",
    "feature_scores = pd.DataFrame({'feature': feature_names, 'avg_tfidf': avg_tfidf_scores})\n",
    "\n",
    "sorted_feature_scores = feature_scores.sort_values(by='avg_tfidf', ascending=False)\n",
    "\n",
    "top_n = 50\n",
    "plt.figure(figsize=(12, 12))\n",
    "sns.barplot(data=sorted_feature_scores.head(top_n), x='avg_tfidf', y='feature')\n",
    "plt.xlabel('Average TF-IDF Score')\n",
    "plt.ylabel('Feature')\n",
    "plt.title(f'Top {top_n} Features by Average TF-IDF Score')\n",
    "plt.show()"
   ]
  },
  {
   "cell_type": "code",
   "execution_count": null,
   "id": "d29380e2-92b0-4901-be89-93018760e785",
   "metadata": {},
   "outputs": [],
   "source": []
  },
  {
   "cell_type": "code",
   "execution_count": 32,
   "id": "c9a634df-a21c-4442-955f-1a3df4cce680",
   "metadata": {},
   "outputs": [],
   "source": [
    "### add hand-coded features\n",
    "\n",
    "section_keywords = {\n",
    "    \"ALLERGY\": [\"allergy\", \"allergies\", \"allergic\", \"reaction\", \"hypersensitivity\", \"anaphylaxis\"],\n",
    "    \"ASSESSMENT\": [\"assessment\", \"evaluate\", \"evaluation\", \"examine\", \"analysis\", \"appraisal\"],\n",
    "    \"CC\": [\"chief complaint\", \"complaint\", \"symptom\", \"presenting\", \"concern\", \"issue\"],\n",
    "    \"DIAGNOSIS\": [\"diagnosis\", \"diagnose\", \"condition\", \"finding\", \"disease\", \"disorder\"],\n",
    "    \"DISPOSITION\": [\"disposition\", \"discharge\", \"admit\", \"transfer\", \"status\", \"outcome\"],\n",
    "    \"EDCOURSE\": [\"ed course\", \"emergency department\", \"treatment\", \"management\", \"care\", \"therapy\"],\n",
    "    \"EXAM\": [\"physical exam\", \"examination\", \"inspection\", \"auscultation\", \"palpation\", \"assessment\"],\n",
    "    \"FAM/SOCHX\": [\"family history\", \"social history\", \"lifestyle\", \"habits\", \"relationships\", \"environment\"],\n",
    "    \"GENHX\": [\"general history\", \"medical history\", \"background\", \"chronic\", \"illness\", \"disease\"],\n",
    "    \"GYNHX\": [\"gynecological history\", \"gynecology\", \"reproductive\", \"menstruation\", \"pregnancy\", \"contraception\"],\n",
    "    \"IMAGING\": [\"imaging\", \"x-ray\", \"ultrasound\", \"ct\", \"mri\", \"radiology\", \"scan\", \"radiograph\"],\n",
    "    \"IMMUNIZATIONS\": [\"immunizations\", \"vaccinations\", \"vaccine\", \"shot\", \"immunity\", \"inoculation\"],\n",
    "    \"LABS\": [\"labs\", \"laboratory\", \"blood work\", \"test results\", \"analysis\", \"diagnostics\"],\n",
    "    \"MEDICATIONS\": [\"medications\", \"drugs\", \"prescriptions\", \"meds\", \"pharmacotherapy\", \"pharmaceuticals\"],\n",
    "    \"OTHER_HISTORY\": [\"other history\", \"additional history\", \"miscellaneous\", \"unrelated\", \"extra\", \"supplementary\"],\n",
    "    \"PASTMEDICALHX\": [\"past medical history\", \"pmh\", \"previous conditions\", \"comorbidities\", \"illnesses\", \"disorders\"],\n",
    "    \"PASTSURGICAL\": [\"past surgical\", \"surgical history\", \"operations\", \"procedures\", \"interventions\", \"surgeries\"],\n",
    "    \"PLAN\": [\"plan\", \"treatment plan\", \"interventions\", \"actions\", \"approach\", \"strategy\"],\n",
    "    \"PROCEDURES\": [\"procedures\", \"interventions\", \"techniques\", \"operations\", \"methods\", \"practices\"],\n",
    "    \"ROS\": [\"review of systems\", \"ros\", \"systematic review\", \"organ systems\", \"body systems\", \"clinical review\"],\n",
    "}\n"
   ]
  },
  {
   "cell_type": "code",
   "execution_count": 33,
   "id": "0e32761a-ecdd-4f67-9726-e64f597bdfed",
   "metadata": {},
   "outputs": [],
   "source": [
    "# import numpy as np\n",
    "# import pandas as pd\n",
    "# from sklearn.base import BaseEstimator, TransformerMixin\n",
    "# from sklearn.feature_extraction.text import TfidfVectorizer\n",
    "# from sklearn.pipeline import FeatureUnion\n",
    "# from sklearn.svm import SVC\n",
    "# from sklearn.metrics import classification_report\n",
    "\n",
    "# class SectionKeywordTransformer(BaseEstimator, TransformerMixin):\n",
    "#     def __init__(self, section_keywords):\n",
    "#         self.section_keywords = section_keywords\n",
    "\n",
    "#     def fit(self, X, y=None):\n",
    "#         return self\n",
    "\n",
    "#     def transform(self, X):\n",
    "#         features = np.zeros((len(X), len(self.section_keywords)))\n",
    "\n",
    "#         for i, text in enumerate(X):\n",
    "#             for j, section in enumerate(self.section_keywords):\n",
    "#                 keywords = self.section_keywords[section]\n",
    "#                 for keyword in keywords:\n",
    "#                     if keyword in text.lower():\n",
    "#                         features[i, j] += 1\n",
    "\n",
    "#         return features\n",
    "\n",
    "    \n",
    "# feature_union = FeatureUnion([\n",
    "#     ('tfidf', TfidfVectorizer(stop_words='english')),\n",
    "#     ('section_keywords', SectionKeywordTransformer(section_keywords))\n",
    "# ])\n",
    "\n",
    "\n",
    "# X_train = feature_union.fit_transform(X_train)\n",
    "# X_valid = feature_union.transform(X_valid)\n",
    "\n",
    "\n",
    "# model_svm = SVC(C=1, kernel='linear') \n",
    "# model_svm.fit(X_train, y_train)\n",
    "# y_pred = model_svm.predict(X_valid)\n",
    "\n",
    "\n",
    "# report = classification_report(y_valid, y_pred)\n",
    "# print(report)"
   ]
  },
  {
   "cell_type": "code",
   "execution_count": null,
   "id": "6a271330-7267-4767-9182-6186cc0c7890",
   "metadata": {},
   "outputs": [],
   "source": []
  }
 ],
 "metadata": {
  "kernelspec": {
   "display_name": "Python 3 (ipykernel)",
   "language": "python",
   "name": "python3"
  },
  "language_info": {
   "codemirror_mode": {
    "name": "ipython",
    "version": 3
   },
   "file_extension": ".py",
   "mimetype": "text/x-python",
   "name": "python",
   "nbconvert_exporter": "python",
   "pygments_lexer": "ipython3",
   "version": "3.9.12"
  }
 },
 "nbformat": 4,
 "nbformat_minor": 5
}
